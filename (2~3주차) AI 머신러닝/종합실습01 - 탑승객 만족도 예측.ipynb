{
 "cells": [
  {
   "cell_type": "markdown",
   "metadata": {
    "id": "y1J78TFSRrSA"
   },
   "source": [
    "<center><img src='https://raw.githubusercontent.com/Jangrae/img/master/ml_python.png' width=600/></center>"
   ]
  },
  {
   "cell_type": "markdown",
   "metadata": {
    "id": "25G9HF0JPnCI"
   },
   "source": [
    "<center><img src = \"https://github.com/Jangrae/img/blob/master/airport2.png?raw=true\" width=800 /></center>"
   ]
  },
  {
   "cell_type": "markdown",
   "metadata": {
    "id": "elUlK1gCJHGh"
   },
   "source": [
    "# 실습 내용\n",
    "\n",
    "- 여러 알고리즘으로 만든 모델의 성능을 교차 검증을 통해 예측해 봅니다.\n",
    "- 성능이 좋을 것으로 예상되는 알고리즘으로 최적화된 성능의 모델을 만듭니다.\n",
    "- 튜닝된 모델의 성능을 평가합니다."
   ]
  },
  {
   "cell_type": "markdown",
   "metadata": {
    "id": "IciCQGJy5PO-"
   },
   "source": [
    "# 1.환경 준비\n",
    "\n",
    "- 기본 라이브러리와 대상 데이터를 가져와 이후 과정을 준비합니다."
   ]
  },
  {
   "cell_type": "code",
   "execution_count": null,
   "metadata": {
    "id": "jB0l6oqDsG8B"
   },
   "outputs": [],
   "source": [
    "# 라이브러리 불러오기\n",
    "import numpy as np\n",
    "import pandas as pd\n",
    "import matplotlib.pyplot as plt\n",
    "import seaborn as sns\n",
    "import joblib\n",
    "import warnings\n",
    "\n",
    "warnings.filterwarnings(action='ignore')\n",
    "%config InlineBackend.figure_format = 'retina'"
   ]
  },
  {
   "cell_type": "code",
   "execution_count": null,
   "metadata": {
    "id": "PXqyu_0LsG8C"
   },
   "outputs": [],
   "source": [
    "# 데이터 불러오기\n",
    "path = 'https://raw.githubusercontent.com/jangrae/csv/master/airline_satisfaction_small.csv'\n",
    "data = pd.read_csv(path)"
   ]
  },
  {
   "cell_type": "markdown",
   "metadata": {
    "id": "hDHOQrUbNGSK"
   },
   "source": [
    "# 2.데이터 이해\n",
    "\n",
    "- 분석할 데이터를 충분히 이해할 수 있도록 다양한 탐색 과정을 수행합니다."
   ]
  },
  {
   "cell_type": "markdown",
   "metadata": {
    "id": "eLRHwjMPPnCM"
   },
   "source": [
    "**데이터 설명**\n",
    "\n",
    "- id : 탑승자 고유 아이디\n",
    "- gender: 성별 (Female, Male)\n",
    "- customer_type: 고객 유형 (Loyal customer, disloyal customer)\n",
    "- age: 탑승자 나이\n",
    "- type_of_travel: 비행 목적(Personal Travel, Business Travel)\n",
    "- class: 등급 (Business, Eco, Eco Plus)\n",
    "- flight_distance: 비행 거리\n",
    "- inflight_wifi_service: 와이파이 서비스 만족도 (0:N/A; 1-5)\n",
    "- departure/arrival_time_convenient: 출발, 도착 시간 만족도 (0:N/A; 1-5)\n",
    "- ease_of_online_booking: 온라인 부킹 만족도 (0:N/A; 1-5)\n",
    "- gate_location: 게이트 위치 만족도 (0:N/A; 1-5)\n",
    "- food_and_drink: 식사와 음료 만족도 (0:N/A; 1-5)\n",
    "- online_boarding: 온라인 보딩 만족도 (0:N/A; 1-5)\n",
    "- seat_comfort: 좌석 편안함 만족도 (0:N/A; 1-5)\n",
    "- inflight_entertainment: 기내 엔터테인먼트 만족도 (0:N/A; 1-5)\n",
    "- on-board_service: 온 보드 서비스 만족도 (0:N/A; 1-5)\n",
    "- leg_room_service: 다리 공간 만족도 (0:N/A; 1-5)\n",
    "- baggage_handling: 수하물 처리 만족도 (0:N/A; 1-5)\n",
    "- check-in_service: 체크인 서비스 만족도 (0:N/A; 1-5)\n",
    "- inflight_service: 기내 서비스 만족도 (0:N/A; 1-5)\n",
    "- cleanliness: 청결 만족도 (0:N/A; 1-5)\n",
    "- departure_delay_in_minutes: 출발 지연 시간(분)\n",
    "- arrival_delay_in_minutes: 도착 지연 시간(분)\n",
    "- **satisfaction: 항공 만족도(1: Satisfaction, 0: Neutral or Dissatisfaction) - Target**"
   ]
  },
  {
   "cell_type": "code",
   "execution_count": null,
   "metadata": {
    "id": "Z1ahypi3irLz"
   },
   "outputs": [],
   "source": [
    "\n"
   ]
  },
  {
   "cell_type": "code",
   "execution_count": null,
   "metadata": {
    "id": "HGHlgWSwtSYh"
   },
   "outputs": [],
   "source": [
    "\n"
   ]
  },
  {
   "cell_type": "code",
   "execution_count": null,
   "metadata": {
    "id": "i9XjImisKzuP"
   },
   "outputs": [],
   "source": [
    "\n"
   ]
  },
  {
   "cell_type": "markdown",
   "metadata": {
    "id": "xyfvv8VLTvgu",
    "tags": []
   },
   "source": [
    "# 3.데이터 준비\n",
    "\n",
    "- 전처리 과정을 통해 머신러닝 알고리즘에 사용할 수 있는 형태의 데이터를 준비합니다."
   ]
  },
  {
   "cell_type": "markdown",
   "metadata": {
    "id": "mQyVvhnkPnCN"
   },
   "source": [
    "**1) 변수 제거**"
   ]
  },
  {
   "cell_type": "code",
   "execution_count": null,
   "metadata": {
    "id": "hlcnlCq9PnCN"
   },
   "outputs": [],
   "source": [
    "# 변수 제거: id, departure/arrival_time_convenient, gate_location, departure_delay_in_minutes\n",
    "\n"
   ]
  },
  {
   "cell_type": "markdown",
   "metadata": {
    "id": "-0xE9ipOPnCN"
   },
   "source": [
    "**2) 결측치 제거**"
   ]
  },
  {
   "cell_type": "code",
   "execution_count": null,
   "metadata": {
    "id": "YstrBoB9PnCN"
   },
   "outputs": [],
   "source": [
    "\n"
   ]
  },
  {
   "cell_type": "markdown",
   "metadata": {
    "id": "qbyV3l1m1b03"
   },
   "source": [
    "**3) x, y 분리**"
   ]
  },
  {
   "cell_type": "code",
   "execution_count": null,
   "metadata": {
    "id": "B1oiY7x4uO8m"
   },
   "outputs": [],
   "source": [
    "\n"
   ]
  },
  {
   "cell_type": "markdown",
   "metadata": {
    "id": "PxB1pHDXPnCO"
   },
   "source": [
    "**4) 가변수화**"
   ]
  },
  {
   "cell_type": "code",
   "execution_count": null,
   "metadata": {
    "id": "b1ITJDWUPnCO"
   },
   "outputs": [],
   "source": [
    "\n"
   ]
  },
  {
   "cell_type": "markdown",
   "metadata": {
    "id": "JyUW2Hxm1hIW"
   },
   "source": [
    "**5) 학습용, 평가용 데이터 분리**"
   ]
  },
  {
   "cell_type": "code",
   "execution_count": null,
   "metadata": {
    "id": "vGgJGFX5ZAn8"
   },
   "outputs": [],
   "source": [
    "\n"
   ]
  },
  {
   "cell_type": "markdown",
   "metadata": {
    "id": "X22iSF80PnCO"
   },
   "source": [
    "**6) 정규화**"
   ]
  },
  {
   "cell_type": "code",
   "execution_count": null,
   "metadata": {
    "id": "ErKzbKJIFL2B"
   },
   "outputs": [],
   "source": [
    "\n"
   ]
  },
  {
   "cell_type": "markdown",
   "metadata": {
    "id": "BYr1vtpd8uw4",
    "tags": []
   },
   "source": [
    "# 4.모델링\n",
    "\n",
    "- 하이퍼파라미터 최적화 과정을 통해 최선의 성능을 갖는 모델을 만들고 성능을 검증합니다.\n",
    "- 우선 사용할 라이브러리를 모두 불러옵니다."
   ]
  },
  {
   "cell_type": "code",
   "execution_count": null,
   "metadata": {
    "id": "0VmIPSbCPVS3"
   },
   "outputs": [],
   "source": [
    "\n"
   ]
  },
  {
   "cell_type": "markdown",
   "metadata": {
    "id": "9pqwajKFyK4F"
   },
   "source": [
    "**1) KNN**\n",
    "\n",
    "- 최적으로 파라미터로 학습된 KNN 모델을 만들고, 최고의 파라미터와 성능을 확인합니다.\n",
    "- 모델 이름은 model_knn으로 지정합니다."
   ]
  },
  {
   "cell_type": "code",
   "execution_count": null,
   "metadata": {
    "id": "ziotuce6yK4G"
   },
   "outputs": [],
   "source": [
    "\n"
   ]
  },
  {
   "cell_type": "markdown",
   "metadata": {
    "id": "IRaFjf90PVS4"
   },
   "source": [
    "**2) Decision Tree**\n",
    "\n",
    "- 최적으로 파라미터로 학습된 Decision Tree 모델을 만들고, 최고의 파라미터와 성능을 확인합니다.\n",
    "- 모델 이름은 model_dst로 지정합니다."
   ]
  },
  {
   "cell_type": "code",
   "execution_count": null,
   "metadata": {
    "id": "p2Vbbro92O_Q"
   },
   "outputs": [],
   "source": [
    "\n"
   ]
  },
  {
   "cell_type": "markdown",
   "metadata": {
    "id": "b0crO5W_ygXk"
   },
   "source": [
    "**3) Random Forest**\n",
    "\n",
    "- 최적으로 파라미터로 학습된 Random Forest 모델을 만들고, 최고의 파라미터와 성능을 확인합니다.\n",
    "- 모델 이름은 model_rdf로 지정합니다."
   ]
  },
  {
   "cell_type": "code",
   "execution_count": null,
   "metadata": {
    "id": "cUPJ1rMoPVS4"
   },
   "outputs": [],
   "source": [
    "\n"
   ]
  },
  {
   "cell_type": "markdown",
   "metadata": {
    "id": "W6z26_ck2O_Q"
   },
   "source": [
    "# 5.성능평가\n",
    "\n",
    "- 가장 좋은 성능을 보일 것으로 예상되는 모델로 평가를 진행합니다."
   ]
  },
  {
   "cell_type": "code",
   "execution_count": null,
   "metadata": {
    "id": "uX86Focu2O_Q"
   },
   "outputs": [],
   "source": [
    "\n"
   ]
  }
 ],
 "metadata": {
  "colab": {
   "provenance": []
  },
  "kernelspec": {
   "display_name": "Python 3",
   "language": "python",
   "name": "python3"
  },
  "language_info": {
   "codemirror_mode": {
    "name": "ipython",
    "version": 3
   },
   "file_extension": ".py",
   "mimetype": "text/x-python",
   "name": "python",
   "nbconvert_exporter": "python",
   "pygments_lexer": "ipython3",
   "version": "3.13.5"
  }
 },
 "nbformat": 4,
 "nbformat_minor": 4
}
