{
 "cells": [
  {
   "cell_type": "markdown",
   "metadata": {
    "id": "b3TDAdnvnSbh"
   },
   "source": [
    "<center><img src='https://raw.githubusercontent.com/Jangrae/img/master/title.png' width=500/></center>\n"
   ]
  },
  {
   "cell_type": "markdown",
   "metadata": {
    "id": "Rbbv5Z0f5jjC"
   },
   "source": [
    "\n",
    "# **단변량 분석 ① - 수치형**"
   ]
  },
  {
   "cell_type": "markdown",
   "metadata": {
    "id": "mVOYUVwYNrob"
   },
   "source": [
    "- 수치형 변수는 크기를 비교할 수 있는 연속적인 숫자를 갖는 변수입니다.\n",
    "- 수치형 변수는 값의 분포와 평균, 최댓값, 최솟값, 중앙값 등을 확인해 분석합니다."
   ]
  },
  {
   "cell_type": "markdown",
   "metadata": {
    "id": "hynlqeBw0M3n"
   },
   "source": [
    "<img src='https://raw.githubusercontent.com/Jangrae/img/master/var_01.png' width=600 align='left'/>"
   ]
  },
  {
   "cell_type": "markdown",
   "metadata": {
    "id": "c1uOWzZl_YZH"
   },
   "source": [
    "## **1.환경준비**\n",
    "\n",
    "- 사용할 라이브러리와 분석 대상 데이터를 불러옵니다."
   ]
  },
  {
   "cell_type": "code",
   "execution_count": null,
   "metadata": {
    "id": "ba319GIZlcFB"
   },
   "outputs": [],
   "source": [
    "import numpy as np\n",
    "import pandas as pd\n",
    "import matplotlib.pyplot as plt\n",
    "import seaborn as sns\n",
    "import warnings\n",
    "\n",
    "warnings.filterwarnings(action='ignore')\n",
    "%config InlineBackend.figure_format='retina'\n",
    "plt.rcParams['figure.figsize'] = (6, 4)"
   ]
  },
  {
   "cell_type": "code",
   "execution_count": null,
   "metadata": {
    "id": "GGiShK-RqnGf"
   },
   "outputs": [],
   "source": [
    "# Diabetes 데이터\n",
    "path = 'https://raw.githubusercontent.com/Jangrae/csv/master/diabetes2.csv'\n",
    "diabetes = pd.read_csv(path)\n",
    "\n",
    "# 확인\n",
    "diabetes.head()"
   ]
  },
  {
   "cell_type": "markdown",
   "metadata": {
    "id": "VjjG_iJ_qnGf"
   },
   "source": [
    "**📋 데이터 정보**\n",
    "\n",
    "피마 인디언 당뇨 데이터셋은 몇 명의 여성 피마 인디언의 진료 자료와 진단 후 5년 내 당뇨 발병 여부로 구성됨\n",
    "\n",
    "- Pregnancies: 임신 횟수\n",
    "- Glucose: 포도당, 피속에 있는 혈당 수치(mg/dL)(정상: 공복 시 70~100)\n",
    "- BloodPressure: 혈압(mm Hg)\n",
    "- BPStatus: Low(저혈압), Normal(정상), High(고혈압)\n",
    "- SkinThickness: 팔 삼두근 뒤쪽의 피하지방 측정값(mm)\n",
    "- Insulin: 혈청 인슐린(mu U/ml), 혈당 조절에 중요한 역할\n",
    "- BMI: 체질량지수(체중(kg)/키(m)^2)\n",
    "- BMIStatus: Underweight(저체중), Normal(정상), Overweight(과체중), Obese(비만)\n",
    "- DiabetesPedigreeFunction: 당뇨 내력 가중치 값\n",
    "- Age: 나이\n",
    "- Outcome: 당뇨병 여부(0 또는 1)\n",
    "\n",
    "**diabetes**\n",
    "\n",
    "- 당뇨병(糖尿病, diabetes)은 높은 혈당 수치가 오랜 기간 지속되는 대사 질환이다.\n",
    "- 혈당이 높을 때의 증상으로는 소변이 잦아지고, 갈증과 배고픔이 심해진다.\n",
    "- 이를 치료하지 않으면 다른 합병증을 유발할 수 있다.\n",
    "(출처: 위키백과)"
   ]
  },
  {
   "cell_type": "code",
   "execution_count": null,
   "metadata": {
    "id": "mln1ip8Eqvvi"
   },
   "outputs": [],
   "source": [
    "# AirQuality 데이터\n",
    "air = pd.read_csv('https://raw.githubusercontent.com/Jangrae/csv/master/airquality2.csv')\n",
    "air.head()"
   ]
  },
  {
   "cell_type": "markdown",
   "metadata": {
    "id": "70oTx7P0qvvh"
   },
   "source": [
    "**📋 데이터 정보**\n",
    "\n",
    "- Ozone: 오존 농도  \n",
    "- Solar.R: 태양복사량\n",
    "- Wind: 풍속\n",
    "- Temp: 기온\n",
    "- Date: 측정 년월일"
   ]
  },
  {
   "cell_type": "markdown",
   "metadata": {
    "id": "nwmAb_eGqD4v"
   },
   "source": [
    "## **2. 수치화**\n",
    "\n",
    "- 수치형 변수를 수치화해 분석할 때는 평균, 중앙값, 최빈값, 4분위수 등 대푯값을 사용합니다.\n",
    "- Pandas의 **describe()** 메소드를 사용해 수치형 변수의 통계 정보를 쉽게 확인할 수 있습니다."
   ]
  },
  {
   "cell_type": "markdown",
   "metadata": {
    "id": "qY83KTiYc0n9"
   },
   "source": [
    "### **2.1. 대푯값**\n",
    "\n",
    "- 우선 대푯값의 의미와 확인 방법을 살펴봅니다."
   ]
  },
  {
   "cell_type": "markdown",
   "metadata": {
    "id": "TSH5qe--sZsK"
   },
   "source": [
    "**1) 평균**\n",
    "\n",
    "- 가장 대표적인 대푯값이 평균입니다.\n",
    "- **mean()** 메소드로 평균을 구합니다."
   ]
  },
  {
   "cell_type": "code",
   "execution_count": null,
   "metadata": {
    "id": "2orVHYWcuI-_"
   },
   "outputs": [],
   "source": [
    "diabetes['BMI'].mean()"
   ]
  },
  {
   "cell_type": "markdown",
   "metadata": {
    "id": "VH6yv56lsfZR"
   },
   "source": [
    "**2) 중앙값(중위수, median)**\n",
    "\n",
    "- 데이터를 크기 순으로 나열한 상태에서 가운데 위치한 값을 중앙값이라고 합니다.\n",
    "- **median()** 메소드로 중앙값을 구합니다."
   ]
  },
  {
   "cell_type": "code",
   "execution_count": null,
   "metadata": {
    "id": "-iijsBv3ugA9"
   },
   "outputs": [],
   "source": [
    "diabetes['BMI'].median()"
   ]
  },
  {
   "cell_type": "markdown",
   "metadata": {
    "id": "aFytLj2tstrS"
   },
   "source": [
    "**3) 최빈값**\n",
    "\n",
    "- 데이터 중에서 가장 빈번하게 나타나는 값, 즉 빈도가 가장 높은 값을 최빈값이라고 합니다.\n",
    "- 같은 빈도의 값이 여럿 존재할 수 있으므로 최빈값은 여러 개 존재 할 수 있습니다.\n",
    "- **mode()** 메소드로 최빈값을 확인합니다."
   ]
  },
  {
   "cell_type": "code",
   "execution_count": null,
   "metadata": {
    "id": "lCVHNV9DsubB"
   },
   "outputs": [],
   "source": [
    "diabetes['BMIStatus'].mode()"
   ]
  },
  {
   "cell_type": "markdown",
   "metadata": {
    "id": "KNUjp4U0K7YD"
   },
   "source": [
    "- 실제 최빈값은 다음과 같이 인덱스를 사용해 조회합니다."
   ]
  },
  {
   "cell_type": "code",
   "execution_count": null,
   "metadata": {
    "id": "tAYT4GSpK7YD"
   },
   "outputs": [],
   "source": [
    "diabetes['BMIStatus'].mode()[0]"
   ]
  },
  {
   "cell_type": "markdown",
   "metadata": {
    "id": "vTDE0Dzxs01S"
   },
   "source": [
    "**4) 4분위수**\n",
    "\n",
    "- **describe()** 메소드로 4분위수를 확인할 수 있습니다."
   ]
  },
  {
   "cell_type": "markdown",
   "metadata": {
    "id": "0HGWIiwZ6qZy"
   },
   "source": [
    "<img src='https://raw.githubusercontent.com/jangrae/img/master/quartile2.png' width=700 align=\"left\"/>"
   ]
  },
  {
   "cell_type": "code",
   "execution_count": null,
   "metadata": {
    "id": "YNvEQWyqJS6H"
   },
   "outputs": [],
   "source": [
    "diabetes['BMI'].describe()"
   ]
  },
  {
   "cell_type": "markdown",
   "metadata": {
    "id": "1p_PfhMIK7YE"
   },
   "source": [
    "- 1사분위수(25%)를 Q1, 2사분위수(50%)를 Q2, 3사분위수(75%)를 Q3로 지칭합니다.\n",
    "- 다음과 같이 Q1, Q2, Q3 값을 개별적으로 확인할 수 있습니다."
   ]
  },
  {
   "cell_type": "code",
   "execution_count": null,
   "metadata": {
    "id": "fY_P2sR0K7YE"
   },
   "outputs": [],
   "source": [
    "print('Q1:', diabetes['BMI'].describe()['25%'])\n",
    "print('Q2:', diabetes['BMI'].describe()['50%'])\n",
    "print('Q3:', diabetes['BMI'].describe()['75%'])"
   ]
  },
  {
   "cell_type": "markdown",
   "metadata": {
    "id": "jMKBQrzZK7YE"
   },
   "source": [
    "- 참고로, 4사분위수(100%)를 Q4로 지칭합니다.\n",
    "- 4사분위수는 최댓값이므로 다음과 같이 Q4 값을 확인할 수 있습니다."
   ]
  },
  {
   "cell_type": "code",
   "execution_count": null,
   "metadata": {
    "id": "mHYmIc-8K7YE"
   },
   "outputs": [],
   "source": [
    "print('Q4:', diabetes['BMI'].describe()['max'])"
   ]
  },
  {
   "cell_type": "markdown",
   "metadata": {
    "id": "85KHqr0rhFdC"
   },
   "source": [
    "### **2.2. 기술통계 정보**\n",
    "\n",
    "- 기술통계 정보를 사용해 데이터프레임의 데이터를 이해합니다.\n",
    "- 데이터프레임에 대한 기술통계 정보를 **describe()** 메소드로 확인합니다.\n",
    "- 기본적으로 숫자형 변수에 대한 결과만 표시됩니다."
   ]
  },
  {
   "cell_type": "code",
   "execution_count": null,
   "metadata": {
    "id": "Qh8S5zkJtnjY"
   },
   "outputs": [],
   "source": [
    "diabetes.describe()"
   ]
  },
  {
   "cell_type": "markdown",
   "metadata": {
    "id": "Almn9m_opb8X"
   },
   "source": [
    "- 변수 하나에 대한 기술통계 정보를 **describe()** 메소드로 확인합니다."
   ]
  },
  {
   "cell_type": "code",
   "execution_count": null,
   "metadata": {
    "id": "2x7rQiS7sElT"
   },
   "outputs": [],
   "source": [
    "diabetes['Age'].describe()"
   ]
  },
  {
   "cell_type": "markdown",
   "metadata": {
    "id": "IxbiUfjIMQxX"
   },
   "source": [
    "- 다음과 같이 대상 변수를 리스트 형태로 전달해 데이터프레임 형태로 결과를 표시할 수 있습니다."
   ]
  },
  {
   "cell_type": "code",
   "execution_count": null,
   "metadata": {
    "id": "mtQsVzdDMLIg"
   },
   "outputs": [],
   "source": [
    "diabetes[['Age']].describe()"
   ]
  },
  {
   "cell_type": "markdown",
   "metadata": {
    "id": "RJA0YeMLMa00"
   },
   "source": [
    "- 다음과 같이 가로 세로 방향을 바꾸어 표시하면 내용을 이해하기가 더 쉽습니다."
   ]
  },
  {
   "cell_type": "code",
   "execution_count": null,
   "metadata": {
    "id": "-LMmVKnyMZYU"
   },
   "outputs": [],
   "source": [
    "diabetes[['BMI']].describe().T"
   ]
  },
  {
   "cell_type": "markdown",
   "metadata": {
    "id": "yrk10uJlZFS6"
   },
   "source": [
    "**🔍 해석**\n",
    "\n",
    "- BMI는 체질량지수를 의미\n",
    "- 전체 데이터는 768건\n",
    "- 전체 768건 중 BMI 값이 확인된 것은 757건\n",
    "- BMI 범위는 최소 18.2에서 최대 67.1까지이며, 일부 이상치 존재\n",
    "- 평균 BMI는 32.46으로, WHO 기준상 ‘비만’ 범주\n",
    "- BMI의 25%, 50%, 75% 분위값은 각각 27.5, 32.3, 36.6\n",
    "- BMI가 25 이상인 과체중/비만 인원이 전체의 상당 비율을 차지"
   ]
  },
  {
   "cell_type": "code",
   "execution_count": null,
   "metadata": {
    "id": "-UBRubyopb8X",
    "scrolled": true
   },
   "outputs": [],
   "source": [
    "diabetes[['Age']].describe().T"
   ]
  },
  {
   "cell_type": "markdown",
   "metadata": {
    "id": "O0LoKSipY-5y"
   },
   "source": [
    "**🔍 해석**\n",
    "\n",
    "- 768건 모두 나이 정보를 보유함 (결측치 없음)\n",
    "- 나이 범위는 최소 21세부터 최대 81세까지\n",
    "- 평균 나이는 약 33.24세로 비교적 젊은 연령대 중심\n",
    "- 표준편차가 약 11.76으로 연령 분포에 다양성이 있음\n",
    "- 나이 중앙값(50%)은 29세로 절반의 환자가 29세 이하\n",
    "- 사분위수 25%: 24세 이하, 75%: 41세 이하\n",
    "- 24세~41세 구간에 전체의 절반이 위치\n"
   ]
  },
  {
   "cell_type": "markdown",
   "metadata": {
    "id": "ns16E4en01BV"
   },
   "source": [
    "## **3.시각화**\n",
    "\n",
    "- 수치형 변수는 우선 값의 분포를 확인해야 합니다.\n",
    "- 값 분포를 확인하는 방법으로 Histogram, Density Plot, Box Plot이 대표적입니다."
   ]
  },
  {
   "cell_type": "markdown",
   "metadata": {
    "id": "3ltaI0D3qko9"
   },
   "source": [
    "### **3.1. Histogram**\n",
    "\n",
    "- Histogram은 데이터 분포를 확인하는 가장 기본적인 시각화 도구입니다.\n",
    "- **Matplotlib**의 **hist()** 함수로 Histogram을 그립니다."
   ]
  },
  {
   "cell_type": "code",
   "execution_count": null,
   "metadata": {
    "id": "0oKozK7-O7YJ"
   },
   "outputs": [],
   "source": [
    "plt.hist(x='BMI', data=diabetes)\n",
    "plt.xlabel('BMI')\n",
    "plt.ylabel('Frequency')\n",
    "plt.show()"
   ]
  },
  {
   "cell_type": "markdown",
   "metadata": {
    "id": "DGyPdn4lP9Et"
   },
   "source": [
    "- **Seaborn**의 **histplot()** 함수로 Histogram을 그립니다."
   ]
  },
  {
   "cell_type": "code",
   "execution_count": null,
   "metadata": {
    "id": "wlrmY8hLOdH3"
   },
   "outputs": [],
   "source": [
    "sns.histplot(x='BMI', data=diabetes)\n",
    "plt.show()"
   ]
  },
  {
   "cell_type": "code",
   "execution_count": null,
   "metadata": {
    "id": "1ggoNTRaRxWB"
   },
   "outputs": [],
   "source": [
    "sns.histplot(x='Age', data=diabetes)\n",
    "plt.show()"
   ]
  },
  {
   "cell_type": "markdown",
   "metadata": {
    "id": "h9wak3_f3MeE"
   },
   "source": [
    "- **bins** 옵션을 사용해 구간 개수를 적절히 지정합니다."
   ]
  },
  {
   "cell_type": "code",
   "execution_count": null,
   "metadata": {
    "id": "pFedUYxT3MQU"
   },
   "outputs": [],
   "source": [
    "sns.histplot(x='BMI', data=diabetes, bins=20)\n",
    "plt.show()"
   ]
  },
  {
   "cell_type": "markdown",
   "metadata": {
    "id": "7WD0PB06xCEs"
   },
   "source": [
    "### **3.2. Density Plot**\n",
    "\n",
    "- HIstogram은 bins 옵션에 지정한 구간 개수에 따라 전혀 다른 모양이 될 수 있습니다.\n",
    "- Density Plot을 사용해 이러한 문제를 해결할 수 있습니다.\n",
    "- Density Plot은 모든 점에서 데이터 밀도를 추정하는 커널밀도추정 방식을 사용합니다.\n",
    "- Density Plot 곡선 아래 면적은 1이 됩니다.\n",
    "- **Pandas**가 제공하는 **plot()** 메소드에 **kind='kde'** 를 지정해 Density Plot을 쉽게 그릴 수 있습니다."
   ]
  },
  {
   "cell_type": "code",
   "execution_count": null,
   "metadata": {
    "id": "15IiWH4MK7YG"
   },
   "outputs": [],
   "source": [
    "diabetes['BMI'].plot(kind='kde')\n",
    "plt.show()"
   ]
  },
  {
   "cell_type": "markdown",
   "metadata": {
    "id": "m1XyuxcI7W1p"
   },
   "source": [
    "- **Seaborn**의 **kdeplot()** 함수를 사용해 Density Plot을 그립니다."
   ]
  },
  {
   "cell_type": "code",
   "execution_count": null,
   "metadata": {
    "id": "2lEXL_yx18g3"
   },
   "outputs": [],
   "source": [
    "sns.kdeplot(x='BMI', data=diabetes)\n",
    "plt.show()"
   ]
  },
  {
   "cell_type": "markdown",
   "metadata": {
    "id": "JdYKN2PVzCIo"
   },
   "source": [
    "**📌 확률 밀도 함수**\n",
    "\n",
    "- 셀 수 있는 값의 분포, 즉 **이산 확률 분포**는 표로 표현 할 수 있습니다.\n",
    "- 예를 들면 주사위를 던져 1 ~ 6이 나올 수 있는 확률을 표로 표현할 수 있습니다.\n",
    "- 반면에 셀 수 없는 값의 분포, 즉 **연속 확률 분포**는 대상 값이 너무 많아 표로 표현할 수 없습니다.\n",
    "- 그래서 연속 확률 분포는 **함수**, 즉 **그래프**로 표현합니다.\n",
    "- 예를 들어 키가 140~180 사이인 학생들의 키 분포는 다음과 같이 표현할 수 있습니다."
   ]
  },
  {
   "cell_type": "markdown",
   "metadata": {
    "id": "TBG55rd-zT68"
   },
   "source": [
    "<img src='https://raw.githubusercontent.com/jangrae/img/master/density.png' width=500 align=\"left\"/>"
   ]
  },
  {
   "cell_type": "markdown",
   "metadata": {
    "id": "ctVVKKYKq1V7"
   },
   "source": [
    "- 만일 키가 a~b 사이일 확률을 구하고자 한다면 위 그래프에 색이 채워진 영역의 면적입니다.\n",
    "- 그 면적이 0.4라고 한다면, 이는 40%의 확률을 의미합니다.\n",
    "- 그래프 전체 면적은 1, 즉 100%가 됩니다.\n",
    "- 이때 사용된 함수를 **확률 밀도 함수(probability density function)** 라고 부릅니다."
   ]
  },
  {
   "cell_type": "markdown",
   "metadata": {
    "id": "v54-dA2sx13e"
   },
   "source": [
    "### **3.3. Box Plot**\n",
    "\n",
    "- Box Plot은 이해하기가 다소 어렵지만, 데이터 분포를 확인하는 유익한 시각화 도구입니다.\n",
    "- **Matplotlib**의 **boxplot()** 함수를 사용해 Box Plot을 그립니다."
   ]
  },
  {
   "cell_type": "code",
   "execution_count": null,
   "metadata": {
    "id": "KxxCBVpOVR6-"
   },
   "outputs": [],
   "source": [
    "plt.boxplot(x='BMI', data=diabetes[diabetes['BMI'].notna()])\n",
    "plt.show()"
   ]
  },
  {
   "cell_type": "markdown",
   "metadata": {
    "id": "CcnexkD-V0s5"
   },
   "source": [
    "- **주의**: 결측치가 있으면 그래프가 그려지지 않습니다."
   ]
  },
  {
   "cell_type": "code",
   "execution_count": null,
   "metadata": {
    "id": "lpblIsMQVuYh"
   },
   "outputs": [],
   "source": [
    "plt.boxplot(x='BMI', data=diabetes)\n",
    "plt.show()"
   ]
  },
  {
   "cell_type": "markdown",
   "metadata": {
    "id": "YM0zVdVWV3zK"
   },
   "source": [
    "- **Seaborn**의 **boxplot()** 함수를 사용해 Box Plot을 그립니다."
   ]
  },
  {
   "cell_type": "code",
   "execution_count": null,
   "metadata": {
    "id": "EPYG2_IgVbBD"
   },
   "outputs": [],
   "source": [
    "sns.boxplot(x='BMI', data=diabetes[diabetes['BMI'].notna()])\n",
    "plt.show()"
   ]
  },
  {
   "cell_type": "markdown",
   "metadata": {
    "id": "TTj5jextV7Xp"
   },
   "source": [
    "- 결측치가 있어도 그려집니다."
   ]
  },
  {
   "cell_type": "code",
   "execution_count": null,
   "metadata": {
    "id": "mxA9krN0VhxW"
   },
   "outputs": [],
   "source": [
    "sns.boxplot(x='BMI', data=diabetes)\n",
    "plt.show()"
   ]
  },
  {
   "cell_type": "markdown",
   "metadata": {
    "id": "jr97nvKNaiJ1"
   },
   "source": [
    "- 다음과 같이 세로 방향으로 표시할 수 있습니다."
   ]
  },
  {
   "cell_type": "code",
   "execution_count": null,
   "metadata": {
    "id": "33lrzTX8W_f_"
   },
   "outputs": [],
   "source": [
    "sns.boxplot(y='BMI', data=diabetes)\n",
    "plt.show()"
   ]
  },
  {
   "cell_type": "markdown",
   "metadata": {
    "id": "hc8ZKlF3znVP"
   },
   "source": [
    "**📌 박스플롯의 의미**"
   ]
  },
  {
   "cell_type": "markdown",
   "metadata": {
    "id": "ZahdNGAAO5fF"
   },
   "source": [
    "<img src='https://raw.githubusercontent.com/jangrae/img/master/boxplot03.png' width=800 align=\"left\"/>"
   ]
  },
  {
   "cell_type": "markdown",
   "metadata": {
    "id": "Fq5oXvYjbQFd"
   },
   "source": [
    "- Histogram과 Bax Plot을 같이 그리면 데이터를 더 쉽게 파악할 수 있습니다."
   ]
  },
  {
   "cell_type": "code",
   "execution_count": null,
   "metadata": {
    "id": "7yxZeFFp4eVe"
   },
   "outputs": [],
   "source": [
    "plt.figure(figsize=(8, 5))\n",
    "plt.subplot(2, 1, 1)\n",
    "sns.histplot(x='BMI', bins=20, data=diabetes)\n",
    "\n",
    "plt.subplot(2, 1, 2)\n",
    "sns.boxplot(x='BMI', data=diabetes)\n",
    "\n",
    "plt.tight_layout()\n",
    "plt.show()"
   ]
  },
  {
   "cell_type": "markdown",
   "metadata": {
    "id": "GDsv14de5wvz"
   },
   "source": [
    "### **3.4. 참고: 시계열 데이터 시각화**\n",
    "\n",
    "- 시계열 데이터는 보통 시간 축(x축)에 맞게 값들을 선 그래프로 표현합니다.\n",
    "- **Matplotlib**의 **plot()** 함수를 사용해 Line Plot을 그립니다."
   ]
  },
  {
   "cell_type": "code",
   "execution_count": null,
   "metadata": {
    "id": "5I9msV-T5wbb"
   },
   "outputs": [],
   "source": [
    "air['Date'] = pd.to_datetime(air['Date'])\n",
    "\n",
    "plt.plot('Date', 'Ozone', data=air, label='Ozone')\n",
    "plt.plot('Date', 'Temp', data=air, label='Temp')\n",
    "plt.xlabel('Date')\n",
    "plt.legend()\n",
    "plt.show()"
   ]
  },
  {
   "cell_type": "markdown",
   "metadata": {
    "id": "WnhVEz3RbPNs"
   },
   "source": [
    "- **Seaborn**의 **lineplot()** 함수를 사용해 Line Plot을 그립니다."
   ]
  },
  {
   "cell_type": "code",
   "execution_count": null,
   "metadata": {
    "id": "K6IIX2J-a0fu"
   },
   "outputs": [],
   "source": [
    "sns.lineplot(x='Date', y='Ozone', data=air, label='Ozone')\n",
    "sns.lineplot(x='Date', y='Temp', data=air, label='Temp')\n",
    "plt.legend()\n",
    "plt.show()"
   ]
  }
 ],
 "metadata": {
  "colab": {
   "provenance": []
  },
  "kernelspec": {
   "display_name": "Python 3",
   "language": "python",
   "name": "python3"
  },
  "language_info": {
   "codemirror_mode": {
    "name": "ipython",
    "version": 3
   },
   "file_extension": ".py",
   "mimetype": "text/x-python",
   "name": "python",
   "nbconvert_exporter": "python",
   "pygments_lexer": "ipython3",
   "version": "3.12.7"
  }
 },
 "nbformat": 4,
 "nbformat_minor": 4
}
