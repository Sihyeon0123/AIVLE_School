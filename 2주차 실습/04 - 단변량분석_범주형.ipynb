{
 "cells": [
  {
   "cell_type": "markdown",
   "metadata": {
    "id": "b3TDAdnvnSbh"
   },
   "source": [
    "<center><img src='https://raw.githubusercontent.com/Jangrae/img/master/title.png' width=500/></center>\n"
   ]
  },
  {
   "cell_type": "markdown",
   "metadata": {
    "id": "7trDmFHx5c-f"
   },
   "source": [
    "# **단변량 분석 ② - 범주형**"
   ]
  },
  {
   "cell_type": "markdown",
   "metadata": {
    "id": "qXUBfCONOdID"
   },
   "source": [
    "- 범주형 변수는 정해진 몇 개의 값이 여럿 모여있는 변수입니다.\n",
    "- 범주형 변수는 범줏값 각각이 몇 개씩 포함되어 있는지, 전체에서 각각이 차지하는 비율은 어떤지가 궁금합니다.\n",
    "- 즉 범주형 변수안에 포함된 범숫값 각각의 **빈도수**와 **비율**이 분석 대상이 됩니다."
   ]
  },
  {
   "cell_type": "markdown",
   "metadata": {
    "id": "DRI1GtQE0Wiz"
   },
   "source": [
    "<img src='https://raw.githubusercontent.com/Jangrae/img/master/var_02.png' width=600 align='left'/>"
   ]
  },
  {
   "cell_type": "markdown",
   "metadata": {
    "id": "IhrRKU-FlTVm"
   },
   "source": [
    "## **1. 환경준비**\n",
    "\n",
    "- 사용할 라이브러리와 분석 대상 데이터를 불러옵니다."
   ]
  },
  {
   "cell_type": "code",
   "execution_count": null,
   "metadata": {
    "id": "4YlBbXAn_jxR"
   },
   "outputs": [],
   "source": [
    "import numpy as np\n",
    "import pandas as pd\n",
    "import matplotlib.pyplot as plt\n",
    "import seaborn as sns\n",
    "import warnings\n",
    "\n",
    "warnings.filterwarnings(action='ignore')\n",
    "%config InlineBackend.figure_format='retina'\n",
    "plt.rcParams['figure.figsize'] = (6, 4)"
   ]
  },
  {
   "cell_type": "code",
   "execution_count": null,
   "metadata": {
    "id": "GGiShK-RqnGf"
   },
   "outputs": [],
   "source": [
    "# Diabetes 데이터\n",
    "path = 'https://raw.githubusercontent.com/Jangrae/csv/master/diabetes2.csv'\n",
    "diabetes = pd.read_csv(path)\n",
    "diabetes.head(10)"
   ]
  },
  {
   "cell_type": "markdown",
   "metadata": {
    "id": "mhAsPhn8lgnn"
   },
   "source": [
    "**📋 데이터 정보**\n",
    "\n",
    "피마 인디언 당뇨 데이터셋은 몇 명의 여성 피마 인디언의 진료 자료와 진단 후 5년 내 당뇨 발병 여부로 구성됨\n",
    "\n",
    "- Pregnancies: 임신 횟수\n",
    "- Glucose: 포도당, 피속에 있는 혈당 수치(mg/dL)(정상: 공복 시 70~100)\n",
    "- BloodPressure: 혈압(mm Hg)\n",
    "- BPStatus: Low(저혈압), Normal(정상), High(고혈압)\n",
    "- SkinThickness: 팔 삼두근 뒤쪽의 피하지방 측정값(mm)\n",
    "- Insulin: 혈청 인슐린(mu U/ml), 혈당 조절에 중요한 역할\n",
    "- BMI: 체질량지수(체중(kg)/키(m)^2)\n",
    "- BMIStatus: Underweight(저체중), Normal(정상), Overweight(과체중), Obese(비만)\n",
    "- DiabetesPedigreeFunction: 당뇨 내력 가중치 값\n",
    "- Age: 나이\n",
    "- Outcome: 당뇨병 여부(0 또는 1)\n",
    "\n",
    "**diabetes**\n",
    "\n",
    "- 당뇨병(糖尿病, diabetes)은 높은 혈당 수치가 오랜 기간 지속되는 대사 질환이다.\n",
    "- 혈당이 높을 때의 증상으로는 소변이 잦아지고, 갈증과 배고픔이 심해진다.\n",
    "- 이를 치료하지 않으면 다른 합병증을 유발할 수 있다.\n",
    "(출처: 위키백과)"
   ]
  },
  {
   "cell_type": "markdown",
   "metadata": {
    "id": "h1wBK63N7OvI"
   },
   "source": [
    "## **2. 수치화**\n",
    "\n",
    "- 범주형 변수는 범주별 빈도수와 비율을 기초 통계량을 통해 확인합니다.\n",
    "- Pandas의 **value_counts()** 메소드는 범주형 변수에 포함된 범줏값 각각의 개수를 카운트 해 줍니다.\n",
    "- **normalize=True** 옵션을 지정해 개수가 아닌 비율을 확인할 수 있습니다."
   ]
  },
  {
   "cell_type": "code",
   "execution_count": null,
   "metadata": {
    "id": "LKQYHsYN-14z"
   },
   "outputs": [],
   "source": [
    "print(diabetes['BMIStatus'].value_counts())\n",
    "print('-' * 25)\n",
    "print(diabetes['BMIStatus'].value_counts(normalize=True))"
   ]
  },
  {
   "cell_type": "markdown",
   "metadata": {
    "id": "5yvn-evr2TpT"
   },
   "source": [
    "**🔍 해석**\n",
    "    \n",
    "- 비만(Obese)이 전체에서 62.4%를 차지\n",
    "- 과체중(Overweight)이 23.6%, 정상(Normal)이 13.5%를 차지\n",
    "- 저체중(Underweight)은 0.5%로 매우 적은 비율\n"
   ]
  },
  {
   "cell_type": "code",
   "execution_count": null,
   "metadata": {
    "id": "RuUh8ldh_urh"
   },
   "outputs": [],
   "source": [
    "print(diabetes['BPStatus'].value_counts())\n",
    "print('-' * 25)\n",
    "print(diabetes['BPStatus'].value_counts(normalize=True))"
   ]
  },
  {
   "cell_type": "code",
   "execution_count": null,
   "metadata": {
    "id": "HlEHcvYH_nb5"
   },
   "outputs": [],
   "source": [
    "print(diabetes['Outcome'].value_counts())\n",
    "print('-' * 25)\n",
    "print(diabetes['Outcome'].value_counts(normalize=True))"
   ]
  },
  {
   "cell_type": "markdown",
   "metadata": {
    "id": "uvkAWxOX9us8"
   },
   "source": [
    "## **3. 시각화**\n",
    "\n",
    "- 범주형 변수는 Bar Plot과 Pie Chart를 사용해 시각화 할 수 있습니다.\n",
    "- 기초 통계량보다 좀더 쉽게 데이터를 이해할 수 있습니다."
   ]
  },
  {
   "cell_type": "markdown",
   "metadata": {
    "id": "rDXTimrr_90B"
   },
   "source": [
    "### **3.1. Bar Plot**\n",
    "\n",
    "- 범주 이름과 값이 필요하므로 집계 작업이 선행되어야 합니다.\n",
    "- 판다스의 **value_counts()** 를 사용하여 집계합니다.\n",
    "    - 집계 결과의 index: 범줏값 이름\n",
    "    - 집계 결과의 values: 값\n",
    "- 집계 결과를 **Matplotlib**의 **bar()** 함수로 시각화합니다."
   ]
  },
  {
   "cell_type": "markdown",
   "metadata": {
    "id": "W5ZSjuZCuyK8"
   },
   "source": [
    "- diabetes 데이터프레임의 BMIStatus 변수에 포함된 범줏값 각각의 개수를 집계합니다."
   ]
  },
  {
   "cell_type": "code",
   "execution_count": null,
   "metadata": {
    "id": "Rjysm4ibE6fd"
   },
   "outputs": [],
   "source": [
    "temp = diabetes['BMIStatus'].value_counts()\n",
    "print(temp.index)\n",
    "print(temp.values)"
   ]
  },
  {
   "cell_type": "markdown",
   "metadata": {
    "id": "dOuo8Vy4vS3t"
   },
   "source": [
    "- 위 집계 결과를 bar() 함수로 시각화합니다.\n",
    "- x축이 범줏값 이름, y축이 비교할 값입니다."
   ]
  },
  {
   "cell_type": "code",
   "execution_count": null,
   "metadata": {
    "id": "ogo4QMHHATZJ"
   },
   "outputs": [],
   "source": [
    "temp = diabetes['BMIStatus'].value_counts()\n",
    "\n",
    "plt.bar(x=temp.index.astype(str), height=temp.values)\n",
    "plt.show()"
   ]
  },
  {
   "cell_type": "markdown",
   "metadata": {
    "id": "5ZsmjDOzFB02"
   },
   "source": [
    "- **Seaborn**의 **countplot()** 함수를 사용하면 집계 과정 없이도 Bar Plot을 그릴 수 있습니다."
   ]
  },
  {
   "cell_type": "code",
   "execution_count": null,
   "metadata": {
    "id": "61LM30xvFEg1"
   },
   "outputs": [],
   "source": [
    "sns.countplot(x='BMIStatus', data=diabetes)\n",
    "plt.show()"
   ]
  },
  {
   "cell_type": "code",
   "execution_count": null,
   "metadata": {
    "id": "Wxy_-ALkAeF0"
   },
   "outputs": [],
   "source": [
    "sns.countplot(x='BPStatus', data=diabetes)\n",
    "plt.show()"
   ]
  },
  {
   "cell_type": "markdown",
   "metadata": {
    "id": "ypCiFedx_hkk"
   },
   "source": [
    "### **3.2. Pie Chart**\n",
    "\n",
    "- 범주별 값의 빈도수가 아닌 비율을 비교할 때는 Pie Chart를 사용합니다.\n",
    "- Pie Chart 역시 집계를 먼저 해야 합니다."
   ]
  },
  {
   "cell_type": "code",
   "execution_count": null,
   "metadata": {
    "id": "tfjGMPFuQtwn"
   },
   "outputs": [],
   "source": [
    "temp = diabetes['BMIStatus'].value_counts()\n",
    "print(temp.index)\n",
    "print(temp.values)"
   ]
  },
  {
   "cell_type": "code",
   "execution_count": null,
   "metadata": {
    "id": "kbNvoNKSOdIG"
   },
   "outputs": [],
   "source": [
    "temp = diabetes['BMIStatus'].value_counts()\n",
    "\n",
    "plt.pie(x=temp.values, labels=temp.index, autopct='%.2f%%')\n",
    "plt.show()"
   ]
  },
  {
   "cell_type": "code",
   "execution_count": null,
   "metadata": {
    "id": "FcOtWoUrfjpl"
   },
   "outputs": [],
   "source": [
    "temp = diabetes['BPStatus'].value_counts()\n",
    "\n",
    "plt.pie(x=temp.values, labels=temp.index, autopct='%.1f%%')\n",
    "plt.show()"
   ]
  },
  {
   "cell_type": "markdown",
   "metadata": {
    "id": "K3WMix48A1ng"
   },
   "source": [
    "- 다음 두 옵션을 사용해 파이의 각도와 방향을 조절해 봅니다.\n",
    "    \n",
    "    - startangle=90: 90도 부터 시작\n",
    "    - counterclock=False: 시계 방향으로"
   ]
  },
  {
   "cell_type": "code",
   "execution_count": null,
   "metadata": {
    "id": "tBml4tvzA13Z"
   },
   "outputs": [],
   "source": [
    "plt.pie(x=temp.values,\n",
    "        labels=temp.index,\n",
    "        autopct='%.2f%%',\n",
    "        startangle=90,\n",
    "        counterclock=False)\n",
    "plt.show()"
   ]
  },
  {
   "cell_type": "markdown",
   "metadata": {
    "id": "nH8-9uLeA7GA"
   },
   "source": [
    "- 다음 두 옵션을 사용해 파이 간격과 그림자를 조절해 봅니다.\n",
    "\n",
    "    - explode=[0.05, 0.05, 0.05]: 중심으로 부터 1, 2, 3을 얼마만큼 띄울지\n",
    "    - shadow=True: 그림자 추가\n",
    "\n"
   ]
  },
  {
   "cell_type": "code",
   "execution_count": null,
   "metadata": {
    "id": "bYso7JIGA8K4"
   },
   "outputs": [],
   "source": [
    "plt.pie(x=temp.values,\n",
    "        labels=temp.index,\n",
    "        autopct='%.2f%%',\n",
    "        startangle=90,\n",
    "        counterclock=False,\n",
    "        explode=[0.05, 0.05, 0.05],\n",
    "        shadow=True)\n",
    "plt.show()"
   ]
  },
  {
   "cell_type": "code",
   "execution_count": null,
   "metadata": {
    "id": "GerJT-W-I7gR"
   },
   "outputs": [],
   "source": [
    "colors = [\"#E63946\", \"#F4A261\", \"#2A9D8F\"]\n",
    "plt.pie(x=temp.values,\n",
    "        labels=temp.index,\n",
    "        autopct='%.2f%%',\n",
    "        startangle=90,\n",
    "        counterclock=False,\n",
    "        explode=[0.05, 0.05, 0.05],\n",
    "        shadow=True,\n",
    "        wedgeprops={'edgecolor': 'black', 'linewidth': 0.5},\n",
    "        colors= colors)\n",
    "plt.show()"
   ]
  }
 ],
 "metadata": {
  "colab": {
   "provenance": []
  },
  "kernelspec": {
   "display_name": "Python 3",
   "language": "python",
   "name": "python3"
  },
  "language_info": {
   "codemirror_mode": {
    "name": "ipython",
    "version": 3
   },
   "file_extension": ".py",
   "mimetype": "text/x-python",
   "name": "python",
   "nbconvert_exporter": "python",
   "pygments_lexer": "ipython3",
   "version": "3.12.7"
  }
 },
 "nbformat": 4,
 "nbformat_minor": 4
}
