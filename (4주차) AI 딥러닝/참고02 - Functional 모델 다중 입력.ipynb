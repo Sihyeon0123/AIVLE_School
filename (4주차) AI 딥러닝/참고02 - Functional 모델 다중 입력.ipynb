{
 "cells": [
  {
   "cell_type": "markdown",
   "metadata": {
    "id": "cVB9pY-v8uv5"
   },
   "source": [
    "# **Functional 모델: 다중입력**"
   ]
  },
  {
   "cell_type": "markdown",
   "metadata": {
    "id": "el9kBz3qG6WT"
   },
   "source": [
    "<center><img src = \"https://github.com/Jangrae/img/blob/master/carseats2.png?raw=true\" width=800/></center>"
   ]
  },
  {
   "cell_type": "markdown",
   "metadata": {
    "id": "BSFMLw3YI-gh"
   },
   "source": [
    "## **1. 환경준비**"
   ]
  },
  {
   "cell_type": "markdown",
   "metadata": {
    "id": "98K82DAxvX6I"
   },
   "source": [
    "### (1) 라이브러리 불러오기"
   ]
  },
  {
   "cell_type": "code",
   "execution_count": null,
   "metadata": {
    "id": "g8Y5OJ-II-gu",
    "tags": []
   },
   "outputs": [],
   "source": [
    "# 라이브러리 불러오기\n",
    "import pandas as pd\n",
    "import numpy as np\n",
    "import matplotlib.pyplot as plt\n",
    "import seaborn as sns\n",
    "\n",
    "from sklearn.model_selection import train_test_split\n",
    "from sklearn.metrics import *\n",
    "from sklearn.preprocessing import MinMaxScaler\n",
    "\n",
    "from tensorflow.keras.models import Sequential, Model\n",
    "from tensorflow.keras.layers import Input, Dense, concatenate\n",
    "from tensorflow.keras.backend import clear_session\n",
    "from tensorflow.keras.optimizers import Adam\n",
    "import warnings\n",
    "\n",
    "warnings.filterwarnings(action='ignore')\n",
    "%config InlineBackend.figure_format='retina'"
   ]
  },
  {
   "cell_type": "markdown",
   "metadata": {
    "id": "FlMWqM0e3Oo7"
   },
   "source": [
    "### (2) 함수 만들기"
   ]
  },
  {
   "cell_type": "code",
   "execution_count": null,
   "metadata": {
    "id": "eFc-lEcx3Oo8",
    "tags": []
   },
   "outputs": [],
   "source": [
    "# 함수 만들기\n",
    "def dl_history_plot(history):\n",
    "    plt.figure(figsize=(10, 6))\n",
    "    plt.plot(history['loss'], label='Train Loss', marker='.')\n",
    "    plt.plot(history['val_loss'], label='Validation Loss', marker='.')\n",
    "\n",
    "    plt.title('Learning Curve', size=15, pad=20)\n",
    "    plt.ylabel('Loss')\n",
    "    plt.xlabel('Epoch')\n",
    "    plt.legend()\n",
    "    plt.show()"
   ]
  },
  {
   "cell_type": "markdown",
   "metadata": {
    "id": "6wuqykgvviCc"
   },
   "source": [
    "### (3) 데이터 준비"
   ]
  },
  {
   "cell_type": "code",
   "execution_count": null,
   "metadata": {
    "id": "Dt_JyN2SYNFZ",
    "tags": []
   },
   "outputs": [],
   "source": [
    "# 데이터 준비\n",
    "path = 'https://raw.githubusercontent.com/Jangrae/csv/master/Carseats.csv'\n",
    "data = pd.read_csv(path)\n",
    "data.drop(columns='Education', inplace=True)\n",
    "data.head()"
   ]
  },
  {
   "cell_type": "markdown",
   "metadata": {
    "id": "Vsq000wDXRAR"
   },
   "source": [
    "**데이터 설명**\n",
    "\n",
    "- Sales: 각 지역 판매량(단위: 1,000개)\n",
    "- CompPrice: 경쟁사 가격(단위: 달러)\n",
    "- Income: 지역 평균 소득(단위: 1,000달러)\n",
    "- Advertising: 각 지역, 회사의 광고 예산(단위: 1,000달러)\n",
    "- Population: 지역 인구수(단위: 1,000명)\n",
    "- Price: 자사 지역별 판매가격\n",
    "- ShelveLoc: 진열상태\n",
    "- Age: 지역 인구의 평균 연령\n",
    "- Urban: 도심 지역 여부(Yes, No)\n",
    "- US: 매장이 미국에 있는지 여부(Yes, No)"
   ]
  },
  {
   "cell_type": "markdown",
   "metadata": {
    "id": "oICMvjzJJKbn"
   },
   "source": [
    "## **2. 데이터 전처리**\n",
    "\n",
    "- 아래 코드는 다중 입력 모델을 연습하기 위해 임의로 변수를 구분한 것입니다.\n",
    "- 성능과 상관없이 다중 입력 연습을 위한 것입니다."
   ]
  },
  {
   "cell_type": "markdown",
   "metadata": {
    "id": "NDcRpEjsqYvE"
   },
   "source": [
    "### (1) 기본 전처리"
   ]
  },
  {
   "cell_type": "code",
   "execution_count": null,
   "metadata": {
    "id": "ng_F9F6BpcRl",
    "tags": []
   },
   "outputs": [],
   "source": [
    "# x, y 분리\n",
    "target = 'Sales'\n",
    "x = data.drop(columns=target)\n",
    "y = data.loc[:, target]\n",
    "\n",
    "# 가변수화\n",
    "cat_cols = ['ShelveLoc', 'US', 'Urban']\n",
    "x = pd.get_dummies(x, columns=cat_cols, drop_first=True, dtype=int)\n",
    "\n",
    "# 학습용, 검증용 분리\n",
    "x_train, x_val, y_train, y_val = train_test_split(x, y, test_size=0.2, random_state=1)\n",
    "\n",
    "# 스케일링\n",
    "scaler = MinMaxScaler()\n",
    "x_train = scaler.fit_transform(x_train)\n",
    "x_val = scaler.transform(x_val)\n",
    "\n",
    "# 테이터프레임으로 변환\n",
    "x_train = pd.DataFrame(x_train, columns=x.columns)\n",
    "x_val = pd.DataFrame(x_val, columns=x.columns)"
   ]
  },
  {
   "cell_type": "code",
   "execution_count": null,
   "metadata": {
    "id": "nrdWhIA8qhSy",
    "tags": []
   },
   "outputs": [],
   "source": [
    "# 확인\n",
    "x_train.head()"
   ]
  },
  {
   "cell_type": "markdown",
   "metadata": {
    "id": "_HC1L6r2qbEY"
   },
   "source": [
    "### (2) 입력 나누기\n",
    "\n",
    "- 입력 1: 판매 관련 정보 - Advertising, Price, ShelveLoc, US, Urban, CompPrice\n",
    "- 입력 2: 외부 환경 정보 - Income, Population, Age\n"
   ]
  },
  {
   "cell_type": "code",
   "execution_count": null,
   "metadata": {
    "id": "xPjFUjJP4uqe",
    "tags": []
   },
   "outputs": [],
   "source": [
    "# 입력 1\n",
    "in_col = ['Advertising', 'Price', 'CompPrice', 'ShelveLoc_Good', 'ShelveLoc_Medium', 'US_Yes', 'Urban_Yes']\n",
    "x_train1 = x_train[in_col]\n",
    "x_val1 = x_val[in_col]\n",
    "x_train1.head()"
   ]
  },
  {
   "cell_type": "code",
   "execution_count": null,
   "metadata": {
    "id": "UFUAga6fsx2o",
    "tags": []
   },
   "outputs": [],
   "source": [
    "# 입력 2\n",
    "x_train2 = x_train.drop(columns=in_col)\n",
    "x_val2 = x_val.drop(columns=in_col)\n",
    "x_train2.head()"
   ]
  },
  {
   "cell_type": "markdown",
   "metadata": {
    "id": "F-gjdyri4M6H"
   },
   "source": [
    "## **3. 모델링**\n"
   ]
  },
  {
   "cell_type": "markdown",
   "metadata": {
    "id": "MVntlDfc_glm"
   },
   "source": [
    "### (1) 모델 선언"
   ]
  },
  {
   "cell_type": "code",
   "execution_count": null,
   "metadata": {
    "id": "cQPFSNBFtSf_",
    "tags": []
   },
   "outputs": [],
   "source": [
    "# 크기 확인\n",
    "print(x_train1.shape)\n",
    "print(x_train2.shape)"
   ]
  },
  {
   "cell_type": "code",
   "execution_count": null,
   "metadata": {
    "id": "sdpUtk8R5UKV",
    "tags": []
   },
   "outputs": [],
   "source": [
    "# 메모리 정리\n",
    "clear_session()\n",
    "\n",
    "# 입력\n",
    "i1 = Input(shape=(7, ))\n",
    "i2 = Input(shape=(3, ))\n",
    "\n",
    "# 입력을 위한 Hidden Layer\n",
    "h1_1 = Dense(10, activation='relu')(i1)\n",
    "h1_2 = Dense(20, activation='relu')(i2)\n",
    "\n",
    "# 두 Hidden Layer 결합\n",
    "cl = concatenate([h1_1, h1_2])\n",
    "\n",
    "# 추가 Hidden Layer\n",
    "h2 = Dense(8, activation='relu')(cl)\n",
    "\n",
    "# 출력 Layer\n",
    "ol = Dense(1)(h2)\n",
    "\n",
    "# 모델 선언\n",
    "model = Model(inputs=[i1, i2], outputs=ol)\n",
    "\n",
    "# 모델 요약\n",
    "model.summary()"
   ]
  },
  {
   "cell_type": "code",
   "execution_count": null,
   "metadata": {
    "id": "BTSvsXt7GkjC",
    "tags": []
   },
   "outputs": [],
   "source": [
    "# pydot 설치\n",
    "#!pip install pydot"
   ]
  },
  {
   "cell_type": "code",
   "execution_count": null,
   "metadata": {
    "id": "_BgJr9CiEh9M",
    "tags": []
   },
   "outputs": [],
   "source": [
    "# 모델 구조 시각화\n",
    "from IPython.display import SVG\n",
    "from tensorflow.keras.utils import model_to_dot\n",
    "\n",
    "dot = model_to_dot(model, show_shapes=True, rankdir='TD')\n",
    "dot.set_graph_defaults(dpi='60')\n",
    "SVG(dot.create(prog='dot', format='svg'))"
   ]
  },
  {
   "cell_type": "markdown",
   "metadata": {
    "id": "1_nLOoeY_knq"
   },
   "source": [
    "### (2) 모델 학습"
   ]
  },
  {
   "cell_type": "code",
   "execution_count": null,
   "metadata": {
    "id": "frsWqamEvP-1",
    "tags": []
   },
   "outputs": [],
   "source": [
    "# 학습 설정\n",
    "model.compile(optimizer=Adam(learning_rate=0.01), loss='mse')"
   ]
  },
  {
   "cell_type": "code",
   "execution_count": null,
   "metadata": {
    "id": "EthW0UbB_ry7",
    "tags": []
   },
   "outputs": [],
   "source": [
    "# 모델 학습\n",
    "hist = model.fit([x_train1, x_train2], y_train, epochs=50, validation_split=0.2, verbose=0).history"
   ]
  },
  {
   "cell_type": "code",
   "execution_count": null,
   "metadata": {
    "id": "L5rTuldA5-13",
    "tags": []
   },
   "outputs": [],
   "source": [
    "# 학습 곡선\n",
    "dl_history_plot(hist)"
   ]
  },
  {
   "cell_type": "markdown",
   "metadata": {
    "id": "f2c5ttW0v1WF"
   },
   "source": [
    "### (3) 예측 및 성능 평가"
   ]
  },
  {
   "cell_type": "code",
   "execution_count": null,
   "metadata": {
    "id": "--9-mPw1v1WF",
    "tags": []
   },
   "outputs": [],
   "source": [
    "# 예측\n",
    "y_pred = model.predict([x_val1, x_val2])\n",
    "\n",
    "# 성능 평가\n",
    "print('* MAE:', mean_absolute_error(y_val, y_pred))\n",
    "print('* R2 Score:', r2_score(y_val, y_pred))"
   ]
  },
  {
   "cell_type": "markdown",
   "metadata": {
    "id": "QZNYTNbN7Dks"
   },
   "source": [
    "## **5. 실습: 보스턴 집값 예측**\n",
    "\n",
    "- 보스턴 집값 데이터를 이용해서 입력을 2개로 나누고 모델링을 수행합니다.\n",
    "- 입력을 임의로 나눠도 좋고, 어떠한 관점을 가지고 나눠도 좋습니다.\n",
    "\n"
   ]
  },
  {
   "cell_type": "markdown",
   "metadata": {
    "id": "kGIiuzrv7Dkt"
   },
   "source": [
    "### (1) 데이터 전처리"
   ]
  },
  {
   "cell_type": "markdown",
   "metadata": {
    "id": "Xs1bAcp45ZFl"
   },
   "source": [
    "#### 1) 데이터 준비"
   ]
  },
  {
   "cell_type": "code",
   "execution_count": null,
   "metadata": {
    "id": "s1WkZDnP7Dkt",
    "tags": []
   },
   "outputs": [],
   "source": [
    "# 데이터 준비\n",
    "path = 'https://raw.githubusercontent.com/Jangrae/csv/master/boston.csv'\n",
    "data = pd.read_csv(path)\n",
    "data.drop(columns='black', inplace=True)\n",
    "data.head()"
   ]
  },
  {
   "cell_type": "markdown",
   "metadata": {
    "id": "MzaLipF4Ziq5"
   },
   "source": [
    "**데이터 설명**\n",
    "\n",
    "- crim: 자치시(Town)별 1인당 범죄율\n",
    "- zn: 25,000 평방피트를 초과하는 거주지역 비율\n",
    "- indus: 비소매상업지역이 점유하고 있는 토지 비율\n",
    "- chas: 찰스강에 대한 더미 변수 (= 1 강 경계에 위치; 0 나머지)\n",
    "- nox: 10ppm당 농축 일산화질소\n",
    "- rm: 주택 1가구당 평균 방 개수\n",
    "- age: 1940년 이전에 건축된 소유주택 비율\n",
    "- dis: 5개 보스턴 직업센터까지 접근성 지수\n",
    "- rad: 방사형 도로까지의 접근성 지수\n",
    "- tax: 10,000달러 당 재산세율\n",
    "- lstat: 모집단 하위 계층의 비율(%)\n",
    "- medv: 본인 소유 주택가격(중앙값) (단위:$1,000)"
   ]
  },
  {
   "cell_type": "markdown",
   "metadata": {
    "id": "CVS0BPkC5adW"
   },
   "source": [
    "#### 2) 기본 전처리"
   ]
  },
  {
   "cell_type": "code",
   "execution_count": null,
   "metadata": {
    "id": "L7VvSOWX5brK",
    "tags": []
   },
   "outputs": [],
   "source": [
    "# x, y 분리\n",
    "target = 'medv'\n",
    "x = data.drop(columns=target)\n",
    "y = data.loc[:, target]\n",
    "\n",
    "# 학습용, 검증용 분리\n",
    "x_train, x_val, y_train, y_val = train_test_split(x, y, test_size=0.2, random_state=1)\n",
    "\n",
    "# 스케일링\n",
    "scaler = MinMaxScaler()\n",
    "x_train = scaler.fit_transform(x_train)\n",
    "x_val = scaler.transform(x_val)\n",
    "\n",
    "# 데이터프레임으로 변환\n",
    "x_train = pd.DataFrame(x_train, columns=x.columns)\n",
    "x_val = pd.DataFrame(x_val, columns=x.columns)"
   ]
  },
  {
   "cell_type": "code",
   "execution_count": null,
   "metadata": {
    "id": "TUdJ8Ab65899",
    "tags": []
   },
   "outputs": [],
   "source": [
    "# 확인\n",
    "x_train.head()"
   ]
  },
  {
   "cell_type": "markdown",
   "metadata": {
    "id": "O2cdGC9j5h-x"
   },
   "source": [
    "#### 3) 입력 나누기"
   ]
  },
  {
   "cell_type": "code",
   "execution_count": null,
   "metadata": {
    "id": "qwELUR-o5jUF",
    "tags": []
   },
   "outputs": [],
   "source": [
    "# 입력 1:\n",
    "in_col = [ ]\n",
    "\n",
    "x_train1 = x_train[in_col]\n",
    "x_val1 = x_val[in_col]\n",
    "\n",
    "# 확인\n",
    "x_train1.head()"
   ]
  },
  {
   "cell_type": "code",
   "execution_count": null,
   "metadata": {
    "id": "ba6erNMB63t_",
    "tags": []
   },
   "outputs": [],
   "source": [
    "# 입력 2:\n",
    "x_train2 = x_train.drop(columns=in_col)\n",
    "x_val2 = x_val.drop(columns=in_col)\n",
    "\n",
    "# 확인\n",
    "x_train2.head()"
   ]
  },
  {
   "cell_type": "code",
   "execution_count": null,
   "metadata": {
    "id": "Ech8kzvJBFgx",
    "tags": []
   },
   "outputs": [],
   "source": [
    "# 크기 확인\n",
    "print(x_train1.shape)\n",
    "print(x_train2.shape)"
   ]
  },
  {
   "cell_type": "markdown",
   "metadata": {
    "id": "4lTS_ghY7Dku"
   },
   "source": [
    "### (2) 모델링"
   ]
  },
  {
   "cell_type": "markdown",
   "metadata": {
    "id": "bX2pYZpH7RAP"
   },
   "source": [
    "#### 1) 모델 선언"
   ]
  },
  {
   "cell_type": "code",
   "execution_count": null,
   "metadata": {
    "id": "UtyXhe7V6_rC",
    "tags": []
   },
   "outputs": [],
   "source": [
    "# 메모리 정리\n",
    "clear_session()\n",
    "\n",
    "# 입력\n",
    "i1 =\n",
    "i2 =\n",
    "\n",
    "# 첫 번째 입력을 위한 Hidden Layer\n",
    "h1_1 =\n",
    "h1_2 =\n",
    "\n",
    "# 두 Hidden Layer 결합\n",
    "cl =\n",
    "\n",
    "# 추가 Hidden Layer\n",
    "h2 =\n",
    "\n",
    "# 출력 Layer\n",
    "ol =\n",
    "\n",
    "# 모델 선언\n",
    "model = Model(inputs=[i1, i2], outputs=ol)\n",
    "\n",
    "# 모델 요약\n",
    "model.summary()"
   ]
  },
  {
   "cell_type": "code",
   "execution_count": null,
   "metadata": {
    "id": "OquLS8lwFeQY",
    "tags": []
   },
   "outputs": [],
   "source": [
    "# 모델 구조 시각화\n",
    "from IPython.display import SVG\n",
    "from tensorflow.keras.utils import model_to_dot\n",
    "\n",
    "dot = model_to_dot(model, show_shapes=True)\n",
    "dot.set_graph_defaults(dpi='60')\n",
    "SVG(dot.create(prog='dot', format='svg'))"
   ]
  },
  {
   "cell_type": "markdown",
   "metadata": {
    "id": "G2u11Mpb7S9_"
   },
   "source": [
    "#### 2) 모델 학습"
   ]
  },
  {
   "cell_type": "code",
   "execution_count": null,
   "metadata": {
    "id": "UJ0_XVw99EXS",
    "tags": []
   },
   "outputs": [],
   "source": [
    "# 학습 설정\n",
    "model.compile(optimizer=Adam(learning_rate=0.01), loss='mse')"
   ]
  },
  {
   "cell_type": "code",
   "execution_count": null,
   "metadata": {
    "id": "BH8H53crCIVw",
    "tags": []
   },
   "outputs": [],
   "source": [
    "# 모델 학습\n",
    "hist = model.fit([x_train1, x_train2], y_train, epochs=20, validation_split=0.2, verbose=0).history"
   ]
  },
  {
   "cell_type": "code",
   "execution_count": null,
   "metadata": {
    "id": "r_SpxydQ7YcM",
    "tags": []
   },
   "outputs": [],
   "source": [
    "# 학습 곡선\n",
    "dl_history_plot(hist)"
   ]
  },
  {
   "cell_type": "markdown",
   "metadata": {
    "id": "zFdH-xde7YcN"
   },
   "source": [
    "#### 3) 예측 및 성능 평가"
   ]
  },
  {
   "cell_type": "code",
   "execution_count": null,
   "metadata": {
    "id": "QQasO4fj7YcN",
    "tags": []
   },
   "outputs": [],
   "source": [
    "# 예측\n",
    "y_pred = model.predict([x_val1, x_val2])\n",
    "\n",
    "# 성능 평가\n",
    "print('* MAE:', mean_absolute_error(y_val, y_pred))\n",
    "print('* R2 Score:', r2_score(y_val, y_pred))"
   ]
  }
 ],
 "metadata": {
  "accelerator": "GPU",
  "colab": {
   "gpuType": "T4",
   "provenance": []
  },
  "kernelspec": {
   "display_name": "Python 3",
   "language": "python",
   "name": "python3"
  },
  "language_info": {
   "codemirror_mode": {
    "name": "ipython",
    "version": 3
   },
   "file_extension": ".py",
   "mimetype": "text/x-python",
   "name": "python",
   "nbconvert_exporter": "python",
   "pygments_lexer": "ipython3",
   "version": "3.13.5"
  }
 },
 "nbformat": 4,
 "nbformat_minor": 4
}
