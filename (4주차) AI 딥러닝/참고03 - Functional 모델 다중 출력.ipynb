{
 "cells": [
  {
   "cell_type": "markdown",
   "metadata": {
    "id": "cVB9pY-v8uv5"
   },
   "source": [
    "# **Functional 모델: 다중출력**"
   ]
  },
  {
   "cell_type": "markdown",
   "metadata": {
    "id": "Hbjz42iQG_3C"
   },
   "source": [
    "<center><img src = \"https://github.com/Jangrae/img/blob/master/carseats2.png?raw=true\" width=800/></center>"
   ]
  },
  {
   "cell_type": "markdown",
   "metadata": {
    "id": "BSFMLw3YI-gh"
   },
   "source": [
    "## **1. 환경준비**"
   ]
  },
  {
   "cell_type": "markdown",
   "metadata": {
    "id": "98K82DAxvX6I"
   },
   "source": [
    "### (1) 라이브러리 불러오기"
   ]
  },
  {
   "cell_type": "code",
   "execution_count": null,
   "metadata": {
    "id": "g8Y5OJ-II-gu",
    "tags": []
   },
   "outputs": [],
   "source": [
    "# 라이브러리 불러오기\n",
    "import pandas as pd\n",
    "import numpy as np\n",
    "import matplotlib.pyplot as plt\n",
    "import seaborn as sns\n",
    "\n",
    "from sklearn.model_selection import train_test_split\n",
    "from sklearn.metrics import *\n",
    "from sklearn.preprocessing import MinMaxScaler\n",
    "\n",
    "from tensorflow.keras.models import Sequential, Model\n",
    "from tensorflow.keras.layers import Input, Dense, concatenate\n",
    "from tensorflow.keras.backend import clear_session\n",
    "from tensorflow.keras.optimizers import Adam\n",
    "\n",
    "%config InlineBackend.figure_format='retina'"
   ]
  },
  {
   "cell_type": "markdown",
   "metadata": {
    "id": "FlMWqM0e3Oo7"
   },
   "source": [
    "### (2) 함수 만들기"
   ]
  },
  {
   "cell_type": "code",
   "execution_count": null,
   "metadata": {
    "id": "eFc-lEcx3Oo8",
    "tags": []
   },
   "outputs": [],
   "source": [
    "# 함수 만들기\n",
    "def dl_history_plot(history):\n",
    "    plt.figure(figsize=(10, 6))\n",
    "    plt.plot(history['loss'], label='Train Loss', marker='.')\n",
    "    plt.plot(history['val_loss'], label='Validation Loss', marker='.')\n",
    "\n",
    "    plt.title('Learning Curve', size=15, pad=20)\n",
    "    plt.ylabel('Loss')\n",
    "    plt.xlabel('Epoch')\n",
    "    plt.legend()\n",
    "    plt.show()"
   ]
  },
  {
   "cell_type": "markdown",
   "metadata": {
    "id": "6wuqykgvviCc"
   },
   "source": [
    "### (3) 데이터 준비"
   ]
  },
  {
   "cell_type": "code",
   "execution_count": null,
   "metadata": {
    "id": "wbN2b33xcYvv",
    "tags": []
   },
   "outputs": [],
   "source": [
    "# 데이터 준비\n",
    "path = 'https://raw.githubusercontent.com/Jangrae/csv/master/Carseats.csv'\n",
    "data = pd.read_csv(path)\n",
    "data.drop(columns='Education', inplace=True)\n",
    "data.head()"
   ]
  },
  {
   "cell_type": "markdown",
   "metadata": {
    "id": "iqbO0-fpbKLr"
   },
   "source": [
    "**데이터 설명**\n",
    "\n",
    "- Sales: 각 지역 판매량(단위: 1,000개)\n",
    "- CompPrice: 경쟁사 가격(단위: 달러)\n",
    "- Income: 지역 평균 소득(단위: 1,000달러)\n",
    "- Advertising: 각 지역, 회사의 광고 예산(단위: 1,000달러)\n",
    "- Population: 지역 인구수(단위: 1,000명)\n",
    "- Price: 자사 지역별 판매가격\n",
    "- ShelveLoc: 진열상태\n",
    "- Age: 지역 인구의 평균 연령\n",
    "- Urban: 도심 지역 여부(Yes, No)\n",
    "- US: 매장이 미국에 있는지 여부(Yes, No)"
   ]
  },
  {
   "cell_type": "markdown",
   "metadata": {
    "id": "oICMvjzJJKbn"
   },
   "source": [
    "## **2. 데이터 전처리**"
   ]
  },
  {
   "cell_type": "markdown",
   "metadata": {
    "id": "y9Q6jR6OZjUk"
   },
   "source": [
    "### (1) 데이터 준비"
   ]
  },
  {
   "cell_type": "code",
   "execution_count": null,
   "metadata": {
    "id": "FA-PnUpcLqXN",
    "tags": []
   },
   "outputs": [],
   "source": [
    "# x, y 분리\n",
    "target1 = 'Sales'\n",
    "target2 = 'US'\n",
    "data[target2] = np.where(data[target2] == 'Yes', 1, 0)"
   ]
  },
  {
   "cell_type": "markdown",
   "metadata": {
    "id": "nOF9fSLQugGf"
   },
   "source": [
    "### (2) 가변수화"
   ]
  },
  {
   "cell_type": "code",
   "execution_count": null,
   "metadata": {
    "id": "JXG5cAFRyqjU",
    "tags": []
   },
   "outputs": [],
   "source": [
    "# 가변수화\n",
    "cat_cols = ['ShelveLoc',  'Urban']\n",
    "data = pd.get_dummies(data, columns=cat_cols, drop_first=True, dtype=int)"
   ]
  },
  {
   "cell_type": "markdown",
   "metadata": {
    "id": "KsGGC-a4vpar"
   },
   "source": [
    "### (3) 데이터 분할"
   ]
  },
  {
   "cell_type": "code",
   "execution_count": null,
   "metadata": {
    "id": "7ilUcIlvvrqR",
    "tags": []
   },
   "outputs": [],
   "source": [
    "# 학습용, 검증용 분리\n",
    "train, val = train_test_split(data, test_size=0.2, random_state=1)"
   ]
  },
  {
   "cell_type": "code",
   "execution_count": null,
   "metadata": {
    "id": "cPwvMS6xZuDd",
    "tags": []
   },
   "outputs": [],
   "source": [
    "# 출력 나누기\n",
    "x_train = train.drop(columns=[target1, target2])\n",
    "y_train1 = train.loc[:, target1]\n",
    "y_train2 = train.loc[:, target2]\n",
    "\n",
    "x_val = val.drop(columns=[target1, target2])\n",
    "y_val1 = val.loc[:, target1]\n",
    "y_val2 = val.loc[:, target2]"
   ]
  },
  {
   "cell_type": "markdown",
   "metadata": {
    "id": "MXUC5Yi3um81"
   },
   "source": [
    "### (4) 스케일링"
   ]
  },
  {
   "cell_type": "code",
   "execution_count": null,
   "metadata": {
    "id": "9bly3GLif1eP",
    "tags": []
   },
   "outputs": [],
   "source": [
    "# 스케일링\n",
    "scaler = MinMaxScaler()\n",
    "x_train = scaler.fit_transform(x_train)\n",
    "x_val = scaler.transform(x_val)"
   ]
  },
  {
   "cell_type": "markdown",
   "metadata": {
    "id": "or87og8ocYvw"
   },
   "source": [
    "## **3. 모델링**"
   ]
  },
  {
   "cell_type": "markdown",
   "metadata": {
    "id": "8AeAVsgw6Q1C"
   },
   "source": [
    "### (1) 모델 선언"
   ]
  },
  {
   "cell_type": "code",
   "execution_count": null,
   "metadata": {
    "id": "NIKpMyGlabE4",
    "tags": []
   },
   "outputs": [],
   "source": [
    "# 메모리 정리\n",
    "clear_session()\n",
    "\n",
    "# 입력 Feature 수\n",
    "n_feature = x_train.shape[1]\n",
    "\n",
    "# 입력\n",
    "il = Input(shape=(n_feature, ))\n",
    "\n",
    "# Hidden Layer 선언\n",
    "h1 = Dense(32, activation='relu')(il)\n",
    "h2 = Dense(16, activation='relu')(h1)\n",
    "\n",
    "# 첫 번째 Output Layer 선언\n",
    "h3_1 = Dense(4, activation='relu')(h2)\n",
    "o1 = Dense(1)(h3_1)\n",
    "\n",
    "# 두 번째 Output Layer 선언\n",
    "h3_2 = Dense(4, activation='relu')(h2)\n",
    "o2 = Dense(1, activation='sigmoid')(h3_2)\n",
    "\n",
    "# 모델 선언\n",
    "model = Model(inputs=il, outputs=[o1, o2])\n",
    "\n",
    "# 모델 요약\n",
    "model.summary()"
   ]
  },
  {
   "cell_type": "code",
   "execution_count": null,
   "metadata": {
    "id": "X5kuaX8VbvVx",
    "tags": []
   },
   "outputs": [],
   "source": [
    "# 모델 구조 시각화\n",
    "from IPython.display import SVG\n",
    "from tensorflow.keras.utils import model_to_dot\n",
    "\n",
    "dot = model_to_dot(model, show_shapes=True, rankdir='TD')\n",
    "dot.set_graph_defaults(dpi='60')\n",
    "SVG(dot.create(prog='dot', format='svg'))"
   ]
  },
  {
   "cell_type": "markdown",
   "metadata": {
    "id": "Sg5XlbcW0w2y"
   },
   "source": [
    "### (2) 모델 학습"
   ]
  },
  {
   "cell_type": "code",
   "execution_count": null,
   "metadata": {
    "id": "iEZWr_jNwCpr",
    "tags": []
   },
   "outputs": [],
   "source": [
    "# 학습 설정\n",
    "model.compile(optimizer=Adam(learning_rate=0.01), loss=['mse', 'binary_crossentropy'])"
   ]
  },
  {
   "cell_type": "code",
   "execution_count": null,
   "metadata": {
    "id": "aipf0usJ5l9u",
    "tags": []
   },
   "outputs": [],
   "source": [
    "# 모델 학습\n",
    "hist = model.fit(x_train, [y_train1, y_train2], epochs=50, validation_split=0.2, verbose=0).history"
   ]
  },
  {
   "cell_type": "code",
   "execution_count": null,
   "metadata": {
    "id": "T9plSoBwwCh8",
    "tags": []
   },
   "outputs": [],
   "source": [
    "# 학습 곡선\n",
    "dl_history_plot(hist)"
   ]
  },
  {
   "cell_type": "markdown",
   "metadata": {
    "id": "hVa3Z88902gU"
   },
   "source": [
    "### (3) 예측 및 성능 평가"
   ]
  },
  {
   "cell_type": "code",
   "execution_count": null,
   "metadata": {
    "id": "PTzZV-_DwCY3",
    "tags": []
   },
   "outputs": [],
   "source": [
    "# 예측\n",
    "y_pred = model.predict(x_val)"
   ]
  },
  {
   "cell_type": "code",
   "execution_count": null,
   "metadata": {
    "id": "01In1w22dZOj",
    "tags": []
   },
   "outputs": [],
   "source": [
    "# 성능 평가 #1\n",
    "print('Sales Prediction:')\n",
    "print('* MAE:', mean_absolute_error(y_val1, y_pred[0]))\n",
    "print('* R2:', r2_score(y_val1, y_pred[0]))"
   ]
  },
  {
   "cell_type": "code",
   "execution_count": null,
   "metadata": {
    "id": "k7gcMPFTdgFr",
    "tags": []
   },
   "outputs": [],
   "source": [
    "# 성능 평가 #2\n",
    "y_pred2 = np.where(y_pred[1] > 0.5, 1, 0)\n",
    "print('US Prediction:')\n",
    "print(confusion_matrix(y_val2, y_pred2))\n",
    "print(classification_report(y_val2, y_pred2))"
   ]
  }
 ],
 "metadata": {
  "accelerator": "GPU",
  "colab": {
   "gpuType": "T4",
   "provenance": []
  },
  "kernelspec": {
   "display_name": "Python 3",
   "language": "python",
   "name": "python3"
  },
  "language_info": {
   "codemirror_mode": {
    "name": "ipython",
    "version": 3
   },
   "file_extension": ".py",
   "mimetype": "text/x-python",
   "name": "python",
   "nbconvert_exporter": "python",
   "pygments_lexer": "ipython3",
   "version": "3.13.5"
  }
 },
 "nbformat": 4,
 "nbformat_minor": 4
}
