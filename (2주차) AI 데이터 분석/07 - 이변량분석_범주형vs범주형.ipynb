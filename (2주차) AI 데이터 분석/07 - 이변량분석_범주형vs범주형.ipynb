{
 "cells": [
  {
   "cell_type": "markdown",
   "metadata": {
    "id": "b3TDAdnvnSbh"
   },
   "source": [
    "<center><img src='https://raw.githubusercontent.com/Jangrae/img/master/title.png' width=500/></center>\n"
   ]
  },
  {
   "cell_type": "markdown",
   "metadata": {
    "id": "wYG9wzjY62PD"
   },
   "source": [
    "# **이변량 분석 ③ - 범주형  → 범주형**"
   ]
  },
  {
   "cell_type": "markdown",
   "metadata": {
    "id": "EnlYouStN0Le"
   },
   "source": [
    "- 시각화와 수치화 방법으로 두 범주형 변수 간 관계를 분석합니다."
   ]
  },
  {
   "cell_type": "markdown",
   "metadata": {
    "id": "hynlqeBw0M3n"
   },
   "source": [
    "<img src='https://raw.githubusercontent.com/Jangrae/img/master/two_var_03.png' width=600 align='left'/>"
   ]
  },
  {
   "cell_type": "markdown",
   "metadata": {
    "id": "0SJP-uYxN0Lk"
   },
   "source": [
    "## **1. 환경준비**\n",
    "\n",
    "- 사용할 라이브러리와 분석 대상 데이터를 읽어옵니다."
   ]
  },
  {
   "cell_type": "code",
   "execution_count": 1,
   "metadata": {
    "id": "Sma8Fku5N0Ll"
   },
   "outputs": [],
   "source": [
    "import numpy as np\n",
    "import pandas as pd\n",
    "import random as rd\n",
    "import matplotlib.pyplot as plt\n",
    "import seaborn as sns\n",
    "from statsmodels.graphics.mosaicplot import mosaic\n",
    "import scipy.stats as spst\n",
    "import warnings\n",
    "\n",
    "warnings.filterwarnings(action='ignore')\n",
    "%config InlineBackend.figure_format = 'retina'\n",
    "plt.rcParams['figure.figsize'] = (6, 4)"
   ]
  },
  {
   "cell_type": "code",
   "execution_count": 2,
   "metadata": {
    "id": "si-trqDhN0Lo"
   },
   "outputs": [
    {
     "data": {
      "text/html": [
       "<div>\n",
       "<style scoped>\n",
       "    .dataframe tbody tr th:only-of-type {\n",
       "        vertical-align: middle;\n",
       "    }\n",
       "\n",
       "    .dataframe tbody tr th {\n",
       "        vertical-align: top;\n",
       "    }\n",
       "\n",
       "    .dataframe thead th {\n",
       "        text-align: right;\n",
       "    }\n",
       "</style>\n",
       "<table border=\"1\" class=\"dataframe\">\n",
       "  <thead>\n",
       "    <tr style=\"text-align: right;\">\n",
       "      <th></th>\n",
       "      <th>Pregnancies</th>\n",
       "      <th>Glucose</th>\n",
       "      <th>BloodPressure</th>\n",
       "      <th>BPStatus</th>\n",
       "      <th>SkinThickness</th>\n",
       "      <th>Insulin</th>\n",
       "      <th>BMI</th>\n",
       "      <th>BMIStatus</th>\n",
       "      <th>DiabetesPedigreeFunction</th>\n",
       "      <th>Age</th>\n",
       "      <th>Outcome</th>\n",
       "    </tr>\n",
       "  </thead>\n",
       "  <tbody>\n",
       "    <tr>\n",
       "      <th>0</th>\n",
       "      <td>6</td>\n",
       "      <td>148.0</td>\n",
       "      <td>72.0</td>\n",
       "      <td>Normal</td>\n",
       "      <td>35.0</td>\n",
       "      <td>NaN</td>\n",
       "      <td>33.6</td>\n",
       "      <td>Obese</td>\n",
       "      <td>0.627</td>\n",
       "      <td>50.0</td>\n",
       "      <td>1</td>\n",
       "    </tr>\n",
       "    <tr>\n",
       "      <th>1</th>\n",
       "      <td>1</td>\n",
       "      <td>85.0</td>\n",
       "      <td>66.0</td>\n",
       "      <td>Normal</td>\n",
       "      <td>29.0</td>\n",
       "      <td>NaN</td>\n",
       "      <td>26.6</td>\n",
       "      <td>Overweight</td>\n",
       "      <td>0.351</td>\n",
       "      <td>31.0</td>\n",
       "      <td>0</td>\n",
       "    </tr>\n",
       "    <tr>\n",
       "      <th>2</th>\n",
       "      <td>8</td>\n",
       "      <td>183.0</td>\n",
       "      <td>64.0</td>\n",
       "      <td>Normal</td>\n",
       "      <td>NaN</td>\n",
       "      <td>NaN</td>\n",
       "      <td>23.3</td>\n",
       "      <td>Normal</td>\n",
       "      <td>0.672</td>\n",
       "      <td>32.0</td>\n",
       "      <td>1</td>\n",
       "    </tr>\n",
       "    <tr>\n",
       "      <th>3</th>\n",
       "      <td>1</td>\n",
       "      <td>89.0</td>\n",
       "      <td>66.0</td>\n",
       "      <td>Normal</td>\n",
       "      <td>23.0</td>\n",
       "      <td>94.0</td>\n",
       "      <td>28.1</td>\n",
       "      <td>Overweight</td>\n",
       "      <td>0.167</td>\n",
       "      <td>21.0</td>\n",
       "      <td>0</td>\n",
       "    </tr>\n",
       "    <tr>\n",
       "      <th>4</th>\n",
       "      <td>0</td>\n",
       "      <td>137.0</td>\n",
       "      <td>40.0</td>\n",
       "      <td>Low</td>\n",
       "      <td>35.0</td>\n",
       "      <td>168.0</td>\n",
       "      <td>43.1</td>\n",
       "      <td>Obese</td>\n",
       "      <td>2.288</td>\n",
       "      <td>33.0</td>\n",
       "      <td>1</td>\n",
       "    </tr>\n",
       "  </tbody>\n",
       "</table>\n",
       "</div>"
      ],
      "text/plain": [
       "   Pregnancies  Glucose  BloodPressure BPStatus  SkinThickness  Insulin   BMI  \\\n",
       "0            6    148.0           72.0   Normal           35.0      NaN  33.6   \n",
       "1            1     85.0           66.0   Normal           29.0      NaN  26.6   \n",
       "2            8    183.0           64.0   Normal            NaN      NaN  23.3   \n",
       "3            1     89.0           66.0   Normal           23.0     94.0  28.1   \n",
       "4            0    137.0           40.0      Low           35.0    168.0  43.1   \n",
       "\n",
       "    BMIStatus  DiabetesPedigreeFunction   Age  Outcome  \n",
       "0       Obese                     0.627  50.0        1  \n",
       "1  Overweight                     0.351  31.0        0  \n",
       "2      Normal                     0.672  32.0        1  \n",
       "3  Overweight                     0.167  21.0        0  \n",
       "4       Obese                     2.288  33.0        1  "
      ]
     },
     "execution_count": 2,
     "metadata": {},
     "output_type": "execute_result"
    }
   ],
   "source": [
    "# Diabetes 데이터\n",
    "path = 'https://raw.githubusercontent.com/Jangrae/csv/master/diabetes2.csv'\n",
    "diabetes = pd.read_csv(path)\n",
    "diabetes.head()"
   ]
  },
  {
   "cell_type": "markdown",
   "metadata": {
    "id": "24HAzukSN0Ls"
   },
   "source": [
    "## **2. 교차표**\n",
    "\n",
    "- 범주 vs 범주 를 비교하기 위해서는 Pandas의 **crosstab()** 함수를 사용해 **교차표**를 먼저 만들어야 합니다.\n",
    "- **BMIStatus → Outcome** 관계를 비교하기 위해 교차표를 만들어봅니다."
   ]
  },
  {
   "cell_type": "code",
   "execution_count": 3,
   "metadata": {
    "id": "Rk95XQsydRXx"
   },
   "outputs": [
    {
     "data": {
      "text/html": [
       "<div>\n",
       "<style scoped>\n",
       "    .dataframe tbody tr th:only-of-type {\n",
       "        vertical-align: middle;\n",
       "    }\n",
       "\n",
       "    .dataframe tbody tr th {\n",
       "        vertical-align: top;\n",
       "    }\n",
       "\n",
       "    .dataframe thead th {\n",
       "        text-align: right;\n",
       "    }\n",
       "</style>\n",
       "<table border=\"1\" class=\"dataframe\">\n",
       "  <thead>\n",
       "    <tr style=\"text-align: right;\">\n",
       "      <th>Outcome</th>\n",
       "      <th>0</th>\n",
       "      <th>1</th>\n",
       "    </tr>\n",
       "    <tr>\n",
       "      <th>BMIStatus</th>\n",
       "      <th></th>\n",
       "      <th></th>\n",
       "    </tr>\n",
       "  </thead>\n",
       "  <tbody>\n",
       "    <tr>\n",
       "      <th>Normal</th>\n",
       "      <td>95</td>\n",
       "      <td>7</td>\n",
       "    </tr>\n",
       "    <tr>\n",
       "      <th>Obese</th>\n",
       "      <td>253</td>\n",
       "      <td>219</td>\n",
       "    </tr>\n",
       "    <tr>\n",
       "      <th>Overweight</th>\n",
       "      <td>139</td>\n",
       "      <td>40</td>\n",
       "    </tr>\n",
       "    <tr>\n",
       "      <th>Underweight</th>\n",
       "      <td>4</td>\n",
       "      <td>0</td>\n",
       "    </tr>\n",
       "  </tbody>\n",
       "</table>\n",
       "</div>"
      ],
      "text/plain": [
       "Outcome        0    1\n",
       "BMIStatus            \n",
       "Normal        95    7\n",
       "Obese        253  219\n",
       "Overweight   139   40\n",
       "Underweight    4    0"
      ]
     },
     "execution_count": 3,
     "metadata": {},
     "output_type": "execute_result"
    }
   ],
   "source": [
    "pd.crosstab(diabetes['BMIStatus'], diabetes['Outcome'])"
   ]
  },
  {
   "cell_type": "markdown",
   "metadata": {
    "id": "yLsW2TM8p4Ct"
   },
   "source": [
    "- 참고로, 위 교차표는 다음과 같이 groupby() 메소드를 사용해 집계한 후 pivot 형태로 변환한 것과 같습니다."
   ]
  },
  {
   "cell_type": "code",
   "execution_count": 4,
   "metadata": {
    "id": "D6_mYdVznmAm"
   },
   "outputs": [
    {
     "data": {
      "text/html": [
       "<div>\n",
       "<style scoped>\n",
       "    .dataframe tbody tr th:only-of-type {\n",
       "        vertical-align: middle;\n",
       "    }\n",
       "\n",
       "    .dataframe tbody tr th {\n",
       "        vertical-align: top;\n",
       "    }\n",
       "\n",
       "    .dataframe thead th {\n",
       "        text-align: right;\n",
       "    }\n",
       "</style>\n",
       "<table border=\"1\" class=\"dataframe\">\n",
       "  <thead>\n",
       "    <tr style=\"text-align: right;\">\n",
       "      <th>Outcome</th>\n",
       "      <th>0</th>\n",
       "      <th>1</th>\n",
       "    </tr>\n",
       "    <tr>\n",
       "      <th>BMIStatus</th>\n",
       "      <th></th>\n",
       "      <th></th>\n",
       "    </tr>\n",
       "  </thead>\n",
       "  <tbody>\n",
       "    <tr>\n",
       "      <th>Normal</th>\n",
       "      <td>95</td>\n",
       "      <td>7</td>\n",
       "    </tr>\n",
       "    <tr>\n",
       "      <th>Obese</th>\n",
       "      <td>253</td>\n",
       "      <td>219</td>\n",
       "    </tr>\n",
       "    <tr>\n",
       "      <th>Overweight</th>\n",
       "      <td>139</td>\n",
       "      <td>40</td>\n",
       "    </tr>\n",
       "    <tr>\n",
       "      <th>Underweight</th>\n",
       "      <td>4</td>\n",
       "      <td>0</td>\n",
       "    </tr>\n",
       "  </tbody>\n",
       "</table>\n",
       "</div>"
      ],
      "text/plain": [
       "Outcome        0    1\n",
       "BMIStatus            \n",
       "Normal        95    7\n",
       "Obese        253  219\n",
       "Overweight   139   40\n",
       "Underweight    4    0"
      ]
     },
     "execution_count": 4,
     "metadata": {},
     "output_type": "execute_result"
    }
   ],
   "source": [
    "tmp = diabetes.groupby(by=['BMIStatus', 'Outcome'], as_index=False).size()\n",
    "tmp.columns = ['BMIStatus', 'Outcome', 'Cnt']\n",
    "tmp.pivot(index='BMIStatus', columns='Outcome', values='Cnt').fillna(0).astype(int)"
   ]
  },
  {
   "cell_type": "markdown",
   "metadata": {
    "id": "mZsvUW0iLcQ9"
   },
   "source": [
    "- **BPStatus → Outcome** 관계를 비교하기 위해 교차표를 만들어봅니다."
   ]
  },
  {
   "cell_type": "code",
   "execution_count": 5,
   "metadata": {
    "id": "TYupCKpHLV1x"
   },
   "outputs": [
    {
     "data": {
      "text/html": [
       "<div>\n",
       "<style scoped>\n",
       "    .dataframe tbody tr th:only-of-type {\n",
       "        vertical-align: middle;\n",
       "    }\n",
       "\n",
       "    .dataframe tbody tr th {\n",
       "        vertical-align: top;\n",
       "    }\n",
       "\n",
       "    .dataframe thead th {\n",
       "        text-align: right;\n",
       "    }\n",
       "</style>\n",
       "<table border=\"1\" class=\"dataframe\">\n",
       "  <thead>\n",
       "    <tr style=\"text-align: right;\">\n",
       "      <th>Outcome</th>\n",
       "      <th>0</th>\n",
       "      <th>1</th>\n",
       "    </tr>\n",
       "    <tr>\n",
       "      <th>BPStatus</th>\n",
       "      <th></th>\n",
       "      <th></th>\n",
       "    </tr>\n",
       "  </thead>\n",
       "  <tbody>\n",
       "    <tr>\n",
       "      <th>High</th>\n",
       "      <td>115</td>\n",
       "      <td>90</td>\n",
       "    </tr>\n",
       "    <tr>\n",
       "      <th>Low</th>\n",
       "      <td>70</td>\n",
       "      <td>16</td>\n",
       "    </tr>\n",
       "    <tr>\n",
       "      <th>Normal</th>\n",
       "      <td>296</td>\n",
       "      <td>146</td>\n",
       "    </tr>\n",
       "  </tbody>\n",
       "</table>\n",
       "</div>"
      ],
      "text/plain": [
       "Outcome     0    1\n",
       "BPStatus          \n",
       "High      115   90\n",
       "Low        70   16\n",
       "Normal    296  146"
      ]
     },
     "execution_count": 5,
     "metadata": {},
     "output_type": "execute_result"
    }
   ],
   "source": [
    "pd.crosstab(diabetes['BPStatus'], diabetes['Outcome'])"
   ]
  },
  {
   "cell_type": "markdown",
   "metadata": {
    "id": "F4YQ63QpXZKb"
   },
   "source": [
    "- 교차표는 다음과 같은 **normalize** 매개변수 값에 따라 다른 결과를 보여줍니다.\n",
    "    - 'index': 각 행의 합으로 각 요소를 나눠서 각 행의 상대적인 비율을 보여줍니다(각 행의 합이 1이 됨).\n",
    "    - 'columns': 각 열의 합으로 각 요소를 나눠서 각 열의 상대적인 비율을 보여줍니다(각 열이 합이 1이 됨).\n",
    "    - 'all': 전체 합으로 각 요소를 나눠서 전체 데이터셋에서 각 셀의 상대적인 비율을 보여줍니다(전체 합이 1이 됨)."
   ]
  },
  {
   "cell_type": "markdown",
   "metadata": {
    "id": "VjVxXCshLBQr"
   },
   "source": [
    "<img src='https://raw.githubusercontent.com/Jangrae/img/master/cross02.png' width=700 align='left'/>"
   ]
  },
  {
   "cell_type": "markdown",
   "metadata": {
    "id": "9nsp18gALGXB"
   },
   "source": [
    "\n",
    "- **BPStatus → Outcome** 관계를 교차표로 normalize 매개변수 값을 바꿔가면서 표시해봅니다."
   ]
  },
  {
   "cell_type": "code",
   "execution_count": 6,
   "metadata": {
    "id": "xNNBmdowHt1T"
   },
   "outputs": [
    {
     "data": {
      "text/html": [
       "<div>\n",
       "<style scoped>\n",
       "    .dataframe tbody tr th:only-of-type {\n",
       "        vertical-align: middle;\n",
       "    }\n",
       "\n",
       "    .dataframe tbody tr th {\n",
       "        vertical-align: top;\n",
       "    }\n",
       "\n",
       "    .dataframe thead th {\n",
       "        text-align: right;\n",
       "    }\n",
       "</style>\n",
       "<table border=\"1\" class=\"dataframe\">\n",
       "  <thead>\n",
       "    <tr style=\"text-align: right;\">\n",
       "      <th>Outcome</th>\n",
       "      <th>0</th>\n",
       "      <th>1</th>\n",
       "    </tr>\n",
       "    <tr>\n",
       "      <th>BPStatus</th>\n",
       "      <th></th>\n",
       "      <th></th>\n",
       "    </tr>\n",
       "  </thead>\n",
       "  <tbody>\n",
       "    <tr>\n",
       "      <th>High</th>\n",
       "      <td>0.239085</td>\n",
       "      <td>0.357143</td>\n",
       "    </tr>\n",
       "    <tr>\n",
       "      <th>Low</th>\n",
       "      <td>0.145530</td>\n",
       "      <td>0.063492</td>\n",
       "    </tr>\n",
       "    <tr>\n",
       "      <th>Normal</th>\n",
       "      <td>0.615385</td>\n",
       "      <td>0.579365</td>\n",
       "    </tr>\n",
       "  </tbody>\n",
       "</table>\n",
       "</div>"
      ],
      "text/plain": [
       "Outcome          0         1\n",
       "BPStatus                    \n",
       "High      0.239085  0.357143\n",
       "Low       0.145530  0.063492\n",
       "Normal    0.615385  0.579365"
      ]
     },
     "execution_count": 6,
     "metadata": {},
     "output_type": "execute_result"
    }
   ],
   "source": [
    "pd.crosstab(diabetes['BPStatus'], diabetes['Outcome'], normalize='columns')"
   ]
  },
  {
   "cell_type": "code",
   "execution_count": 7,
   "metadata": {
    "id": "HqRdrSu-JBbX"
   },
   "outputs": [
    {
     "data": {
      "text/html": [
       "<div>\n",
       "<style scoped>\n",
       "    .dataframe tbody tr th:only-of-type {\n",
       "        vertical-align: middle;\n",
       "    }\n",
       "\n",
       "    .dataframe tbody tr th {\n",
       "        vertical-align: top;\n",
       "    }\n",
       "\n",
       "    .dataframe thead th {\n",
       "        text-align: right;\n",
       "    }\n",
       "</style>\n",
       "<table border=\"1\" class=\"dataframe\">\n",
       "  <thead>\n",
       "    <tr style=\"text-align: right;\">\n",
       "      <th>Outcome</th>\n",
       "      <th>0</th>\n",
       "      <th>1</th>\n",
       "    </tr>\n",
       "    <tr>\n",
       "      <th>BPStatus</th>\n",
       "      <th></th>\n",
       "      <th></th>\n",
       "    </tr>\n",
       "  </thead>\n",
       "  <tbody>\n",
       "    <tr>\n",
       "      <th>High</th>\n",
       "      <td>0.560976</td>\n",
       "      <td>0.439024</td>\n",
       "    </tr>\n",
       "    <tr>\n",
       "      <th>Low</th>\n",
       "      <td>0.813953</td>\n",
       "      <td>0.186047</td>\n",
       "    </tr>\n",
       "    <tr>\n",
       "      <th>Normal</th>\n",
       "      <td>0.669683</td>\n",
       "      <td>0.330317</td>\n",
       "    </tr>\n",
       "  </tbody>\n",
       "</table>\n",
       "</div>"
      ],
      "text/plain": [
       "Outcome          0         1\n",
       "BPStatus                    \n",
       "High      0.560976  0.439024\n",
       "Low       0.813953  0.186047\n",
       "Normal    0.669683  0.330317"
      ]
     },
     "execution_count": 7,
     "metadata": {},
     "output_type": "execute_result"
    }
   ],
   "source": [
    "pd.crosstab(diabetes['BPStatus'], diabetes['Outcome'], normalize='index')"
   ]
  },
  {
   "cell_type": "code",
   "execution_count": 8,
   "metadata": {
    "id": "S8yAEvtzJHEg"
   },
   "outputs": [
    {
     "data": {
      "text/html": [
       "<div>\n",
       "<style scoped>\n",
       "    .dataframe tbody tr th:only-of-type {\n",
       "        vertical-align: middle;\n",
       "    }\n",
       "\n",
       "    .dataframe tbody tr th {\n",
       "        vertical-align: top;\n",
       "    }\n",
       "\n",
       "    .dataframe thead th {\n",
       "        text-align: right;\n",
       "    }\n",
       "</style>\n",
       "<table border=\"1\" class=\"dataframe\">\n",
       "  <thead>\n",
       "    <tr style=\"text-align: right;\">\n",
       "      <th>Outcome</th>\n",
       "      <th>0</th>\n",
       "      <th>1</th>\n",
       "    </tr>\n",
       "    <tr>\n",
       "      <th>BPStatus</th>\n",
       "      <th></th>\n",
       "      <th></th>\n",
       "    </tr>\n",
       "  </thead>\n",
       "  <tbody>\n",
       "    <tr>\n",
       "      <th>High</th>\n",
       "      <td>0.156889</td>\n",
       "      <td>0.122783</td>\n",
       "    </tr>\n",
       "    <tr>\n",
       "      <th>Low</th>\n",
       "      <td>0.095498</td>\n",
       "      <td>0.021828</td>\n",
       "    </tr>\n",
       "    <tr>\n",
       "      <th>Normal</th>\n",
       "      <td>0.403820</td>\n",
       "      <td>0.199181</td>\n",
       "    </tr>\n",
       "  </tbody>\n",
       "</table>\n",
       "</div>"
      ],
      "text/plain": [
       "Outcome          0         1\n",
       "BPStatus                    \n",
       "High      0.156889  0.122783\n",
       "Low       0.095498  0.021828\n",
       "Normal    0.403820  0.199181"
      ]
     },
     "execution_count": 8,
     "metadata": {},
     "output_type": "execute_result"
    }
   ],
   "source": [
    "pd.crosstab(diabetes['BPStatus'], diabetes['Outcome'], normalize='all')"
   ]
  },
  {
   "cell_type": "markdown",
   "metadata": {
    "id": "bBPSpzBhVua5"
   },
   "source": [
    "## **3. 시각화**\n",
    "\n",
    "- 다음과 같은 방법으로 범주형 → 범주형 비교를 시각화할 수 있습니다.\n",
    "    -  100% Stacked Bar\n",
    "    -  Mosaic Plot"
   ]
  },
  {
   "cell_type": "markdown",
   "metadata": {
    "id": "Vn475dvuPHZO"
   },
   "source": [
    "\n",
    "- 위 두 가지 방법으로 **BMIStatus → Outcome** 관계를 시각화해서 비교해 봅니다."
   ]
  },
  {
   "cell_type": "markdown",
   "metadata": {
    "id": "QprpfbLPYoA7"
   },
   "source": [
    "**1) 100% Stacked Bar**\n",
    "\n",
    "- 우선 **normalize='index'** 를 설정한 교차표를 작성합니다.\n",
    "- BMIStatus 변수가 네 개의 범줏값을 가지므로 네 개의 행이 생깁니다.\n",
    "- normalize='index'를 지정했으므로 각 행의 합은 1이 됩니다."
   ]
  },
  {
   "cell_type": "code",
   "execution_count": 9,
   "metadata": {
    "id": "wmyAN2Mi-5PJ"
   },
   "outputs": [
    {
     "data": {
      "text/html": [
       "<div>\n",
       "<style scoped>\n",
       "    .dataframe tbody tr th:only-of-type {\n",
       "        vertical-align: middle;\n",
       "    }\n",
       "\n",
       "    .dataframe tbody tr th {\n",
       "        vertical-align: top;\n",
       "    }\n",
       "\n",
       "    .dataframe thead th {\n",
       "        text-align: right;\n",
       "    }\n",
       "</style>\n",
       "<table border=\"1\" class=\"dataframe\">\n",
       "  <thead>\n",
       "    <tr style=\"text-align: right;\">\n",
       "      <th>Outcome</th>\n",
       "      <th>0</th>\n",
       "      <th>1</th>\n",
       "    </tr>\n",
       "    <tr>\n",
       "      <th>BMIStatus</th>\n",
       "      <th></th>\n",
       "      <th></th>\n",
       "    </tr>\n",
       "  </thead>\n",
       "  <tbody>\n",
       "    <tr>\n",
       "      <th>Normal</th>\n",
       "      <td>0.931373</td>\n",
       "      <td>0.068627</td>\n",
       "    </tr>\n",
       "    <tr>\n",
       "      <th>Obese</th>\n",
       "      <td>0.536017</td>\n",
       "      <td>0.463983</td>\n",
       "    </tr>\n",
       "    <tr>\n",
       "      <th>Overweight</th>\n",
       "      <td>0.776536</td>\n",
       "      <td>0.223464</td>\n",
       "    </tr>\n",
       "    <tr>\n",
       "      <th>Underweight</th>\n",
       "      <td>1.000000</td>\n",
       "      <td>0.000000</td>\n",
       "    </tr>\n",
       "  </tbody>\n",
       "</table>\n",
       "</div>"
      ],
      "text/plain": [
       "Outcome             0         1\n",
       "BMIStatus                      \n",
       "Normal       0.931373  0.068627\n",
       "Obese        0.536017  0.463983\n",
       "Overweight   0.776536  0.223464\n",
       "Underweight  1.000000  0.000000"
      ]
     },
     "execution_count": 9,
     "metadata": {},
     "output_type": "execute_result"
    }
   ],
   "source": [
    "table = pd.crosstab(diabetes['BMIStatus'], diabetes['Outcome'], normalize='index')\n",
    "table"
   ]
  },
  {
   "cell_type": "markdown",
   "metadata": {
    "id": "w6kS_yhD--kz"
   },
   "source": [
    "- 위 교차표에 대해 Stacked Bar를 그립니다.\n",
    "- Stacked Bar는 Pandas의 **plot()** 메소드로 쉽게 그릴 수 있습니다.\n",
    "- 각 행별로 Stacked Bar가 그려지며, 각 행의 합이 1이므로 같은 높이를 갖습니다.\n",
    "- 그래서 100% Stacked Bar 라고 부릅니다.\n",
    "- **axhline()** 함수를 사용해 Outcome 열 평균을 표시하는 가로선도 표시해봅니다.\n",
    "- Outcome 열 평균, 즉 diabetes['Outcome'].mean()은 당뇨병발생율을 의미합니다.\n",
    "- 그런데 Stacked Bar 하단이 정상(Outcome=0)을 의미합니다.\n",
    "- 그래서 일관된 표시를 위해 1 - diabetes['Outcome'].mean() 을 표시합니다."
   ]
  },
  {
   "cell_type": "code",
   "execution_count": 10,
   "metadata": {
    "id": "qahDr2FxNLKJ"
   },
   "outputs": [
    {
     "data": {
      "image/png": "[encoded data removed]",
      "text/plain": [
       "<Figure size 600x400 with 1 Axes>"
      ]
     },
     "metadata": {
      "image/png": {
       "height": 371,
       "width": 516
      }
     },
     "output_type": "display_data"
    }
   ],
   "source": [
    "table.plot(kind='bar', stacked=True)\n",
    "\n",
    "plt.axhline(1-diabetes['Outcome'].mean(), color='r')\n",
    "plt.xticks(rotation=0)\n",
    "plt.show()"
   ]
  },
  {
   "cell_type": "markdown",
   "metadata": {
    "id": "7uXa_3Ab3xVO"
   },
   "source": [
    "- Matplotlib의 bar() 함수로 그릴 수 있지만 약간 복잡합니다."
   ]
  },
  {
   "cell_type": "code",
   "execution_count": 11,
   "metadata": {
    "id": "XGvs6IDp2DDZ"
   },
   "outputs": [
    {
     "data": {
      "image/png": "[encoded data removed]",
      "text/plain": [
       "<Figure size 600x400 with 1 Axes>"
      ]
     },
     "metadata": {
      "image/png": {
       "height": 357,
       "width": 516
      }
     },
     "output_type": "display_data"
    }
   ],
   "source": [
    "plt.bar(table.index.astype(str), table[0])\n",
    "plt.bar(table.index.astype(str), table[1], bottom=table[0])\n",
    "plt.legend(['0', '1'])\n",
    "plt.axhline(1-diabetes['Outcome'].mean(), color='r')\n",
    "plt.show()"
   ]
  },
  {
   "cell_type": "code",
   "execution_count": 12,
   "metadata": {
    "id": "C7TdRieRX2r8"
   },
   "outputs": [
    {
     "data": {
      "text/html": [
       "<div>\n",
       "<style scoped>\n",
       "    .dataframe tbody tr th:only-of-type {\n",
       "        vertical-align: middle;\n",
       "    }\n",
       "\n",
       "    .dataframe tbody tr th {\n",
       "        vertical-align: top;\n",
       "    }\n",
       "\n",
       "    .dataframe thead th {\n",
       "        text-align: right;\n",
       "    }\n",
       "</style>\n",
       "<table border=\"1\" class=\"dataframe\">\n",
       "  <thead>\n",
       "    <tr style=\"text-align: right;\">\n",
       "      <th>Outcome</th>\n",
       "      <th>0</th>\n",
       "      <th>1</th>\n",
       "    </tr>\n",
       "    <tr>\n",
       "      <th>BPStatus</th>\n",
       "      <th></th>\n",
       "      <th></th>\n",
       "    </tr>\n",
       "  </thead>\n",
       "  <tbody>\n",
       "    <tr>\n",
       "      <th>High</th>\n",
       "      <td>0.560976</td>\n",
       "      <td>0.439024</td>\n",
       "    </tr>\n",
       "    <tr>\n",
       "      <th>Low</th>\n",
       "      <td>0.813953</td>\n",
       "      <td>0.186047</td>\n",
       "    </tr>\n",
       "    <tr>\n",
       "      <th>Normal</th>\n",
       "      <td>0.669683</td>\n",
       "      <td>0.330317</td>\n",
       "    </tr>\n",
       "  </tbody>\n",
       "</table>\n",
       "</div>"
      ],
      "text/plain": [
       "Outcome          0         1\n",
       "BPStatus                    \n",
       "High      0.560976  0.439024\n",
       "Low       0.813953  0.186047\n",
       "Normal    0.669683  0.330317"
      ]
     },
     "metadata": {},
     "output_type": "display_data"
    },
    {
     "data": {
      "image/png": "[encoded data removed]",
      "text/plain": [
       "<Figure size 600x400 with 1 Axes>"
      ]
     },
     "metadata": {
      "image/png": {
       "height": 371,
       "width": 516
      }
     },
     "output_type": "display_data"
    }
   ],
   "source": [
    "table = pd.crosstab(diabetes['BPStatus'], diabetes['Outcome'], normalize='index')\n",
    "display(table)\n",
    "\n",
    "table.plot(kind='bar', stacked=True)\n",
    "plt.axhline(1-diabetes['Outcome'].mean(), color='r')\n",
    "plt.xticks(rotation=0)\n",
    "plt.show()"
   ]
  },
  {
   "cell_type": "markdown",
   "metadata": {
    "id": "mazbfND-X2sE"
   },
   "source": [
    "<img src='https://raw.githubusercontent.com/jangrae/img/master/practice_20.png' width=120 align=\"left\"/>"
   ]
  },
  {
   "cell_type": "markdown",
   "metadata": {
    "id": "wIn8zHcFX2sG"
   },
   "source": [
    "1️⃣ diabetes 데이터프레임에 AgeGroup 열을 추가하세요."
   ]
  },
  {
   "cell_type": "code",
   "execution_count": 17,
   "metadata": {
    "id": "KfUPNonWX2sI"
   },
   "outputs": [
    {
     "data": {
      "text/html": [
       "<div>\n",
       "<style scoped>\n",
       "    .dataframe tbody tr th:only-of-type {\n",
       "        vertical-align: middle;\n",
       "    }\n",
       "\n",
       "    .dataframe tbody tr th {\n",
       "        vertical-align: top;\n",
       "    }\n",
       "\n",
       "    .dataframe thead th {\n",
       "        text-align: right;\n",
       "    }\n",
       "</style>\n",
       "<table border=\"1\" class=\"dataframe\">\n",
       "  <thead>\n",
       "    <tr style=\"text-align: right;\">\n",
       "      <th></th>\n",
       "      <th>Pregnancies</th>\n",
       "      <th>Glucose</th>\n",
       "      <th>BloodPressure</th>\n",
       "      <th>BPStatus</th>\n",
       "      <th>SkinThickness</th>\n",
       "      <th>Insulin</th>\n",
       "      <th>BMI</th>\n",
       "      <th>BMIStatus</th>\n",
       "      <th>DiabetesPedigreeFunction</th>\n",
       "      <th>Age</th>\n",
       "      <th>Outcome</th>\n",
       "      <th>AgeGroup</th>\n",
       "    </tr>\n",
       "  </thead>\n",
       "  <tbody>\n",
       "    <tr>\n",
       "      <th>0</th>\n",
       "      <td>6</td>\n",
       "      <td>148.0</td>\n",
       "      <td>72.0</td>\n",
       "      <td>Normal</td>\n",
       "      <td>35.0</td>\n",
       "      <td>NaN</td>\n",
       "      <td>33.6</td>\n",
       "      <td>Obese</td>\n",
       "      <td>0.627</td>\n",
       "      <td>50.0</td>\n",
       "      <td>1</td>\n",
       "      <td>50</td>\n",
       "    </tr>\n",
       "    <tr>\n",
       "      <th>1</th>\n",
       "      <td>1</td>\n",
       "      <td>85.0</td>\n",
       "      <td>66.0</td>\n",
       "      <td>Normal</td>\n",
       "      <td>29.0</td>\n",
       "      <td>NaN</td>\n",
       "      <td>26.6</td>\n",
       "      <td>Overweight</td>\n",
       "      <td>0.351</td>\n",
       "      <td>31.0</td>\n",
       "      <td>0</td>\n",
       "      <td>30</td>\n",
       "    </tr>\n",
       "    <tr>\n",
       "      <th>2</th>\n",
       "      <td>8</td>\n",
       "      <td>183.0</td>\n",
       "      <td>64.0</td>\n",
       "      <td>Normal</td>\n",
       "      <td>NaN</td>\n",
       "      <td>NaN</td>\n",
       "      <td>23.3</td>\n",
       "      <td>Normal</td>\n",
       "      <td>0.672</td>\n",
       "      <td>32.0</td>\n",
       "      <td>1</td>\n",
       "      <td>30</td>\n",
       "    </tr>\n",
       "    <tr>\n",
       "      <th>3</th>\n",
       "      <td>1</td>\n",
       "      <td>89.0</td>\n",
       "      <td>66.0</td>\n",
       "      <td>Normal</td>\n",
       "      <td>23.0</td>\n",
       "      <td>94.0</td>\n",
       "      <td>28.1</td>\n",
       "      <td>Overweight</td>\n",
       "      <td>0.167</td>\n",
       "      <td>21.0</td>\n",
       "      <td>0</td>\n",
       "      <td>20</td>\n",
       "    </tr>\n",
       "    <tr>\n",
       "      <th>4</th>\n",
       "      <td>0</td>\n",
       "      <td>137.0</td>\n",
       "      <td>40.0</td>\n",
       "      <td>Low</td>\n",
       "      <td>35.0</td>\n",
       "      <td>168.0</td>\n",
       "      <td>43.1</td>\n",
       "      <td>Obese</td>\n",
       "      <td>2.288</td>\n",
       "      <td>33.0</td>\n",
       "      <td>1</td>\n",
       "      <td>30</td>\n",
       "    </tr>\n",
       "  </tbody>\n",
       "</table>\n",
       "</div>"
      ],
      "text/plain": [
       "   Pregnancies  Glucose  BloodPressure BPStatus  SkinThickness  Insulin   BMI  \\\n",
       "0            6    148.0           72.0   Normal           35.0      NaN  33.6   \n",
       "1            1     85.0           66.0   Normal           29.0      NaN  26.6   \n",
       "2            8    183.0           64.0   Normal            NaN      NaN  23.3   \n",
       "3            1     89.0           66.0   Normal           23.0     94.0  28.1   \n",
       "4            0    137.0           40.0      Low           35.0    168.0  43.1   \n",
       "\n",
       "    BMIStatus  DiabetesPedigreeFunction   Age  Outcome  AgeGroup  \n",
       "0       Obese                     0.627  50.0        1        50  \n",
       "1  Overweight                     0.351  31.0        0        30  \n",
       "2      Normal                     0.672  32.0        1        30  \n",
       "3  Overweight                     0.167  21.0        0        20  \n",
       "4       Obese                     2.288  33.0        1        30  "
      ]
     },
     "execution_count": 17,
     "metadata": {},
     "output_type": "execute_result"
    }
   ],
   "source": [
    "diabetes['AgeGroup'] = diabetes['Age'] // 10 * 10\n",
    "diabetes['AgeGroup'] = diabetes['AgeGroup'].astype(int)\n",
    "diabetes.head()"
   ]
  },
  {
   "cell_type": "markdown",
   "metadata": {
    "id": "Gr5nCaYbX2sJ"
   },
   "source": [
    "**2️⃣ AgeGroup → Outcome** 관계를 시각화해 분석하세요."
   ]
  },
  {
   "cell_type": "code",
   "execution_count": 19,
   "metadata": {
    "id": "VzDSnkgBX2sJ"
   },
   "outputs": [
    {
     "data": {
      "text/html": [
       "<div>\n",
       "<style scoped>\n",
       "    .dataframe tbody tr th:only-of-type {\n",
       "        vertical-align: middle;\n",
       "    }\n",
       "\n",
       "    .dataframe tbody tr th {\n",
       "        vertical-align: top;\n",
       "    }\n",
       "\n",
       "    .dataframe thead th {\n",
       "        text-align: right;\n",
       "    }\n",
       "</style>\n",
       "<table border=\"1\" class=\"dataframe\">\n",
       "  <thead>\n",
       "    <tr style=\"text-align: right;\">\n",
       "      <th>Outcome</th>\n",
       "      <th>0</th>\n",
       "      <th>1</th>\n",
       "    </tr>\n",
       "    <tr>\n",
       "      <th>AgeGroup</th>\n",
       "      <th></th>\n",
       "      <th></th>\n",
       "    </tr>\n",
       "  </thead>\n",
       "  <tbody>\n",
       "    <tr>\n",
       "      <th>20</th>\n",
       "      <td>0.787879</td>\n",
       "      <td>0.212121</td>\n",
       "    </tr>\n",
       "    <tr>\n",
       "      <th>30</th>\n",
       "      <td>0.539394</td>\n",
       "      <td>0.460606</td>\n",
       "    </tr>\n",
       "    <tr>\n",
       "      <th>40</th>\n",
       "      <td>0.449153</td>\n",
       "      <td>0.550847</td>\n",
       "    </tr>\n",
       "    <tr>\n",
       "      <th>50</th>\n",
       "      <td>0.403509</td>\n",
       "      <td>0.596491</td>\n",
       "    </tr>\n",
       "    <tr>\n",
       "      <th>60</th>\n",
       "      <td>0.724138</td>\n",
       "      <td>0.275862</td>\n",
       "    </tr>\n",
       "    <tr>\n",
       "      <th>70</th>\n",
       "      <td>0.500000</td>\n",
       "      <td>0.500000</td>\n",
       "    </tr>\n",
       "    <tr>\n",
       "      <th>80</th>\n",
       "      <td>1.000000</td>\n",
       "      <td>0.000000</td>\n",
       "    </tr>\n",
       "  </tbody>\n",
       "</table>\n",
       "</div>"
      ],
      "text/plain": [
       "Outcome          0         1\n",
       "AgeGroup                    \n",
       "20        0.787879  0.212121\n",
       "30        0.539394  0.460606\n",
       "40        0.449153  0.550847\n",
       "50        0.403509  0.596491\n",
       "60        0.724138  0.275862\n",
       "70        0.500000  0.500000\n",
       "80        1.000000  0.000000"
      ]
     },
     "execution_count": 19,
     "metadata": {},
     "output_type": "execute_result"
    }
   ],
   "source": [
    "pd.crosstab(diabetes['AgeGroup'], diabetes['Outcome'])\n",
    "table = pd.crosstab(diabetes['AgeGroup'], diabetes['Outcome'], normalize='index')\n",
    "table"
   ]
  },
  {
   "cell_type": "code",
   "execution_count": null,
   "metadata": {},
   "outputs": [
    {
     "data": {
      "image/png": "[encoded data removed]",
      "text/plain": [
       "<Figure size 600x400 with 1 Axes>"
      ]
     },
     "metadata": {
      "image/png": {
       "height": 379,
       "width": 516
      }
     },
     "output_type": "display_data"
    }
   ],
   "source": [
    "table.plot(kind='bar', stacked=True)\n",
    "\n",
    "plt.axhline(1-diabetes['Outomcome'].mean(), color='r')\n",
    "plt.xticks(rotation=45)\n",
    "plt.show()"
   ]
  },
  {
   "cell_type": "markdown",
   "metadata": {
    "id": "PKoGdiE0X2sJ"
   },
   "source": [
    "<img src='https://raw.githubusercontent.com/jangrae/img/master/practice_20e.png' width=45 align=\"left\"/>"
   ]
  },
  {
   "cell_type": "markdown",
   "metadata": {
    "id": "dmopxnQQZX4_"
   },
   "source": [
    "**2) Mosaic Plot**\n",
    "\n",
    "- 100% Stacked Bar는 비율만 비교하므로 양에 대한 비교는 할 수 없습니다.\n",
    "- Mosaic Plot으로 **양에 대한 비교**를 해봅니다.\n",
    "- **statsmodels.graphics.mosaicplot**의 **mosaic()** 함수로 Mosaic Plot을 그립니다."
   ]
  },
  {
   "cell_type": "code",
   "execution_count": 22,
   "metadata": {
    "id": "t10ETkNKHcNi"
   },
   "outputs": [
    {
     "data": {
      "image/png": "[encoded data removed]",
      "text/plain": [
       "<Figure size 600x400 with 3 Axes>"
      ]
     },
     "metadata": {
      "image/png": {
       "height": 351,
       "width": 546
      }
     },
     "output_type": "display_data"
    }
   ],
   "source": [
    "mosaic(diabetes, ['BMIStatus', 'Outcome'])\n",
    "plt.axhline(1-diabetes['Outcome'].mean(), color='r')\n",
    "plt.show()"
   ]
  },
  {
   "cell_type": "markdown",
   "metadata": {
    "id": "SF6cAab1aKw5"
   },
   "source": [
    "- 위 그래프의 x축 길이는 BMI수준별 비율을 나타냅니다.  \n",
    "- y축 길이는 BMI수준별 당뇨병환자 비율을 의미합니다."
   ]
  },
  {
   "cell_type": "markdown",
   "metadata": {
    "id": "ZjexES7BX2sU"
   },
   "source": [
    "<img src='https://raw.githubusercontent.com/jangrae/img/master/practice_20.png' width=120 align=\"left\"/>"
   ]
  },
  {
   "cell_type": "markdown",
   "metadata": {
    "id": "5jvMPmz9X2sU"
   },
   "source": [
    "diabetes 데이터프레임의 다음 변수들 간의 관계를 Mosaic Plot 으로 시각화해 확인하세요."
   ]
  },
  {
   "cell_type": "markdown",
   "metadata": {
    "id": "IqZmaywlX2sa"
   },
   "source": [
    "**1️⃣ BPStatus → Outcome**"
   ]
  },
  {
   "cell_type": "code",
   "execution_count": 23,
   "metadata": {
    "id": "i8iZAhKIX2sb"
   },
   "outputs": [
    {
     "data": {
      "image/png": "[encoded data removed]",
      "text/plain": [
       "<Figure size 600x400 with 3 Axes>"
      ]
     },
     "metadata": {
      "image/png": {
       "height": 351,
       "width": 546
      }
     },
     "output_type": "display_data"
    }
   ],
   "source": [
    "mosaic(diabetes, ['BMIStatus', 'Outcome'])\n",
    "plt.axhline(1-diabetes['Outcome'].mean(), color='r')\n",
    "plt.show()"
   ]
  },
  {
   "cell_type": "markdown",
   "metadata": {
    "id": "78Iyk6idX2sc"
   },
   "source": [
    "**2️⃣ AgeGroup → Outcome**"
   ]
  },
  {
   "cell_type": "code",
   "execution_count": 24,
   "metadata": {
    "id": "Ye_UV7hPX2sd",
    "scrolled": true
   },
   "outputs": [
    {
     "data": {
      "image/png": "[encoded data removed]",
      "text/plain": [
       "<Figure size 600x400 with 3 Axes>"
      ]
     },
     "metadata": {
      "image/png": {
       "height": 351,
       "width": 512
      }
     },
     "output_type": "display_data"
    }
   ],
   "source": [
    "mosaic(diabetes, ['AgeGroup', 'Outcome'])\n",
    "plt.axhline(1-diabetes['Outcome'].mean(), color='r')\n",
    "plt.show()\n"
   ]
  },
  {
   "cell_type": "markdown",
   "metadata": {
    "id": "UXEC8FolX2se"
   },
   "source": [
    "<img src='https://raw.githubusercontent.com/jangrae/img/master/practice_20e.png' width=45 align=\"left\"/>"
   ]
  },
  {
   "cell_type": "markdown",
   "metadata": {
    "id": "R196PLJaZo-5"
   },
   "source": [
    "**📌 시각화 결과를 분석하는 방법**\n",
    "\n",
    "- 한 가지만 기억하세요! 귀무가설이 참일 때 나올 그래프의 모양(아래 그림)\n",
    "- 여기서 벗어나면, '차이가 있다'., '관련이 있다'는 말입니다.\n",
    "\n"
   ]
  },
  {
   "cell_type": "markdown",
   "metadata": {
    "id": "a29v8xwvZ9pC"
   },
   "source": [
    "<img src='https://github.com/DA4BAM/image/blob/main/%EB%AA%A8%EC%9E%90%EC%9D%B5.png?raw=true' width=700/>"
   ]
  },
  {
   "cell_type": "markdown",
   "metadata": {
    "id": "dmhYzOHLXvJC"
   },
   "source": [
    "## **4. 수치화**\n",
    "\n",
    "- 범주형 → 범주형 관계를 수치와해 비교할 때는 **카이제곱검정(Chi-Squared Test)** 을 사용합니다.\n",
    "- **scipy.stats** 라이브러리의 **chi2_contingency()** 함수로 카이제곱검정을 수행합니다.\n",
    "- 카이제곱검정은 $x^2$검정으로도 불립니다."
   ]
  },
  {
   "cell_type": "markdown",
   "metadata": {
    "id": "8p7ZrC7rj8Ei"
   },
   "source": [
    "<img src = \"https://github.com/Jangrae/img/blob/master/chi2.png?raw=true\" width=300 align=\"left\"/>"
   ]
  },
  {
   "cell_type": "markdown",
   "metadata": {
    "id": "A2fDnaln9310"
   },
   "source": [
    "- 카이제곱통계량은\n",
    "    - 클수록 기대빈도로부터 실제 값의 차이가 크다는 의미입니다.\n",
    "    - 계산식으로 볼 때, 범주의 수가 늘어날 수록 값은 커지게 되어 있습니다.\n",
    "    - 보통, **자유도의 2~3배 보다 크면, 차이가 있다고 봅니다.**\n",
    "\n",
    "- 범주형 변수의 자유도: 범주의 수 - 1\n",
    "\n",
    "- 카이제곱검정에서는\n",
    "    - x 변수의 자유도 × y 변수의 자유도\n",
    "    - 예: BPStatus → Outcome\n",
    "        - BPStatus: 범주가 3개, Outcome: 2개\n",
    "        - (3-1) * (2-1) = 2\n",
    "        - 그러므로, 2의 2 ~ 3배인 4 ~ 6 보다 카이제곱 통계량이 크면 차이가 있다고 볼수 있습니다.\n"
   ]
  },
  {
   "cell_type": "markdown",
   "metadata": {
    "id": "CwbDv0nEkUIz"
   },
   "source": [
    "- **BPStatus → Outcome** 관계를 카이제곱검정을 사용해 확인해봅니다.\n",
    "- 우선 교차표를 만들고 확인합니다."
   ]
  },
  {
   "cell_type": "code",
   "execution_count": null,
   "metadata": {
    "id": "Jl7IPy0GkeEn"
   },
   "outputs": [],
   "source": [
    "table = pd.crosstab(diabetes['BPStatus'], diabetes['Outcome'])\n",
    "table"
   ]
  },
  {
   "cell_type": "markdown",
   "metadata": {
    "id": "rE5MBcDrlnFg"
   },
   "source": [
    "- 이 교차표를 사용해 카이제곱검정을 수행합니다."
   ]
  },
  {
   "cell_type": "code",
   "execution_count": null,
   "metadata": {
    "id": "ZIhdTgsSnE_P"
   },
   "outputs": [],
   "source": [
    "result = spst.chi2_contingency(table)\n",
    "print('* 카이제곱통계량:', result[0])\n",
    "print('* p-value:', result[1])\n",
    "print('* 기대빈도:\\n',result[3])"
   ]
  },
  {
   "cell_type": "markdown",
   "metadata": {
    "id": "NsiO4UlD0Ym5"
   },
   "source": [
    "[링크 텍스트](https://)<img src = \"https://github.com/Jangrae/img/blob/master/chi01.png?raw=true\" width=800 align=\"left\"/>"
   ]
  },
  {
   "cell_type": "markdown",
   "metadata": {
    "id": "P285aWDL0fWJ"
   },
   "source": [
    "📌 **기대빈도 계산**\n",
    "\n",
    "**1)** $\\frac{481 \\times 205}{733}$\n",
    "**2)** $\\frac{481 \\times 86}{733}$\n",
    "**3)** $\\frac{481 \\times 442}{733}$\n",
    "**4)** $\\frac{252 \\times 205}{733}$\n",
    "**5)** $\\frac{252 \\times 86}{733}$\n",
    "**6)** $\\frac{252 \\times 442}{733}$\n",
    "\n"
   ]
  },
  {
   "cell_type": "markdown",
   "metadata": {
    "id": "a2Pa1wfO5X3O"
   },
   "source": [
    "📌 **카이제곱통계량 계산**\n",
    "\n",
    "$\\large x^2$$=\\frac{115-134.5225)^2}{134.5225}+\\frac{(70-56.4338)^2}{56.4338}+\\frac{(296-290.0437)^2}{290.0437}+\\frac{(90-70.4775)^2}{70.4775}+\\frac{(16-29.5662)^2}{29.5662}+\\frac{(146-151.9563)^2}{151.9563}=18.0827$"
   ]
  },
  {
   "cell_type": "markdown",
   "metadata": {
    "id": "RrpiFEqgX2sy"
   },
   "source": [
    "<img src='https://raw.githubusercontent.com/jangrae/img/master/practice_20.png' width=120 align=\"left\"/>"
   ]
  },
  {
   "cell_type": "markdown",
   "metadata": {
    "id": "ai4Io_lInE_Q"
   },
   "source": [
    "diabetes 데이터프레임의 다음 변수들 간의 관계를 카이제곱검정으로 확인하세요."
   ]
  },
  {
   "cell_type": "markdown",
   "metadata": {
    "id": "DIIf_Gt9foRO"
   },
   "source": [
    "**1️⃣ BMIStatus → Outcome**"
   ]
  },
  {
   "cell_type": "code",
   "execution_count": null,
   "metadata": {
    "id": "dLVO0UZ3XPH4"
   },
   "outputs": [
    {
     "data": {
      "text/html": [
       "<div>\n",
       "<style scoped>\n",
       "    .dataframe tbody tr th:only-of-type {\n",
       "        vertical-align: middle;\n",
       "    }\n",
       "\n",
       "    .dataframe tbody tr th {\n",
       "        vertical-align: top;\n",
       "    }\n",
       "\n",
       "    .dataframe thead th {\n",
       "        text-align: right;\n",
       "    }\n",
       "</style>\n",
       "<table border=\"1\" class=\"dataframe\">\n",
       "  <thead>\n",
       "    <tr style=\"text-align: right;\">\n",
       "      <th>Outcome</th>\n",
       "      <th>0</th>\n",
       "      <th>1</th>\n",
       "    </tr>\n",
       "    <tr>\n",
       "      <th>BMIStatus</th>\n",
       "      <th></th>\n",
       "      <th></th>\n",
       "    </tr>\n",
       "  </thead>\n",
       "  <tbody>\n",
       "    <tr>\n",
       "      <th>Normal</th>\n",
       "      <td>95</td>\n",
       "      <td>7</td>\n",
       "    </tr>\n",
       "    <tr>\n",
       "      <th>Obese</th>\n",
       "      <td>253</td>\n",
       "      <td>219</td>\n",
       "    </tr>\n",
       "    <tr>\n",
       "      <th>Overweight</th>\n",
       "      <td>139</td>\n",
       "      <td>40</td>\n",
       "    </tr>\n",
       "    <tr>\n",
       "      <th>Underweight</th>\n",
       "      <td>4</td>\n",
       "      <td>0</td>\n",
       "    </tr>\n",
       "  </tbody>\n",
       "</table>\n",
       "</div>"
      ],
      "text/plain": [
       "Outcome        0    1\n",
       "BMIStatus            \n",
       "Normal        95    7\n",
       "Obese        253  219\n",
       "Overweight   139   40\n",
       "Underweight    4    0"
      ]
     },
     "metadata": {},
     "output_type": "display_data"
    },
    {
     "name": "stdout",
     "output_type": "stream",
     "text": [
      "* 카이제곱통계량: 77.05650618834986\n",
      "* p-value: 1.3130075700310087e-16\n",
      "* 기대빈도:\n",
      " [[ 66.15852048  35.84147952]\n",
      " [306.14531044 165.85468956]\n",
      " [116.10171731  62.89828269]\n",
      " [  2.59445178   1.40554822]]\n"
     ]
    }
   ],
   "source": [
    "table = pd.crosstab(diabetes['BMIStatus'], diabetes['Outcome'])\n",
    "display(table)\n",
    "\n",
    "result = spst.chi2_contingency(table)\n",
    "print('* 카이제곱통계x량:', result[0])\n",
    "print('* p-value:', result[1])"
   ]
  },
  {
   "cell_type": "markdown",
   "metadata": {
    "id": "sfkwdLVvZIOP"
   },
   "source": [
    "**2️⃣ AgeGroup → Outcome**"
   ]
  },
  {
   "cell_type": "code",
   "execution_count": 28,
   "metadata": {
    "id": "7HwAZctKZIOQ"
   },
   "outputs": [
    {
     "data": {
      "text/html": [
       "<div>\n",
       "<style scoped>\n",
       "    .dataframe tbody tr th:only-of-type {\n",
       "        vertical-align: middle;\n",
       "    }\n",
       "\n",
       "    .dataframe tbody tr th {\n",
       "        vertical-align: top;\n",
       "    }\n",
       "\n",
       "    .dataframe thead th {\n",
       "        text-align: right;\n",
       "    }\n",
       "</style>\n",
       "<table border=\"1\" class=\"dataframe\">\n",
       "  <thead>\n",
       "    <tr style=\"text-align: right;\">\n",
       "      <th>Outcome</th>\n",
       "      <th>0</th>\n",
       "      <th>1</th>\n",
       "    </tr>\n",
       "    <tr>\n",
       "      <th>AgeGroup</th>\n",
       "      <th></th>\n",
       "      <th></th>\n",
       "    </tr>\n",
       "  </thead>\n",
       "  <tbody>\n",
       "    <tr>\n",
       "      <th>20</th>\n",
       "      <td>312</td>\n",
       "      <td>84</td>\n",
       "    </tr>\n",
       "    <tr>\n",
       "      <th>30</th>\n",
       "      <td>89</td>\n",
       "      <td>76</td>\n",
       "    </tr>\n",
       "    <tr>\n",
       "      <th>40</th>\n",
       "      <td>53</td>\n",
       "      <td>65</td>\n",
       "    </tr>\n",
       "    <tr>\n",
       "      <th>50</th>\n",
       "      <td>23</td>\n",
       "      <td>34</td>\n",
       "    </tr>\n",
       "    <tr>\n",
       "      <th>60</th>\n",
       "      <td>21</td>\n",
       "      <td>8</td>\n",
       "    </tr>\n",
       "    <tr>\n",
       "      <th>70</th>\n",
       "      <td>1</td>\n",
       "      <td>1</td>\n",
       "    </tr>\n",
       "    <tr>\n",
       "      <th>80</th>\n",
       "      <td>1</td>\n",
       "      <td>0</td>\n",
       "    </tr>\n",
       "  </tbody>\n",
       "</table>\n",
       "</div>"
      ],
      "text/plain": [
       "Outcome     0   1\n",
       "AgeGroup         \n",
       "20        312  84\n",
       "30         89  76\n",
       "40         53  65\n",
       "50         23  34\n",
       "60         21   8\n",
       "70          1   1\n",
       "80          1   0"
      ]
     },
     "metadata": {},
     "output_type": "display_data"
    },
    {
     "name": "stdout",
     "output_type": "stream",
     "text": [
      "* 카이제곱통계량: 79.65305561212087\n",
      "* p-value: 4.213801887597233e-15\n"
     ]
    }
   ],
   "source": [
    "table = pd.crosstab(diabetes['AgeGroup'], diabetes['Outcome'])\n",
    "display(table)\n",
    "\n",
    "result = spst.chi2_contingency(table)\n",
    "print('* 카이제곱통계량:', result[0])\n",
    "print('* p-value:', result[1])\n"
   ]
  },
  {
   "cell_type": "markdown",
   "metadata": {
    "id": "NcfBt8loX2tG"
   },
   "source": [
    "<img src='https://raw.githubusercontent.com/jangrae/img/master/practice_20e.png' width=45 align=\"left\"/>"
   ]
  }
 ],
 "metadata": {
  "colab": {
   "provenance": []
  },
  "kernelspec": {
   "display_name": "base",
   "language": "python",
   "name": "python3"
  },
  "language_info": {
   "codemirror_mode": {
    "name": "ipython",
    "version": 3
   },
   "file_extension": ".py",
   "mimetype": "text/x-python",
   "name": "python",
   "nbconvert_exporter": "python",
   "pygments_lexer": "ipython3",
   "version": "3.13.5"
  }
 },
 "nbformat": 4,
 "nbformat_minor": 4
}
