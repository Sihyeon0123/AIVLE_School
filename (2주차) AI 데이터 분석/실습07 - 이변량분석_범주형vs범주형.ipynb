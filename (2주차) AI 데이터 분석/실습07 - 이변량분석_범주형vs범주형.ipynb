{
 "cells": [
  {
   "cell_type": "markdown",
   "metadata": {
    "id": "b3TDAdnvnSbh"
   },
   "source": [
    "<center><img src='https://raw.githubusercontent.com/Jangrae/img/master/title.png' width=500/></center>\n"
   ]
  },
  {
   "cell_type": "markdown",
   "metadata": {
    "id": "PmZtDSeUdRJ5"
   },
   "source": [
    "\n",
    "# **실습: 이변량 분석 ③ - 범주형  → 범주형**"
   ]
  },
  {
   "cell_type": "markdown",
   "metadata": {
    "id": "4UklllBjdRJ7"
   },
   "source": [
    "## **1. 환경준비**"
   ]
  },
  {
   "cell_type": "code",
   "execution_count": 1,
   "metadata": {
    "id": "yROT1tWLdRJ8"
   },
   "outputs": [],
   "source": [
    "import numpy as np\n",
    "import pandas as pd\n",
    "import random as rd\n",
    "import matplotlib.pyplot as plt\n",
    "import seaborn as sns\n",
    "from statsmodels.graphics.mosaicplot import mosaic\n",
    "import scipy.stats as spst\n",
    "import warnings\n",
    "\n",
    "warnings.filterwarnings(action='ignore')\n",
    "%config InlineBackend.figure_format = 'retina'\n",
    "plt.rcParams['figure.figsize'] = (6, 4)"
   ]
  },
  {
   "cell_type": "code",
   "execution_count": 3,
   "metadata": {
    "id": "2voHuCQWY03s"
   },
   "outputs": [
    {
     "data": {
      "text/html": [
       "<div>\n",
       "<style scoped>\n",
       "    .dataframe tbody tr th:only-of-type {\n",
       "        vertical-align: middle;\n",
       "    }\n",
       "\n",
       "    .dataframe tbody tr th {\n",
       "        vertical-align: top;\n",
       "    }\n",
       "\n",
       "    .dataframe thead th {\n",
       "        text-align: right;\n",
       "    }\n",
       "</style>\n",
       "<table border=\"1\" class=\"dataframe\">\n",
       "  <thead>\n",
       "    <tr style=\"text-align: right;\">\n",
       "      <th></th>\n",
       "      <th>Attrition</th>\n",
       "      <th>Age</th>\n",
       "      <th>DistanceFromHome</th>\n",
       "      <th>EmployeeNumber</th>\n",
       "      <th>Gender</th>\n",
       "      <th>JobSatisfaction</th>\n",
       "      <th>MaritalStatus</th>\n",
       "      <th>MonthlyIncome</th>\n",
       "      <th>OverTime</th>\n",
       "      <th>PercentSalaryHike</th>\n",
       "      <th>TotalWorkingYears</th>\n",
       "    </tr>\n",
       "  </thead>\n",
       "  <tbody>\n",
       "    <tr>\n",
       "      <th>0</th>\n",
       "      <td>0</td>\n",
       "      <td>33</td>\n",
       "      <td>7</td>\n",
       "      <td>817</td>\n",
       "      <td>Male</td>\n",
       "      <td>3</td>\n",
       "      <td>Married</td>\n",
       "      <td>11691</td>\n",
       "      <td>No</td>\n",
       "      <td>11</td>\n",
       "      <td>14</td>\n",
       "    </tr>\n",
       "    <tr>\n",
       "      <th>1</th>\n",
       "      <td>0</td>\n",
       "      <td>35</td>\n",
       "      <td>18</td>\n",
       "      <td>1412</td>\n",
       "      <td>Male</td>\n",
       "      <td>4</td>\n",
       "      <td>Single</td>\n",
       "      <td>9362</td>\n",
       "      <td>No</td>\n",
       "      <td>11</td>\n",
       "      <td>10</td>\n",
       "    </tr>\n",
       "    <tr>\n",
       "      <th>2</th>\n",
       "      <td>0</td>\n",
       "      <td>42</td>\n",
       "      <td>6</td>\n",
       "      <td>1911</td>\n",
       "      <td>Male</td>\n",
       "      <td>1</td>\n",
       "      <td>Married</td>\n",
       "      <td>13348</td>\n",
       "      <td>No</td>\n",
       "      <td>13</td>\n",
       "      <td>18</td>\n",
       "    </tr>\n",
       "    <tr>\n",
       "      <th>3</th>\n",
       "      <td>0</td>\n",
       "      <td>46</td>\n",
       "      <td>2</td>\n",
       "      <td>1204</td>\n",
       "      <td>Female</td>\n",
       "      <td>1</td>\n",
       "      <td>Married</td>\n",
       "      <td>17048</td>\n",
       "      <td>No</td>\n",
       "      <td>23</td>\n",
       "      <td>28</td>\n",
       "    </tr>\n",
       "    <tr>\n",
       "      <th>4</th>\n",
       "      <td>1</td>\n",
       "      <td>22</td>\n",
       "      <td>4</td>\n",
       "      <td>593</td>\n",
       "      <td>Male</td>\n",
       "      <td>3</td>\n",
       "      <td>Single</td>\n",
       "      <td>3894</td>\n",
       "      <td>No</td>\n",
       "      <td>16</td>\n",
       "      <td>4</td>\n",
       "    </tr>\n",
       "  </tbody>\n",
       "</table>\n",
       "</div>"
      ],
      "text/plain": [
       "   Attrition  Age  DistanceFromHome  EmployeeNumber  Gender  JobSatisfaction  \\\n",
       "0          0   33                 7             817    Male                3   \n",
       "1          0   35                18            1412    Male                4   \n",
       "2          0   42                 6            1911    Male                1   \n",
       "3          0   46                 2            1204  Female                1   \n",
       "4          1   22                 4             593    Male                3   \n",
       "\n",
       "  MaritalStatus  MonthlyIncome OverTime  PercentSalaryHike  TotalWorkingYears  \n",
       "0       Married          11691       No                 11                 14  \n",
       "1        Single           9362       No                 11                 10  \n",
       "2       Married          13348       No                 13                 18  \n",
       "3       Married          17048       No                 23                 28  \n",
       "4        Single           3894       No                 16                  4  "
      ]
     },
     "execution_count": 3,
     "metadata": {},
     "output_type": "execute_result"
    }
   ],
   "source": [
    "# Attrition 데이터\n",
    "path = 'https://raw.githubusercontent.com/Jangrae/csv/master/Attrition_simple2.csv'\n",
    "data = pd.read_csv(path)\n",
    "data.head(5)"
   ]
  },
  {
   "cell_type": "markdown",
   "metadata": {
    "id": "alMCGdShMLQt"
   },
   "source": [
    "**📋 데이터 정보**\n",
    "\n",
    "- Attrition: 이직 여부 (1: 이직, 0: 잔류)\n",
    "- Age: 나이\n",
    "- DistanceFromHome: 집-직장 거리 (단위: 마일)\n",
    "- EmployeeNumber: 사번\n",
    "- Gender: 성별 (Male, Female)\n",
    "- JobSatisfaction: 직무만족도(1: Low, 2: Medium, 3: High, 4: Very High)\n",
    "- MaritalStatus: 결혼 상태 (Single, Married, Divorced)\n",
    "- MonthlyIncome: 월급 (단위: 달러)\n",
    "- OverTime: 야근 여부 (Yes, No)\n",
    "- PercentSalaryHike: 전년 대비 급여 인상율(단위: %)\n",
    "- TotalWorkingYears: 총 경력 연수"
   ]
  },
  {
   "cell_type": "markdown",
   "metadata": {
    "id": "HmuNcr-YdRJ-"
   },
   "source": [
    "## **2. 교차표**\n",
    "\n",
    "- 다음에 지정한 두 변수의 관계에 대해서 교차표를 만들어 보세요."
   ]
  },
  {
   "cell_type": "markdown",
   "metadata": {
    "id": "K2WERwSGUU9-"
   },
   "source": [
    "**1️⃣ 성별(Gender) → 이직 여부(Attrition)**"
   ]
  },
  {
   "cell_type": "markdown",
   "metadata": {
    "id": "g0waSPvJBb-u"
   },
   "source": [
    "- 전체 개수"
   ]
  },
  {
   "cell_type": "code",
   "execution_count": 4,
   "metadata": {
    "id": "sqrtTjkZdRJ_"
   },
   "outputs": [
    {
     "data": {
      "text/html": [
       "<div>\n",
       "<style scoped>\n",
       "    .dataframe tbody tr th:only-of-type {\n",
       "        vertical-align: middle;\n",
       "    }\n",
       "\n",
       "    .dataframe tbody tr th {\n",
       "        vertical-align: top;\n",
       "    }\n",
       "\n",
       "    .dataframe thead th {\n",
       "        text-align: right;\n",
       "    }\n",
       "</style>\n",
       "<table border=\"1\" class=\"dataframe\">\n",
       "  <thead>\n",
       "    <tr style=\"text-align: right;\">\n",
       "      <th>Attrition</th>\n",
       "      <th>0</th>\n",
       "      <th>1</th>\n",
       "    </tr>\n",
       "    <tr>\n",
       "      <th>Gender</th>\n",
       "      <th></th>\n",
       "      <th></th>\n",
       "    </tr>\n",
       "  </thead>\n",
       "  <tbody>\n",
       "    <tr>\n",
       "      <th>Female</th>\n",
       "      <td>403</td>\n",
       "      <td>66</td>\n",
       "    </tr>\n",
       "    <tr>\n",
       "      <th>Male</th>\n",
       "      <td>598</td>\n",
       "      <td>129</td>\n",
       "    </tr>\n",
       "  </tbody>\n",
       "</table>\n",
       "</div>"
      ],
      "text/plain": [
       "Attrition    0    1\n",
       "Gender             \n",
       "Female     403   66\n",
       "Male       598  129"
      ]
     },
     "execution_count": 4,
     "metadata": {},
     "output_type": "execute_result"
    }
   ],
   "source": [
    "pd.crosstab(data['Gender'], data['Attrition'])"
   ]
  },
  {
   "cell_type": "markdown",
   "metadata": {
    "id": "jqQ1ZavZVRoM"
   },
   "source": [
    "- 행 기준 비율"
   ]
  },
  {
   "cell_type": "code",
   "execution_count": 27,
   "metadata": {
    "id": "sCyn_L0NdRKA"
   },
   "outputs": [
    {
     "data": {
      "text/html": [
       "<div>\n",
       "<style scoped>\n",
       "    .dataframe tbody tr th:only-of-type {\n",
       "        vertical-align: middle;\n",
       "    }\n",
       "\n",
       "    .dataframe tbody tr th {\n",
       "        vertical-align: top;\n",
       "    }\n",
       "\n",
       "    .dataframe thead th {\n",
       "        text-align: right;\n",
       "    }\n",
       "</style>\n",
       "<table border=\"1\" class=\"dataframe\">\n",
       "  <thead>\n",
       "    <tr style=\"text-align: right;\">\n",
       "      <th>Attrition</th>\n",
       "      <th>0</th>\n",
       "      <th>1</th>\n",
       "    </tr>\n",
       "    <tr>\n",
       "      <th>Gender</th>\n",
       "      <th></th>\n",
       "      <th></th>\n",
       "    </tr>\n",
       "  </thead>\n",
       "  <tbody>\n",
       "    <tr>\n",
       "      <th>Female</th>\n",
       "      <td>0.859275</td>\n",
       "      <td>0.140725</td>\n",
       "    </tr>\n",
       "    <tr>\n",
       "      <th>Male</th>\n",
       "      <td>0.822558</td>\n",
       "      <td>0.177442</td>\n",
       "    </tr>\n",
       "  </tbody>\n",
       "</table>\n",
       "</div>"
      ],
      "text/plain": [
       "Attrition         0         1\n",
       "Gender                       \n",
       "Female     0.859275  0.140725\n",
       "Male       0.822558  0.177442"
      ]
     },
     "execution_count": 27,
     "metadata": {},
     "output_type": "execute_result"
    }
   ],
   "source": [
    "pd.crosstab(data['Gender'], data['Attrition'], normalize='index')"
   ]
  },
  {
   "cell_type": "markdown",
   "metadata": {
    "id": "zLZTkWPkV3dN"
   },
   "source": [
    "- **질문:** 교차표를 통해 성별(Gender)에 따라 이직 여부가 관련 있다고 보이나요?"
   ]
  },
  {
   "cell_type": "markdown",
   "metadata": {},
   "source": [
    "# 현재 자료로는 판단이 힘듬"
   ]
  },
  {
   "cell_type": "markdown",
   "metadata": {
    "id": "ue-5F_ErVkDY"
   },
   "source": [
    "**2️⃣ 직무만족도(JobSatisfaction) → 이직 여부(Attrition)**"
   ]
  },
  {
   "cell_type": "markdown",
   "metadata": {
    "id": "Xki1XpZDC2XC"
   },
   "source": [
    "- 전체 개수"
   ]
  },
  {
   "cell_type": "code",
   "execution_count": 7,
   "metadata": {
    "id": "1HyMqxNIVkDZ"
   },
   "outputs": [
    {
     "data": {
      "text/html": [
       "<div>\n",
       "<style scoped>\n",
       "    .dataframe tbody tr th:only-of-type {\n",
       "        vertical-align: middle;\n",
       "    }\n",
       "\n",
       "    .dataframe tbody tr th {\n",
       "        vertical-align: top;\n",
       "    }\n",
       "\n",
       "    .dataframe thead th {\n",
       "        text-align: right;\n",
       "    }\n",
       "</style>\n",
       "<table border=\"1\" class=\"dataframe\">\n",
       "  <thead>\n",
       "    <tr style=\"text-align: right;\">\n",
       "      <th>Attrition</th>\n",
       "      <th>0</th>\n",
       "      <th>1</th>\n",
       "    </tr>\n",
       "    <tr>\n",
       "      <th>JobSatisfaction</th>\n",
       "      <th></th>\n",
       "      <th></th>\n",
       "    </tr>\n",
       "  </thead>\n",
       "  <tbody>\n",
       "    <tr>\n",
       "      <th>1</th>\n",
       "      <td>191</td>\n",
       "      <td>52</td>\n",
       "    </tr>\n",
       "    <tr>\n",
       "      <th>2</th>\n",
       "      <td>189</td>\n",
       "      <td>37</td>\n",
       "    </tr>\n",
       "    <tr>\n",
       "      <th>3</th>\n",
       "      <td>295</td>\n",
       "      <td>59</td>\n",
       "    </tr>\n",
       "    <tr>\n",
       "      <th>4</th>\n",
       "      <td>326</td>\n",
       "      <td>47</td>\n",
       "    </tr>\n",
       "  </tbody>\n",
       "</table>\n",
       "</div>"
      ],
      "text/plain": [
       "Attrition          0   1\n",
       "JobSatisfaction         \n",
       "1                191  52\n",
       "2                189  37\n",
       "3                295  59\n",
       "4                326  47"
      ]
     },
     "execution_count": 7,
     "metadata": {},
     "output_type": "execute_result"
    }
   ],
   "source": [
    "pd.crosstab(data['JobSatisfaction'], data['Attrition'])"
   ]
  },
  {
   "cell_type": "markdown",
   "metadata": {
    "id": "ubYDgFiPVkDa"
   },
   "source": [
    "- 행 기준 비율"
   ]
  },
  {
   "cell_type": "code",
   "execution_count": 28,
   "metadata": {
    "id": "v6CUOLQnVkDb"
   },
   "outputs": [
    {
     "data": {
      "text/html": [
       "<div>\n",
       "<style scoped>\n",
       "    .dataframe tbody tr th:only-of-type {\n",
       "        vertical-align: middle;\n",
       "    }\n",
       "\n",
       "    .dataframe tbody tr th {\n",
       "        vertical-align: top;\n",
       "    }\n",
       "\n",
       "    .dataframe thead th {\n",
       "        text-align: right;\n",
       "    }\n",
       "</style>\n",
       "<table border=\"1\" class=\"dataframe\">\n",
       "  <thead>\n",
       "    <tr style=\"text-align: right;\">\n",
       "      <th>Attrition</th>\n",
       "      <th>0</th>\n",
       "      <th>1</th>\n",
       "    </tr>\n",
       "    <tr>\n",
       "      <th>JobSatisfaction</th>\n",
       "      <th></th>\n",
       "      <th></th>\n",
       "    </tr>\n",
       "  </thead>\n",
       "  <tbody>\n",
       "    <tr>\n",
       "      <th>1</th>\n",
       "      <td>0.786008</td>\n",
       "      <td>0.213992</td>\n",
       "    </tr>\n",
       "    <tr>\n",
       "      <th>2</th>\n",
       "      <td>0.836283</td>\n",
       "      <td>0.163717</td>\n",
       "    </tr>\n",
       "    <tr>\n",
       "      <th>3</th>\n",
       "      <td>0.833333</td>\n",
       "      <td>0.166667</td>\n",
       "    </tr>\n",
       "    <tr>\n",
       "      <th>4</th>\n",
       "      <td>0.873995</td>\n",
       "      <td>0.126005</td>\n",
       "    </tr>\n",
       "  </tbody>\n",
       "</table>\n",
       "</div>"
      ],
      "text/plain": [
       "Attrition               0         1\n",
       "JobSatisfaction                    \n",
       "1                0.786008  0.213992\n",
       "2                0.836283  0.163717\n",
       "3                0.833333  0.166667\n",
       "4                0.873995  0.126005"
      ]
     },
     "execution_count": 28,
     "metadata": {},
     "output_type": "execute_result"
    }
   ],
   "source": [
    "pd.crosstab(data['JobSatisfaction'], data['Attrition'], normalize='index')"
   ]
  },
  {
   "cell_type": "markdown",
   "metadata": {
    "id": "Z8a9JoFrWLsS"
   },
   "source": [
    "- **질문:** 교차표를 통해 직무만족도(JobSatisfaction)에 따라 이직 여부(Attrition)가 관련 있다고 보이나요?"
   ]
  },
  {
   "cell_type": "code",
   "execution_count": 31,
   "metadata": {
    "id": "OCN20OLXWLsT"
   },
   "outputs": [],
   "source": [
    "# 직무만족도와 이직 여부는 관련이 있어 보입니다."
   ]
  },
  {
   "cell_type": "markdown",
   "metadata": {
    "id": "YQHgEGWyaIe2"
   },
   "source": [
    "**3️⃣ 결혼 상태(MaritalStatus) → 이직 여부(Attrition')**"
   ]
  },
  {
   "cell_type": "markdown",
   "metadata": {
    "id": "ciT3-r4_DM3I"
   },
   "source": [
    "- 전체 개수"
   ]
  },
  {
   "cell_type": "code",
   "execution_count": 10,
   "metadata": {
    "id": "yKtN7UC7aIfB"
   },
   "outputs": [
    {
     "data": {
      "text/html": [
       "<div>\n",
       "<style scoped>\n",
       "    .dataframe tbody tr th:only-of-type {\n",
       "        vertical-align: middle;\n",
       "    }\n",
       "\n",
       "    .dataframe tbody tr th {\n",
       "        vertical-align: top;\n",
       "    }\n",
       "\n",
       "    .dataframe thead th {\n",
       "        text-align: right;\n",
       "    }\n",
       "</style>\n",
       "<table border=\"1\" class=\"dataframe\">\n",
       "  <thead>\n",
       "    <tr style=\"text-align: right;\">\n",
       "      <th>Attrition</th>\n",
       "      <th>0</th>\n",
       "      <th>1</th>\n",
       "    </tr>\n",
       "    <tr>\n",
       "      <th>MaritalStatus</th>\n",
       "      <th></th>\n",
       "      <th></th>\n",
       "    </tr>\n",
       "  </thead>\n",
       "  <tbody>\n",
       "    <tr>\n",
       "      <th>Divorced</th>\n",
       "      <td>241</td>\n",
       "      <td>23</td>\n",
       "    </tr>\n",
       "    <tr>\n",
       "      <th>Married</th>\n",
       "      <td>479</td>\n",
       "      <td>69</td>\n",
       "    </tr>\n",
       "    <tr>\n",
       "      <th>Single</th>\n",
       "      <td>281</td>\n",
       "      <td>103</td>\n",
       "    </tr>\n",
       "  </tbody>\n",
       "</table>\n",
       "</div>"
      ],
      "text/plain": [
       "Attrition        0    1\n",
       "MaritalStatus          \n",
       "Divorced       241   23\n",
       "Married        479   69\n",
       "Single         281  103"
      ]
     },
     "execution_count": 10,
     "metadata": {},
     "output_type": "execute_result"
    }
   ],
   "source": [
    "pd.crosstab(data['MaritalStatus'], data['Attrition'])"
   ]
  },
  {
   "cell_type": "markdown",
   "metadata": {
    "id": "LRZTy8TKaIfD"
   },
   "source": [
    "- 행 기준 비율"
   ]
  },
  {
   "cell_type": "code",
   "execution_count": 29,
   "metadata": {
    "id": "q2_pFRBaaIfD"
   },
   "outputs": [
    {
     "data": {
      "text/html": [
       "<div>\n",
       "<style scoped>\n",
       "    .dataframe tbody tr th:only-of-type {\n",
       "        vertical-align: middle;\n",
       "    }\n",
       "\n",
       "    .dataframe tbody tr th {\n",
       "        vertical-align: top;\n",
       "    }\n",
       "\n",
       "    .dataframe thead th {\n",
       "        text-align: right;\n",
       "    }\n",
       "</style>\n",
       "<table border=\"1\" class=\"dataframe\">\n",
       "  <thead>\n",
       "    <tr style=\"text-align: right;\">\n",
       "      <th>Attrition</th>\n",
       "      <th>0</th>\n",
       "      <th>1</th>\n",
       "    </tr>\n",
       "    <tr>\n",
       "      <th>MaritalStatus</th>\n",
       "      <th></th>\n",
       "      <th></th>\n",
       "    </tr>\n",
       "  </thead>\n",
       "  <tbody>\n",
       "    <tr>\n",
       "      <th>Divorced</th>\n",
       "      <td>0.912879</td>\n",
       "      <td>0.087121</td>\n",
       "    </tr>\n",
       "    <tr>\n",
       "      <th>Married</th>\n",
       "      <td>0.874088</td>\n",
       "      <td>0.125912</td>\n",
       "    </tr>\n",
       "    <tr>\n",
       "      <th>Single</th>\n",
       "      <td>0.731771</td>\n",
       "      <td>0.268229</td>\n",
       "    </tr>\n",
       "  </tbody>\n",
       "</table>\n",
       "</div>"
      ],
      "text/plain": [
       "Attrition             0         1\n",
       "MaritalStatus                    \n",
       "Divorced       0.912879  0.087121\n",
       "Married        0.874088  0.125912\n",
       "Single         0.731771  0.268229"
      ]
     },
     "execution_count": 29,
     "metadata": {},
     "output_type": "execute_result"
    }
   ],
   "source": [
    "pd.crosstab(data['MaritalStatus'], data['Attrition'], normalize='index')"
   ]
  },
  {
   "cell_type": "markdown",
   "metadata": {
    "id": "GptS-M-0aIfE"
   },
   "source": [
    "- **질문:** 교차표를 통해 결혼 상태(MaritalStatus)에 따라 이직 여부(Attrition)가 관련 있다고 보이나요?"
   ]
  },
  {
   "cell_type": "code",
   "execution_count": null,
   "metadata": {
    "id": "qKxCS-HdaIfF"
   },
   "outputs": [],
   "source": [
    "# 혼자사는 경우 이직률이 높다"
   ]
  },
  {
   "cell_type": "markdown",
   "metadata": {
    "id": "KpOlS7FLg-z5"
   },
   "source": [
    "**4️⃣ 야근 여부(OverTime) → 이직 여부(Attrition')**"
   ]
  },
  {
   "cell_type": "markdown",
   "metadata": {
    "id": "e4jvc8dsg-z5"
   },
   "source": [
    "- 전체 개수"
   ]
  },
  {
   "cell_type": "code",
   "execution_count": 12,
   "metadata": {
    "id": "gTOK3jYng-z5"
   },
   "outputs": [
    {
     "data": {
      "text/html": [
       "<div>\n",
       "<style scoped>\n",
       "    .dataframe tbody tr th:only-of-type {\n",
       "        vertical-align: middle;\n",
       "    }\n",
       "\n",
       "    .dataframe tbody tr th {\n",
       "        vertical-align: top;\n",
       "    }\n",
       "\n",
       "    .dataframe thead th {\n",
       "        text-align: right;\n",
       "    }\n",
       "</style>\n",
       "<table border=\"1\" class=\"dataframe\">\n",
       "  <thead>\n",
       "    <tr style=\"text-align: right;\">\n",
       "      <th>Attrition</th>\n",
       "      <th>0</th>\n",
       "      <th>1</th>\n",
       "    </tr>\n",
       "    <tr>\n",
       "      <th>OverTime</th>\n",
       "      <th></th>\n",
       "      <th></th>\n",
       "    </tr>\n",
       "  </thead>\n",
       "  <tbody>\n",
       "    <tr>\n",
       "      <th>No</th>\n",
       "      <td>764</td>\n",
       "      <td>90</td>\n",
       "    </tr>\n",
       "    <tr>\n",
       "      <th>Yes</th>\n",
       "      <td>237</td>\n",
       "      <td>105</td>\n",
       "    </tr>\n",
       "  </tbody>\n",
       "</table>\n",
       "</div>"
      ],
      "text/plain": [
       "Attrition    0    1\n",
       "OverTime           \n",
       "No         764   90\n",
       "Yes        237  105"
      ]
     },
     "execution_count": 12,
     "metadata": {},
     "output_type": "execute_result"
    }
   ],
   "source": [
    "pd.crosstab(data['OverTime'], data['Attrition'])"
   ]
  },
  {
   "cell_type": "markdown",
   "metadata": {
    "id": "71jyZ74Ag-z6"
   },
   "source": [
    "- 행 기준 비율"
   ]
  },
  {
   "cell_type": "code",
   "execution_count": 30,
   "metadata": {
    "id": "_izm9n-Rg-z6"
   },
   "outputs": [
    {
     "data": {
      "text/html": [
       "<div>\n",
       "<style scoped>\n",
       "    .dataframe tbody tr th:only-of-type {\n",
       "        vertical-align: middle;\n",
       "    }\n",
       "\n",
       "    .dataframe tbody tr th {\n",
       "        vertical-align: top;\n",
       "    }\n",
       "\n",
       "    .dataframe thead th {\n",
       "        text-align: right;\n",
       "    }\n",
       "</style>\n",
       "<table border=\"1\" class=\"dataframe\">\n",
       "  <thead>\n",
       "    <tr style=\"text-align: right;\">\n",
       "      <th>Attrition</th>\n",
       "      <th>0</th>\n",
       "      <th>1</th>\n",
       "    </tr>\n",
       "    <tr>\n",
       "      <th>OverTime</th>\n",
       "      <th></th>\n",
       "      <th></th>\n",
       "    </tr>\n",
       "  </thead>\n",
       "  <tbody>\n",
       "    <tr>\n",
       "      <th>No</th>\n",
       "      <td>0.894614</td>\n",
       "      <td>0.105386</td>\n",
       "    </tr>\n",
       "    <tr>\n",
       "      <th>Yes</th>\n",
       "      <td>0.692982</td>\n",
       "      <td>0.307018</td>\n",
       "    </tr>\n",
       "  </tbody>\n",
       "</table>\n",
       "</div>"
      ],
      "text/plain": [
       "Attrition         0         1\n",
       "OverTime                     \n",
       "No         0.894614  0.105386\n",
       "Yes        0.692982  0.307018"
      ]
     },
     "execution_count": 30,
     "metadata": {},
     "output_type": "execute_result"
    }
   ],
   "source": [
    "pd.crosstab(data['OverTime'], data['Attrition'], normalize='index')"
   ]
  },
  {
   "cell_type": "markdown",
   "metadata": {
    "id": "6gfDBhWmg-z6"
   },
   "source": [
    "- **질문:** 교차표를 통해 야근 여부(OverTime)에 따라 이직 여부(Attrition)가 관련 있다고 보이나요?"
   ]
  },
  {
   "cell_type": "code",
   "execution_count": null,
   "metadata": {
    "id": "TfcNtGlSg-z6"
   },
   "outputs": [],
   "source": [
    "# 관련이 있어보임"
   ]
  },
  {
   "cell_type": "markdown",
   "metadata": {
    "id": "L1doOGiYWOY-"
   },
   "source": [
    "- **질문:** 성별, 직무만족도, 결혼 상태, 야근 여부 중 어떤 변수가 이직 여부를 예측하는데 더 중요한 변수인가요?"
   ]
  },
  {
   "cell_type": "code",
   "execution_count": null,
   "metadata": {
    "id": "HN8Oa4_BWX19"
   },
   "outputs": [],
   "source": [
    "# 야근 여부가 가장 큰 차이를 보임"
   ]
  },
  {
   "cell_type": "markdown",
   "metadata": {
    "id": "AVvWLzMGdRKD"
   },
   "source": [
    "## **3. 시각화**\n",
    "\n",
    "- 100% Stacked Bar, Mosaic Plot을 사용해 시각화해 보세요."
   ]
  },
  {
   "cell_type": "markdown",
   "metadata": {
    "id": "_wEBgf8JdRKD"
   },
   "source": [
    "**1️⃣ 성별(Gender) → 이직 여부(Attrition)**"
   ]
  },
  {
   "cell_type": "markdown",
   "metadata": {
    "id": "30SQGugIE9qr"
   },
   "source": [
    "- 100% Stacked Bar"
   ]
  },
  {
   "cell_type": "code",
   "execution_count": 13,
   "metadata": {
    "id": "5xVcKWaOdRKD"
   },
   "outputs": [
    {
     "data": {
      "image/png": "[encoded data removed]",
      "text/plain": [
       "<Figure size 600x400 with 1 Axes>"
      ]
     },
     "metadata": {
      "image/png": {
       "height": 371,
       "width": 516
      }
     },
     "output_type": "display_data"
    }
   ],
   "source": [
    "table = pd.crosstab(data['Gender'], data['Attrition'], normalize='index')\n",
    "\n",
    "table.plot(kind='bar', stacked=True)\n",
    "\n",
    "plt.axhline(1-data['Attrition'].mean(), color='r')\n",
    "plt.xticks(rotation=0)\n",
    "plt.show()"
   ]
  },
  {
   "cell_type": "markdown",
   "metadata": {
    "id": "sV7akerqbWXE"
   },
   "source": [
    "- Mosaic Plot"
   ]
  },
  {
   "cell_type": "code",
   "execution_count": 14,
   "metadata": {
    "id": "COgPkiBddRKE"
   },
   "outputs": [
    {
     "data": {
      "image/png": "[encoded data removed]",
      "text/plain": [
       "<Figure size 600x400 with 3 Axes>"
      ]
     },
     "metadata": {
      "image/png": {
       "height": 351,
       "width": 503
      }
     },
     "output_type": "display_data"
    }
   ],
   "source": [
    "mosaic(data, ['Gender', 'Attrition'])\n",
    "plt.axhline(1-data['Attrition'].mean(), color='r')\n",
    "plt.show()"
   ]
  },
  {
   "cell_type": "markdown",
   "metadata": {
    "id": "9A2HVREgbZJ_"
   },
   "source": [
    "- **질문:**  두 차트로 볼 때, 성별(Gender)에 따라 이직 여부가 달라지나요?"
   ]
  },
  {
   "cell_type": "code",
   "execution_count": null,
   "metadata": {
    "id": "oCuWaOVTbgxF"
   },
   "outputs": [],
   "source": [
    "# 큰 차이가 없다"
   ]
  },
  {
   "cell_type": "markdown",
   "metadata": {
    "id": "_fZpBa9lbjeH"
   },
   "source": [
    "**2️⃣ 직무만족도(JobSatisfaction) → 이직 여부(Attrition)**"
   ]
  },
  {
   "cell_type": "markdown",
   "metadata": {
    "id": "YoDDQ3RVFEL2"
   },
   "source": [
    "- 100% Stacked Bar"
   ]
  },
  {
   "cell_type": "code",
   "execution_count": 15,
   "metadata": {
    "id": "3Wl_oBrUbjeI"
   },
   "outputs": [
    {
     "data": {
      "image/png": "[encoded data removed]",
      "text/plain": [
       "<Figure size 600x400 with 1 Axes>"
      ]
     },
     "metadata": {
      "image/png": {
       "height": 371,
       "width": 516
      }
     },
     "output_type": "display_data"
    }
   ],
   "source": [
    "table = pd.crosstab(data['JobSatisfaction'], data['Attrition'], normalize='index')\n",
    "\n",
    "table.plot(kind='bar', stacked=True)\n",
    "\n",
    "plt.axhline(1-data['Attrition'].mean(), color='r')\n",
    "plt.xticks(rotation=0)\n",
    "plt.show()"
   ]
  },
  {
   "cell_type": "markdown",
   "metadata": {
    "id": "F7FP_UlnbjeJ"
   },
   "source": [
    "- Mosaic Plot"
   ]
  },
  {
   "cell_type": "code",
   "execution_count": 34,
   "metadata": {
    "id": "gyZCjbyAbjeJ"
   },
   "outputs": [
    {
     "data": {
      "image/png": "[encoded data removed]",
      "text/plain": [
       "<Figure size 600x400 with 3 Axes>"
      ]
     },
     "metadata": {
      "image/png": {
       "height": 351,
       "width": 503
      }
     },
     "output_type": "display_data"
    }
   ],
   "source": [
    "mosaic(data, ['JobSatisfaction', 'Attrition'])\n",
    "plt.axhline(data['Attrition'].mean(), color='r')\n",
    "plt.show()"
   ]
  },
  {
   "cell_type": "markdown",
   "metadata": {
    "id": "wXNkVRVXbjeK"
   },
   "source": [
    "- **질문:** 두 차트로 볼 때, 직무만족도(JobSatisfaction)에 따라 이직 여부(Attrition)가 달라지나요?"
   ]
  },
  {
   "cell_type": "code",
   "execution_count": null,
   "metadata": {
    "id": "ojolV1nPbjeK"
   },
   "outputs": [],
   "source": [
    "# 큰 차이가 보이지 않음"
   ]
  },
  {
   "cell_type": "markdown",
   "metadata": {
    "id": "zu-43a3PbT-v"
   },
   "source": [
    "**3️⃣ 결혼 상태(MaritalStatus) → 이직 여부(Attrition)**"
   ]
  },
  {
   "cell_type": "markdown",
   "metadata": {
    "id": "XvQcVFs-FGQY"
   },
   "source": [
    "- 100% Stacked Bar"
   ]
  },
  {
   "cell_type": "code",
   "execution_count": 17,
   "metadata": {
    "id": "6m_p-JS5bT-x"
   },
   "outputs": [
    {
     "data": {
      "image/png": "[encoded data removed]",
      "text/plain": [
       "<Figure size 600x400 with 1 Axes>"
      ]
     },
     "metadata": {
      "image/png": {
       "height": 371,
       "width": 516
      }
     },
     "output_type": "display_data"
    }
   ],
   "source": [
    "table = pd.crosstab(data['MaritalStatus'], data['Attrition'], normalize='index')\n",
    "\n",
    "table.plot(kind='bar', stacked=True)\n",
    "\n",
    "plt.axhline(1-data['Attrition'].mean(), color='r')\n",
    "plt.xticks(rotation=0)\n",
    "plt.show()"
   ]
  },
  {
   "cell_type": "markdown",
   "metadata": {
    "id": "9yPObcxabT-y"
   },
   "source": [
    "- Mosaic Plot"
   ]
  },
  {
   "cell_type": "code",
   "execution_count": 32,
   "metadata": {
    "id": "bQ5VSVAPbT-z"
   },
   "outputs": [
    {
     "data": {
      "image/png": "[encoded data removed]",
      "text/plain": [
       "<Figure size 600x400 with 3 Axes>"
      ]
     },
     "metadata": {
      "image/png": {
       "height": 351,
       "width": 503
      }
     },
     "output_type": "display_data"
    }
   ],
   "source": [
    "mosaic(data, ['MaritalStatus', 'Attrition'])\n",
    "plt.axhline(data['Attrition'].mean(), color='r')\n",
    "plt.show()"
   ]
  },
  {
   "cell_type": "markdown",
   "metadata": {
    "id": "qQz_KohUbT-z"
   },
   "source": [
    "- **질문:** 두 차트로 볼 때, 결혼 상태(MaritalStatus)에 따라 이직 여부(Attrition)가 달라지나요?"
   ]
  },
  {
   "cell_type": "code",
   "execution_count": null,
   "metadata": {
    "id": "59QW20ljbT-0"
   },
   "outputs": [],
   "source": [
    "# 이혼한 경우와 혼자사는 경우의 "
   ]
  },
  {
   "cell_type": "markdown",
   "metadata": {
    "id": "a5BGwhfKhgn2"
   },
   "source": [
    "**4️⃣ 야근 여부(OverTime) → 이직 여부(Attrition)**"
   ]
  },
  {
   "cell_type": "markdown",
   "metadata": {
    "id": "aUfl-Qb9hgn3"
   },
   "source": [
    "- 100% Stacked Bar"
   ]
  },
  {
   "cell_type": "code",
   "execution_count": 19,
   "metadata": {
    "id": "elP_2PP1hgn3"
   },
   "outputs": [
    {
     "data": {
      "image/png": "[encoded data removed]",
      "text/plain": [
       "<Figure size 600x400 with 1 Axes>"
      ]
     },
     "metadata": {
      "image/png": {
       "height": 371,
       "width": 516
      }
     },
     "output_type": "display_data"
    }
   ],
   "source": [
    "table = pd.crosstab(data['OverTime'], data['Attrition'], normalize='index')\n",
    "\n",
    "table.plot(kind='bar', stacked=True)\n",
    "\n",
    "plt.axhline(1-data['Attrition'].mean(), color='r')\n",
    "plt.xticks(rotation=0)\n",
    "plt.show()"
   ]
  },
  {
   "cell_type": "markdown",
   "metadata": {
    "id": "WghcXf1nhgn3"
   },
   "source": [
    "- Mosaic Plot"
   ]
  },
  {
   "cell_type": "code",
   "execution_count": 35,
   "metadata": {
    "id": "6QX9LvP6hgn4"
   },
   "outputs": [
    {
     "data": {
      "image/png": "[encoded data removed]",
      "text/plain": [
       "<Figure size 600x400 with 3 Axes>"
      ]
     },
     "metadata": {
      "image/png": {
       "height": 351,
       "width": 503
      }
     },
     "output_type": "display_data"
    }
   ],
   "source": [
    "mosaic(data, ['OverTime', 'Attrition'])\n",
    "plt.axhline(1-data['Attrition'].mean(), color='r')\n",
    "plt.show()\n"
   ]
  },
  {
   "cell_type": "markdown",
   "metadata": {
    "id": "RgtGaN6nhgn4"
   },
   "source": [
    "- **질문:** 두 차트로 볼 때, 야근 여부(OverTime)에 따라 이직 여부(Attrition)가 달라지나요?"
   ]
  },
  {
   "cell_type": "code",
   "execution_count": null,
   "metadata": {
    "id": "YEpYtny1hgn4"
   },
   "outputs": [],
   "source": [
    "#"
   ]
  },
  {
   "cell_type": "markdown",
   "metadata": {
    "id": "qSAqgxxidRKI"
   },
   "source": [
    "## **4. 수치화**\n",
    "\n",
    "- 카이제곱검정을 사용해 수치화해 비교해 보세요."
   ]
  },
  {
   "cell_type": "markdown",
   "metadata": {
    "id": "weRMH5a-0dao"
   },
   "source": [
    "**1️⃣ 성별(Gender) → 이직 여부(Attrition)**"
   ]
  },
  {
   "cell_type": "code",
   "execution_count": 22,
   "metadata": {
    "id": "F5z57Jd5dRKI"
   },
   "outputs": [
    {
     "name": "stdout",
     "output_type": "stream",
     "text": [
      "* 카이제곱통계량: 2.5537631338119975\n",
      "* p-value: 0.1100318964829815\n",
      "* 기대빈도:\n",
      " [[392.5326087  76.4673913]\n",
      " [608.4673913 118.5326087]]\n"
     ]
    }
   ],
   "source": [
    "table = pd.crosstab(data['Gender'], data['Attrition'])\n",
    "\n",
    "result = spst.chi2_contingency(table)\n",
    "print('* 카이제곱통계량:', result[0])\n",
    "print('* p-value:', result[1])\n",
    "print('* 기대빈도:\\n',result[3])"
   ]
  },
  {
   "cell_type": "markdown",
   "metadata": {
    "id": "NYGp1Chh0kvE"
   },
   "source": [
    "**2️⃣ 직무만족도(JobSatisfaction) → 이직 여부(Attrition)**"
   ]
  },
  {
   "cell_type": "code",
   "execution_count": 24,
   "metadata": {
    "id": "EYp-HFge0kvF"
   },
   "outputs": [
    {
     "name": "stdout",
     "output_type": "stream",
     "text": [
      "* 카이제곱통계량: 8.40684948576828\n",
      "* p-value: 0.0383107376547955\n",
      "* 기대빈도:\n",
      " [[203.38043478  39.61956522]\n",
      " [189.15217391  36.84782609]\n",
      " [296.2826087   57.7173913 ]\n",
      " [312.18478261  60.81521739]]\n"
     ]
    }
   ],
   "source": [
    "table = pd.crosstab(data['JobSatisfaction'], data['Attrition'])\n",
    "\n",
    "result = spst.chi2_contingency(table)\n",
    "print('* 카이제곱통계량:', result[0])\n",
    "print('* p-value:', result[1])\n",
    "print('* 기대빈도:\\n',result[3])"
   ]
  },
  {
   "cell_type": "markdown",
   "metadata": {
    "id": "qk1bHLp8bp0b"
   },
   "source": [
    "**3️⃣ 결혼 상태(MaritalStatus) → 이직 여부(Attrition)**"
   ]
  },
  {
   "cell_type": "code",
   "execution_count": 25,
   "metadata": {
    "id": "NkaTy-aXbqgO"
   },
   "outputs": [
    {
     "name": "stdout",
     "output_type": "stream",
     "text": [
      "* 카이제곱통계량: 47.82247929575401\n",
      "* p-value: 4.12553775054082e-11\n",
      "* 기대빈도:\n",
      " [[220.95652174  43.04347826]\n",
      " [458.65217391  89.34782609]\n",
      " [321.39130435  62.60869565]]\n"
     ]
    }
   ],
   "source": [
    "table = pd.crosstab(data['MaritalStatus'], data['Attrition'])\n",
    "\n",
    "result = spst.chi2_contingency(table)\n",
    "print('* 카이제곱통계량:', result[0])\n",
    "print('* p-value:', result[1])\n",
    "print('* 기대빈도:\\n',result[3])"
   ]
  },
  {
   "cell_type": "markdown",
   "metadata": {
    "id": "NQvHbogUiFcA"
   },
   "source": [
    "**4️⃣ 야근 여부(OverTime) → 이직 여부(Attrition)**"
   ]
  },
  {
   "cell_type": "code",
   "execution_count": 26,
   "metadata": {
    "id": "hOMnjtqbiFcB"
   },
   "outputs": [
    {
     "name": "stdout",
     "output_type": "stream",
     "text": [
      "* 카이제곱통계량: 71.28471646317081\n",
      "* p-value: 3.092218315896121e-17\n",
      "* 기대빈도:\n",
      " [[714.76086957 139.23913043]\n",
      " [286.23913043  55.76086957]]\n"
     ]
    }
   ],
   "source": [
    "table = pd.crosstab(data['OverTime'], data['Attrition'])\n",
    "\n",
    "result = spst.chi2_contingency(table)\n",
    "print('* 카이제곱통계량:', result[0])\n",
    "print('* p-value:', result[1])\n",
    "print('* 기대빈도:\\n',result[3])\n"
   ]
  }
 ],
 "metadata": {
  "colab": {
   "provenance": []
  },
  "kernelspec": {
   "display_name": "base",
   "language": "python",
   "name": "python3"
  },
  "language_info": {
   "codemirror_mode": {
    "name": "ipython",
    "version": 3
   },
   "file_extension": ".py",
   "mimetype": "text/x-python",
   "name": "python",
   "nbconvert_exporter": "python",
   "pygments_lexer": "ipython3",
   "version": "3.13.5"
  }
 },
 "nbformat": 4,
 "nbformat_minor": 4
}
