{
 "cells": [
  {
   "cell_type": "markdown",
   "metadata": {
    "id": "b3TDAdnvnSbh"
   },
   "source": [
    "<center><img src='https://raw.githubusercontent.com/Jangrae/img/master/title.png' width=500/></center>\n"
   ]
  },
  {
   "cell_type": "markdown",
   "metadata": {
    "id": "_l7yAOgFi2Nf"
   },
   "source": [
    "# **실습: 이변량 분석 ② - 범주형  → 수치형**"
   ]
  },
  {
   "cell_type": "markdown",
   "metadata": {
    "id": "4xHeN0hii2Ng"
   },
   "source": [
    "## **1. 환경준비**"
   ]
  },
  {
   "cell_type": "code",
   "execution_count": 1,
   "metadata": {
    "id": "BKzRei8Fi2Ng"
   },
   "outputs": [],
   "source": [
    "import numpy as np\n",
    "import pandas as pd\n",
    "import random as rd\n",
    "import matplotlib.pyplot as plt\n",
    "import seaborn as sns\n",
    "import scipy.stats as spst\n",
    "import warnings\n",
    "\n",
    "warnings.filterwarnings(action='ignore')\n",
    "%config InlineBackend.figure_format = 'retina'\n",
    "plt.rcParams['figure.figsize'] = (6, 4)"
   ]
  },
  {
   "cell_type": "code",
   "execution_count": 2,
   "metadata": {
    "id": "QxDXHhUSJW9n"
   },
   "outputs": [
    {
     "data": {
      "text/html": [
       "<div>\n",
       "<style scoped>\n",
       "    .dataframe tbody tr th:only-of-type {\n",
       "        vertical-align: middle;\n",
       "    }\n",
       "\n",
       "    .dataframe tbody tr th {\n",
       "        vertical-align: top;\n",
       "    }\n",
       "\n",
       "    .dataframe thead th {\n",
       "        text-align: right;\n",
       "    }\n",
       "</style>\n",
       "<table border=\"1\" class=\"dataframe\">\n",
       "  <thead>\n",
       "    <tr style=\"text-align: right;\">\n",
       "      <th></th>\n",
       "      <th>Sales</th>\n",
       "      <th>CompPrice</th>\n",
       "      <th>Income</th>\n",
       "      <th>Advertising</th>\n",
       "      <th>Population</th>\n",
       "      <th>Price</th>\n",
       "      <th>ShelveLoc</th>\n",
       "      <th>Age</th>\n",
       "      <th>Urban</th>\n",
       "      <th>US</th>\n",
       "    </tr>\n",
       "  </thead>\n",
       "  <tbody>\n",
       "    <tr>\n",
       "      <th>0</th>\n",
       "      <td>9.50</td>\n",
       "      <td>138</td>\n",
       "      <td>73</td>\n",
       "      <td>11</td>\n",
       "      <td>276</td>\n",
       "      <td>120</td>\n",
       "      <td>Bad</td>\n",
       "      <td>42</td>\n",
       "      <td>Yes</td>\n",
       "      <td>Yes</td>\n",
       "    </tr>\n",
       "    <tr>\n",
       "      <th>1</th>\n",
       "      <td>11.22</td>\n",
       "      <td>111</td>\n",
       "      <td>48</td>\n",
       "      <td>16</td>\n",
       "      <td>260</td>\n",
       "      <td>83</td>\n",
       "      <td>Good</td>\n",
       "      <td>65</td>\n",
       "      <td>Yes</td>\n",
       "      <td>Yes</td>\n",
       "    </tr>\n",
       "    <tr>\n",
       "      <th>2</th>\n",
       "      <td>10.06</td>\n",
       "      <td>113</td>\n",
       "      <td>35</td>\n",
       "      <td>10</td>\n",
       "      <td>269</td>\n",
       "      <td>80</td>\n",
       "      <td>Medium</td>\n",
       "      <td>59</td>\n",
       "      <td>Yes</td>\n",
       "      <td>Yes</td>\n",
       "    </tr>\n",
       "    <tr>\n",
       "      <th>3</th>\n",
       "      <td>7.40</td>\n",
       "      <td>117</td>\n",
       "      <td>100</td>\n",
       "      <td>4</td>\n",
       "      <td>466</td>\n",
       "      <td>97</td>\n",
       "      <td>Medium</td>\n",
       "      <td>55</td>\n",
       "      <td>Yes</td>\n",
       "      <td>Yes</td>\n",
       "    </tr>\n",
       "    <tr>\n",
       "      <th>4</th>\n",
       "      <td>4.15</td>\n",
       "      <td>141</td>\n",
       "      <td>64</td>\n",
       "      <td>3</td>\n",
       "      <td>340</td>\n",
       "      <td>128</td>\n",
       "      <td>Bad</td>\n",
       "      <td>38</td>\n",
       "      <td>Yes</td>\n",
       "      <td>No</td>\n",
       "    </tr>\n",
       "  </tbody>\n",
       "</table>\n",
       "</div>"
      ],
      "text/plain": [
       "   Sales  CompPrice  Income  Advertising  Population  Price ShelveLoc  Age  \\\n",
       "0   9.50        138      73           11         276    120       Bad   42   \n",
       "1  11.22        111      48           16         260     83      Good   65   \n",
       "2  10.06        113      35           10         269     80    Medium   59   \n",
       "3   7.40        117     100            4         466     97    Medium   55   \n",
       "4   4.15        141      64            3         340    128       Bad   38   \n",
       "\n",
       "  Urban   US  \n",
       "0   Yes  Yes  \n",
       "1   Yes  Yes  \n",
       "2   Yes  Yes  \n",
       "3   Yes  Yes  \n",
       "4   Yes   No  "
      ]
     },
     "execution_count": 2,
     "metadata": {},
     "output_type": "execute_result"
    }
   ],
   "source": [
    "# CarSeat 데이터\n",
    "path = 'https://raw.githubusercontent.com/Jangrae/csv/master/Carseats.csv'\n",
    "carseat = pd.read_csv(path)\n",
    "carseat.drop('Education', axis=1, inplace=True)\n",
    "carseat.head()"
   ]
  },
  {
   "cell_type": "markdown",
   "metadata": {
    "id": "zYKHwYHatC4k"
   },
   "source": [
    "**📋 데이터 정보**\n",
    "\n",
    "- Sales: 각 지역 판매량(단위: 1,000개)\n",
    "- CompPrice: 경쟁사 가격(단위: 달러)\n",
    "- Income: 지역 평균 소득(단위: 1,000달러)\n",
    "- Advertising: 각 지역, 회사의 광고 예산(단위: 1,000달러)\n",
    "- Population: 지역 인구수(단위: 1,000명)\n",
    "- Price: 자사 지역별 판매 가격\n",
    "- ShelveLoc: 진열 상태\n",
    "- Age: 지역 인구의 평균 연령\n",
    "- Urban: 도심 지역 여부(Yes, No)\n",
    "- US: 매장이 미국에 있는지 여부(Yes, No)"
   ]
  },
  {
   "cell_type": "markdown",
   "metadata": {
    "id": "iHhPo8ZEi2Ni"
   },
   "source": [
    "## **2. 시각화**\n",
    "\n",
    "- 다음 두 변수들 간의 관계를 평균 Bar Plot과 Box Plot으로 시각화해 확인하세요."
   ]
  },
  {
   "cell_type": "markdown",
   "metadata": {
    "id": "vXyzCbxGo1Q7"
   },
   "source": [
    "**1️⃣ 국내외 여부(US) → 판매량(Sales)**\n"
   ]
  },
  {
   "cell_type": "markdown",
   "metadata": {
    "id": "g91txzkqaA8S"
   },
   "source": [
    "- 평균 Bar Plot & Box Plot\n"
   ]
  },
  {
   "cell_type": "code",
   "execution_count": 3,
   "metadata": {
    "id": "pltVi_PBo1RD"
   },
   "outputs": [
    {
     "data": {
      "image/png": "[encoded data removed]",
      "text/plain": [
       "<Figure size 800x300 with 2 Axes>"
      ]
     },
     "metadata": {
      "image/png": {
       "height": 290,
       "width": 789
      }
     },
     "output_type": "display_data"
    }
   ],
   "source": [
    "plt.figure(figsize=(8, 3))\n",
    "plt.subplot(1, 2, 1)\n",
    "sns.barplot(x='US', y='Sales', data=carseat, palette='deep')\n",
    "plt.subplot(1, 2, 2)\n",
    "sns.boxplot(x='US', y='Sales', data=carseat, palette='deep')\n",
    "plt.tight_layout()\n",
    "plt.show()"
   ]
  },
  {
   "cell_type": "markdown",
   "metadata": {
    "id": "7doUqTzyJPIp"
   },
   "source": [
    "- **질문:** 국내외 여부(US)별 판매량(Sales)평균에 차이가 있나요?"
   ]
  },
  {
   "cell_type": "code",
   "execution_count": null,
   "metadata": {
    "id": "lnmGCKxCJPIp"
   },
   "outputs": [],
   "source": [
    "# 조금 차이가 있다"
   ]
  },
  {
   "cell_type": "markdown",
   "metadata": {
    "id": "UbgJIa4pIuZx"
   },
   "source": [
    "**2️⃣ 도심지역 여부(Urban) → 판매량(Sales)**"
   ]
  },
  {
   "cell_type": "markdown",
   "metadata": {
    "id": "0W15HMwCaTb9"
   },
   "source": [
    "\n",
    "- 평균 Bar Plot"
   ]
  },
  {
   "cell_type": "code",
   "execution_count": 4,
   "metadata": {
    "id": "VOWXvs2zIuZx"
   },
   "outputs": [
    {
     "data": {
      "image/png": "[encoded data removed]",
      "text/plain": [
       "<Figure size 800x300 with 2 Axes>"
      ]
     },
     "metadata": {
      "image/png": {
       "height": 290,
       "width": 789
      }
     },
     "output_type": "display_data"
    }
   ],
   "source": [
    "plt.figure(figsize=(8, 3))\n",
    "plt.subplot(1, 2, 1)\n",
    "sns.barplot(x='Urban', y='Sales', data=carseat, palette='deep')\n",
    "plt.subplot(1, 2, 2)\n",
    "sns.boxplot(x='Urban', y='Sales', data=carseat, palette='deep')\n",
    "plt.tight_layout()\n",
    "plt.show()"
   ]
  },
  {
   "cell_type": "markdown",
   "metadata": {
    "id": "7uJwL4cgIuZy"
   },
   "source": [
    "- **질문:** 도심지역 여부(Urban)별 판매량(Sales)평균에 차이가 있나요?"
   ]
  },
  {
   "cell_type": "code",
   "execution_count": null,
   "metadata": {
    "id": "GPhq96ECIuZy"
   },
   "outputs": [],
   "source": [
    "# 차이가 거의 다"
   ]
  },
  {
   "cell_type": "markdown",
   "metadata": {
    "id": "fTmk3R5azbOg"
   },
   "source": [
    "**3️⃣ 진열 상태(ShelveLoc) → 판매량(Sales)**"
   ]
  },
  {
   "cell_type": "markdown",
   "metadata": {
    "id": "FLO3ydWQaaOT"
   },
   "source": [
    "\n",
    "- 평균 Bar Plot"
   ]
  },
  {
   "cell_type": "code",
   "execution_count": 5,
   "metadata": {
    "id": "Ixesqpg_zbOh"
   },
   "outputs": [
    {
     "data": {
      "image/png": "[encoded data removed]",
      "text/plain": [
       "<Figure size 800x300 with 2 Axes>"
      ]
     },
     "metadata": {
      "image/png": {
       "height": 290,
       "width": 789
      }
     },
     "output_type": "display_data"
    }
   ],
   "source": [
    "plt.figure(figsize=(8, 3))\n",
    "plt.subplot(1, 2, 1)\n",
    "sns.barplot(x='ShelveLoc', y='Sales', data=carseat, palette='deep')\n",
    "plt.subplot(1, 2, 2)\n",
    "sns.boxplot(x='ShelveLoc', y='Sales', data=carseat, palette='deep')\n",
    "plt.tight_layout()\n",
    "plt.show()"
   ]
  },
  {
   "cell_type": "markdown",
   "metadata": {
    "id": "lOtaEfiOzbOi"
   },
   "source": [
    "- **질문:** 진열 상태(ShelveLoc)별 판매량(Sales) 평균에 차이가 있나요?"
   ]
  },
  {
   "cell_type": "code",
   "execution_count": null,
   "metadata": {
    "id": "BdLCMKk-zbOj"
   },
   "outputs": [],
   "source": [
    "# 차이가 있다"
   ]
  },
  {
   "cell_type": "markdown",
   "metadata": {
    "id": "FZzwZsP6i2Nm"
   },
   "source": [
    "## **3. 수치화**\n",
    "\n",
    "- 다음 두 변수들 간의 관계를 t-검정 또는 분산분석으로 수치화해 확인하세요."
   ]
  },
  {
   "cell_type": "markdown",
   "metadata": {
    "id": "9doDQ-yRpfli"
   },
   "source": [
    "**1️⃣ 국내외 여부(US) → 판매량(Sales)**"
   ]
  },
  {
   "cell_type": "code",
   "execution_count": 6,
   "metadata": {},
   "outputs": [
    {
     "data": {
      "text/html": [
       "<div>\n",
       "<style scoped>\n",
       "    .dataframe tbody tr th:only-of-type {\n",
       "        vertical-align: middle;\n",
       "    }\n",
       "\n",
       "    .dataframe tbody tr th {\n",
       "        vertical-align: top;\n",
       "    }\n",
       "\n",
       "    .dataframe thead th {\n",
       "        text-align: right;\n",
       "    }\n",
       "</style>\n",
       "<table border=\"1\" class=\"dataframe\">\n",
       "  <thead>\n",
       "    <tr style=\"text-align: right;\">\n",
       "      <th></th>\n",
       "      <th>Sales</th>\n",
       "      <th>CompPrice</th>\n",
       "      <th>Income</th>\n",
       "      <th>Advertising</th>\n",
       "      <th>Population</th>\n",
       "      <th>Price</th>\n",
       "      <th>ShelveLoc</th>\n",
       "      <th>Age</th>\n",
       "      <th>Urban</th>\n",
       "      <th>US</th>\n",
       "    </tr>\n",
       "  </thead>\n",
       "  <tbody>\n",
       "    <tr>\n",
       "      <th>0</th>\n",
       "      <td>9.50</td>\n",
       "      <td>138</td>\n",
       "      <td>73</td>\n",
       "      <td>11</td>\n",
       "      <td>276</td>\n",
       "      <td>120</td>\n",
       "      <td>Bad</td>\n",
       "      <td>42</td>\n",
       "      <td>Yes</td>\n",
       "      <td>Yes</td>\n",
       "    </tr>\n",
       "    <tr>\n",
       "      <th>1</th>\n",
       "      <td>11.22</td>\n",
       "      <td>111</td>\n",
       "      <td>48</td>\n",
       "      <td>16</td>\n",
       "      <td>260</td>\n",
       "      <td>83</td>\n",
       "      <td>Good</td>\n",
       "      <td>65</td>\n",
       "      <td>Yes</td>\n",
       "      <td>Yes</td>\n",
       "    </tr>\n",
       "    <tr>\n",
       "      <th>2</th>\n",
       "      <td>10.06</td>\n",
       "      <td>113</td>\n",
       "      <td>35</td>\n",
       "      <td>10</td>\n",
       "      <td>269</td>\n",
       "      <td>80</td>\n",
       "      <td>Medium</td>\n",
       "      <td>59</td>\n",
       "      <td>Yes</td>\n",
       "      <td>Yes</td>\n",
       "    </tr>\n",
       "    <tr>\n",
       "      <th>3</th>\n",
       "      <td>7.40</td>\n",
       "      <td>117</td>\n",
       "      <td>100</td>\n",
       "      <td>4</td>\n",
       "      <td>466</td>\n",
       "      <td>97</td>\n",
       "      <td>Medium</td>\n",
       "      <td>55</td>\n",
       "      <td>Yes</td>\n",
       "      <td>Yes</td>\n",
       "    </tr>\n",
       "    <tr>\n",
       "      <th>4</th>\n",
       "      <td>4.15</td>\n",
       "      <td>141</td>\n",
       "      <td>64</td>\n",
       "      <td>3</td>\n",
       "      <td>340</td>\n",
       "      <td>128</td>\n",
       "      <td>Bad</td>\n",
       "      <td>38</td>\n",
       "      <td>Yes</td>\n",
       "      <td>No</td>\n",
       "    </tr>\n",
       "  </tbody>\n",
       "</table>\n",
       "</div>"
      ],
      "text/plain": [
       "   Sales  CompPrice  Income  Advertising  Population  Price ShelveLoc  Age  \\\n",
       "0   9.50        138      73           11         276    120       Bad   42   \n",
       "1  11.22        111      48           16         260     83      Good   65   \n",
       "2  10.06        113      35           10         269     80    Medium   59   \n",
       "3   7.40        117     100            4         466     97    Medium   55   \n",
       "4   4.15        141      64            3         340    128       Bad   38   \n",
       "\n",
       "  Urban   US  \n",
       "0   Yes  Yes  \n",
       "1   Yes  Yes  \n",
       "2   Yes  Yes  \n",
       "3   Yes  Yes  \n",
       "4   Yes   No  "
      ]
     },
     "execution_count": 6,
     "metadata": {},
     "output_type": "execute_result"
    }
   ],
   "source": [
    "carseat.head()"
   ]
  },
  {
   "cell_type": "code",
   "execution_count": 8,
   "metadata": {},
   "outputs": [
    {
     "name": "stdout",
     "output_type": "stream",
     "text": [
      "* t-statistic: 3.589738747802499\n",
      "* p-value: 0.00037233958701471517\n"
     ]
    }
   ],
   "source": [
    "temp01 = carseat.loc[carseat['US']=='Yes', 'Sales']\n",
    "temp02 = carseat.loc[carseat['US']=='No', 'Sales']\n",
    "\n",
    "t_test = spst.ttest_ind(temp01, temp02)\n",
    "\n",
    "print('* t-statistic:', t_test[0])\n",
    "print('* p-value:', t_test[1])"
   ]
  },
  {
   "cell_type": "markdown",
   "metadata": {},
   "source": [
    "- **질문:**   p-value의 의미는?"
   ]
  },
  {
   "cell_type": "code",
   "execution_count": null,
   "metadata": {
    "id": "hdnDOsjppjPE"
   },
   "outputs": [],
   "source": [
    "#"
   ]
  },
  {
   "cell_type": "markdown",
   "metadata": {
    "id": "ZStrcbyKpjPF"
   },
   "source": [
    "- **질문:** t-검정 결과를 해석해 보세요."
   ]
  },
  {
   "cell_type": "code",
   "execution_count": null,
   "metadata": {
    "id": "z3ZDP5uqpjPF"
   },
   "outputs": [],
   "source": [
    "#"
   ]
  },
  {
   "cell_type": "markdown",
   "metadata": {
    "id": "0sa1FQ7NJmKt"
   },
   "source": [
    "**2️⃣ 도심지역 여부(Urban) → 판매량(Sales)**"
   ]
  },
  {
   "cell_type": "code",
   "execution_count": 9,
   "metadata": {
    "id": "9lTRKBKoJmKu"
   },
   "outputs": [
    {
     "name": "stdout",
     "output_type": "stream",
     "text": [
      "* t-statistic: -0.30765346670661126\n",
      "* p-value: 0.7585069603942775\n"
     ]
    }
   ],
   "source": [
    "temp01 = carseat.loc[carseat['Urban']=='Yes', 'Sales']\n",
    "temp02 = carseat.loc[carseat['Urban']=='No', 'Sales']\n",
    "\n",
    "t_test = spst.ttest_ind(temp01, temp02)\n",
    "\n",
    "print('* t-statistic:', t_test[0])\n",
    "print('* p-value:', t_test[1])\n"
   ]
  },
  {
   "cell_type": "markdown",
   "metadata": {
    "id": "XT9EMv5cJmKv"
   },
   "source": [
    "- **질문:** t-검정 결과를 해석해 보세요."
   ]
  },
  {
   "cell_type": "code",
   "execution_count": null,
   "metadata": {
    "id": "OIXuTMBCJmKw"
   },
   "outputs": [],
   "source": [
    "#"
   ]
  },
  {
   "cell_type": "markdown",
   "metadata": {
    "id": "fiUwL-p90IJH"
   },
   "source": [
    "**3️⃣ 진열 상태(ShelveLoc) → 판매량(Sales)**"
   ]
  },
  {
   "cell_type": "code",
   "execution_count": 14,
   "metadata": {
    "id": "V6Pij1G60y5T"
   },
   "outputs": [
    {
     "name": "stdout",
     "output_type": "stream",
     "text": [
      "* F-statistic: 92.22990509910348\n",
      "* p-value: 1.26693609015938e-33\n"
     ]
    }
   ],
   "source": [
    "temp01 = carseat.loc[carseat['ShelveLoc']=='Medium', 'Sales'] \n",
    "temp02 = carseat.loc[carseat['ShelveLoc']=='Good', 'Sales'] \n",
    "temp03 = carseat.loc[carseat['ShelveLoc']=='Bad', 'Sales']\n",
    "\n",
    "anova = spst.f_oneway(temp01, temp02, temp03)\n",
    "print('* F-statistic:', anova.statistic)\n",
    "print('* p-value:', anova.pvalue)\n"
   ]
  },
  {
   "cell_type": "markdown",
   "metadata": {
    "id": "1Xi8kzXT0y5U"
   },
   "source": [
    "- **질문:** ANOVA 결과를 해석해 보세요."
   ]
  },
  {
   "cell_type": "code",
   "execution_count": null,
   "metadata": {
    "id": "6FwRC59L0y5U"
   },
   "outputs": [],
   "source": [
    "# 진열 상태가 Good, Medium, Bad 일 때 매출 평균이 서로 다르다"
   ]
  }
 ],
 "metadata": {
  "colab": {
   "provenance": []
  },
  "kernelspec": {
   "display_name": "base",
   "language": "python",
   "name": "python3"
  },
  "language_info": {
   "codemirror_mode": {
    "name": "ipython",
    "version": 3
   },
   "file_extension": ".py",
   "mimetype": "text/x-python",
   "name": "python",
   "nbconvert_exporter": "python",
   "pygments_lexer": "ipython3",
   "version": "3.13.5"
  }
 },
 "nbformat": 4,
 "nbformat_minor": 4
}
